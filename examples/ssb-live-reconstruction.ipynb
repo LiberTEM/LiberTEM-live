{
 "cells": [
  {
   "cell_type": "markdown",
   "id": "restricted-manitoba",
   "metadata": {},
   "source": [
    "## Run Single Side Band (SSB) ptychography on Merlin live streams\n",
    "\n",
    "If you want to use this with the simulated data source, run something like this in the background:\n",
    "\n",
    "`libertem-live-mib-sim ~/Data/default.hdr --cached=MEM`\n",
    "\n",
    "On Linux, `MEMFD` is also supported as a cache. Use `NONE` to deactivate the cache.\n",
    "\n",
    "* Make sure to adjust the `SCAN_SIZE` below to match the scan of the data source!\n",
    "* This notebook requires the `bqplot` extra of LiberTEM: `pip install libertem[bqplot]`\n",
    "* This notebook requires the `ptychography40` package from https://github.com/Ptychography-4-0/ptychography"
   ]
  },
  {
   "cell_type": "code",
   "execution_count": 1,
   "id": "solar-wales",
   "metadata": {},
   "outputs": [],
   "source": [
    "# set this to the host/port where the merlin data server is listening:\n",
    "MERLIN_DATA_SOCKET = ('127.0.0.1', 6342)\n",
    "SCAN_SIZE = (128, 128)"
   ]
  },
  {
   "cell_type": "code",
   "execution_count": 2,
   "id": "sexual-decrease",
   "metadata": {},
   "outputs": [],
   "source": [
    "import time\n",
    "import logging\n",
    "from contextlib import contextmanager\n",
    "\n",
    "import numpy as np\n",
    "import ipywidgets"
   ]
  },
  {
   "cell_type": "code",
   "execution_count": 3,
   "id": "medium-interval",
   "metadata": {},
   "outputs": [],
   "source": [
    "logging.basicConfig(level=logging.INFO)"
   ]
  },
  {
   "cell_type": "code",
   "execution_count": 4,
   "id": "allied-identifier",
   "metadata": {},
   "outputs": [
    {
     "name": "stderr",
     "output_type": "stream",
     "text": [
      "INFO:empyre:Imported EMPyRe V-0.3.0 GIT-7531a074e8e81c3e02d65fad075edcd2c5408ad7\n"
     ]
    }
   ],
   "source": [
    "from libertem.corrections.coordinates import flip_y, rotate_deg, identity\n",
    "from libertem.common.container import MaskContainer\n",
    "from libertem.viz.bqp import BQLive2DPlot"
   ]
  },
  {
   "cell_type": "code",
   "execution_count": 5,
   "id": "present-album",
   "metadata": {},
   "outputs": [],
   "source": [
    "from libertem_live.api import LiveContext"
   ]
  },
  {
   "cell_type": "code",
   "execution_count": 6,
   "id": "smoking-incident",
   "metadata": {},
   "outputs": [],
   "source": [
    "from ptychography40.reconstruction.ssb import SSB_UDF, generate_masks\n",
    "from ptychography40.reconstruction.common import wavelength, get_shifted"
   ]
  },
  {
   "cell_type": "code",
   "execution_count": 7,
   "id": "representative-institution",
   "metadata": {},
   "outputs": [],
   "source": [
    "ctx = LiveContext()"
   ]
  },
  {
   "cell_type": "markdown",
   "id": "excess-restoration",
   "metadata": {},
   "source": [
    "### Camera setup"
   ]
  },
  {
   "cell_type": "code",
   "execution_count": 8,
   "id": "authorized-legislation",
   "metadata": {},
   "outputs": [],
   "source": [
    "@contextmanager\n",
    "def medipix_setup(dataset, udfs):\n",
    "    print(\"priming camera for acquisition\")\n",
    "    # TODO: medipix control socket commands go here\n",
    "\n",
    "    # dataset.source.set('numframes', 1024)\n",
    "    # dataset.source.set(...)\n",
    "\n",
    "    # microscope.start_scanning()\n",
    "    print(\"running acquisition\")\n",
    "    with dataset.start_acquisition():\n",
    "        yield\n",
    "    print(\"camera teardown\")\n",
    "    # teardown routines go here"
   ]
  },
  {
   "cell_type": "code",
   "execution_count": 9,
   "id": "liquid-breakfast",
   "metadata": {},
   "outputs": [],
   "source": [
    "ds = ctx.prepare_acquisition(\n",
    "    'merlin',\n",
    "    medipix_setup,\n",
    "    scan_size=SCAN_SIZE,\n",
    "    host=MERLIN_DATA_SOCKET[0],\n",
    "    port=MERLIN_DATA_SOCKET[1],\n",
    "    frames_per_partition=800,\n",
    "    pool_size=2\n",
    ")"
   ]
  },
  {
   "cell_type": "code",
   "execution_count": 10,
   "id": "incorporate-attraction",
   "metadata": {},
   "outputs": [],
   "source": [
    "def make_medipix_setup(data_source):\n",
    "    @contextmanager\n",
    "    def medipix_setup(dataset, udfs):\n",
    "        print(\"priming camera for acquisition\")\n",
    "        # TODO: medipix control socket commands go here?\n",
    "        \n",
    "        # mer.set('numframes', 1024)\n",
    "        # mer.set(...)\n",
    "        \n",
    "        with data_source:\n",
    "            yield\n",
    "        print(\"camera teardown\")\n",
    "    return medipix_setup"
   ]
  },
  {
   "cell_type": "markdown",
   "id": "anonymous-costs",
   "metadata": {},
   "source": [
    "### SSB setup\n",
    "\n",
    "See also https://ptychography-4-0.github.io/ptychography/algorithms/ssb.html for a more complete example!"
   ]
  },
  {
   "cell_type": "code",
   "execution_count": 11,
   "id": "modern-anniversary",
   "metadata": {},
   "outputs": [],
   "source": [
    "ds_shape_sig, ds_shape_nav = ds.shape.sig, ds.shape.nav\n",
    "\n",
    "# Acceleration voltage in keV\n",
    "U = 300\n",
    "rec_params = {\n",
    "    \"dtype\": np.float32,\n",
    "    \"lamb\": wavelength(U),\n",
    "    \"dpix\": 12.7e-12,\n",
    "    \"semiconv\": 22.1346e-3,  # 2020-05-18\n",
    "    \"semiconv_pix\": 31,  # 2020-05-18\n",
    "    # applied right to left\n",
    "    \"transformation\": rotate_deg(88) @ flip_y(),\n",
    "    \"cx\": 123,\n",
    "    \"cy\": 126,\n",
    "    \"cutoff\": 16,  # number of pixels: trotters smaller than this will be removed\n",
    "}\n",
    "cutoff_freq = np.float32('inf')\n",
    "\n",
    "mask_params = {\n",
    "    # Shape of the reconstructed area\n",
    "    'reconstruct_shape': tuple(ds.shape.nav),\n",
    "    # Shape of a detector frame\n",
    "    'mask_shape': tuple(ds.shape.sig),\n",
    "    # Use the faster shifting method to generate trotters\n",
    "    'method': 'shift',\n",
    "}"
   ]
  },
  {
   "cell_type": "code",
   "execution_count": 12,
   "id": "mental-tyler",
   "metadata": {},
   "outputs": [
    {
     "name": "stdout",
     "output_type": "stream",
     "text": [
      "Wall time: 8.29 s\n"
     ]
    }
   ],
   "source": [
    "%%time\n",
    "trotters = generate_masks(**rec_params, **mask_params)"
   ]
  },
  {
   "cell_type": "code",
   "execution_count": 13,
   "id": "immune-calculator",
   "metadata": {},
   "outputs": [
    {
     "name": "stderr",
     "output_type": "stream",
     "text": [
      "WARNING:libertem.common.container:Mask factory size 72596502 larger than warning limit 1048576, may be inefficient\n"
     ]
    }
   ],
   "source": [
    "mask_container = MaskContainer(\n",
    "    mask_factories=lambda: trotters, dtype=trotters.dtype, count=trotters.shape[0]\n",
    ")"
   ]
  },
  {
   "cell_type": "code",
   "execution_count": 14,
   "id": "prostate-theology",
   "metadata": {},
   "outputs": [],
   "source": [
    "ssb_udf = SSB_UDF(**rec_params, mask_container=mask_container)"
   ]
  },
  {
   "cell_type": "markdown",
   "id": "satellite-berlin",
   "metadata": {},
   "source": [
    "### SSB on live data"
   ]
  },
  {
   "cell_type": "code",
   "execution_count": 15,
   "id": "smoking-stream",
   "metadata": {},
   "outputs": [],
   "source": [
    "p0 = BQLive2DPlot(ds, ssb_udf, channel=\"phase\")\n",
    "p1 = BQLive2DPlot(ds, ssb_udf, channel=\"amplitude\")"
   ]
  },
  {
   "cell_type": "code",
   "execution_count": 16,
   "id": "dried-lawyer",
   "metadata": {},
   "outputs": [],
   "source": [
    "outputs = []\n",
    "\n",
    "for p in [p0, p1]:\n",
    "    # Capture the plots to display them in a grid later\n",
    "    output = ipywidgets.Output()\n",
    "    with output:\n",
    "        p.display()\n",
    "        # Some plot-specific tweaks for grid display\n",
    "        if isinstance(p, BQLive2DPlot):\n",
    "            p.figure.fig_margin={'top': 50, 'bottom': 0, 'left': 25, 'right': 25}\n",
    "            p.figure.layout.width = '400px'\n",
    "            p.figure.layout.height = '400px'\n",
    "        elif isinstance(p, MPLLive2DPlot):\n",
    "            p.fig.tight_layout()\n",
    "            p.fig.set_size_inches((3, 3))\n",
    "            p.fig.canvas.toolbar_position = 'bottom'\n",
    "    outputs.append(output)"
   ]
  },
  {
   "cell_type": "code",
   "execution_count": 17,
   "id": "cleared-trailer",
   "metadata": {},
   "outputs": [
    {
     "data": {
      "application/vnd.jupyter.widget-view+json": {
       "model_id": "08864b3c918f4dfa9254da0d08ab7f50",
       "version_major": 2,
       "version_minor": 0
      },
      "text/plain": [
       "HBox(children=(Output(), Output()))"
      ]
     },
     "metadata": {},
     "output_type": "display_data"
    }
   ],
   "source": [
    "ipywidgets.HBox(outputs)"
   ]
  },
  {
   "cell_type": "markdown",
   "id": "creative-paper",
   "metadata": {},
   "source": [
    "### Sample output\n",
    "\n",
    "The plots are not preserved when saving the notebook. They look like this:\n",
    "\n",
    "![sample plot](ssb-live.png)"
   ]
  },
  {
   "cell_type": "code",
   "execution_count": 18,
   "id": "pacific-blues",
   "metadata": {
    "scrolled": false
   },
   "outputs": [
    {
     "name": "stdout",
     "output_type": "stream",
     "text": [
      "priming camera for acquisition\n",
      "running acquisition\n",
      "camera teardown\n"
     ]
    },
    {
     "data": {
      "text/plain": [
       "({'fourier': <BufferWrapper kind=single dtype=complex64 extra_shape=(128, 128)>,\n",
       "  'complex': <BufferWrapper kind=single dtype=complex64 extra_shape=(128, 128)>,\n",
       "  'amplitude': <BufferWrapper kind=single dtype=float32 extra_shape=(128, 128)>,\n",
       "  'phase': <BufferWrapper kind=single dtype=float32 extra_shape=(128, 128)>},)"
      ]
     },
     "execution_count": 18,
     "metadata": {},
     "output_type": "execute_result"
    }
   ],
   "source": [
    "ctx.run_udf(dataset=ds, udf=[ssb_udf], plots=[p0, p1])"
   ]
  },
  {
   "cell_type": "code",
   "execution_count": null,
   "id": "australian-penguin",
   "metadata": {},
   "outputs": [],
   "source": []
  }
 ],
 "metadata": {
  "kernelspec": {
   "display_name": "Python 3",
   "language": "python",
   "name": "python3"
  },
  "language_info": {
   "codemirror_mode": {
    "name": "ipython",
    "version": 3
   },
   "file_extension": ".py",
   "mimetype": "text/x-python",
   "name": "python",
   "nbconvert_exporter": "python",
   "pygments_lexer": "ipython3",
   "version": "3.7.10"
  }
 },
 "nbformat": 4,
 "nbformat_minor": 5
}
