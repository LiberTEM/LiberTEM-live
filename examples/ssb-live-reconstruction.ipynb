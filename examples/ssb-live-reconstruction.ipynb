{
 "cells": [
  {
   "cell_type": "markdown",
   "id": "restricted-manitoba",
   "metadata": {},
   "source": [
    "## Run Single Side Band (SSB) ptychography on Merlin live streams\n",
    "\n",
    "If you want to use this with the simulated data source, run something like this in the background:\n",
    "\n",
    "`libertem-live-mib-sim ~/Data/default.hdr --cached=MEM --wait-trigger`\n",
    "\n",
    "On Linux, `MEMFD` is also supported as a cache. Use `NONE` to deactivate the cache.\n",
    "\n",
    "* Make sure to adjust the `SCAN_SIZE` below to match the scan of the data source!\n",
    "* This notebook requires the `bqplot` extra of LiberTEM: `pip install libertem[bqplot]`\n",
    "* This notebook requires the `ptychography40` package from https://github.com/Ptychography-4-0/ptychography"
   ]
  },
  {
   "cell_type": "code",
   "execution_count": 1,
   "id": "solar-wales",
   "metadata": {},
   "outputs": [],
   "source": [
    "# set this to the host/port where the merlin data server is listening:\n",
    "MERLIN_DATA_SOCKET = ('127.0.0.1', 6342)\n",
    "MERLIN_CONTROL_SOCKET = ('127.0.0.1', 6341)\n",
    "SCAN_SIZE = (128, 128)"
   ]
  },
  {
   "cell_type": "code",
   "execution_count": 24,
   "id": "imposed-wrestling",
   "metadata": {},
   "outputs": [],
   "source": [
    "# Used for the Merlin detector simulator to emulate hardware triggering\n",
    "SIM_TRIGGER_SOCKET = ('127.0.0.1', 6343)"
   ]
  },
  {
   "cell_type": "code",
   "execution_count": 2,
   "id": "defined-sheriff",
   "metadata": {},
   "outputs": [],
   "source": [
    "import concurrent.futures"
   ]
  },
  {
   "cell_type": "code",
   "execution_count": 3,
   "id": "sexual-decrease",
   "metadata": {},
   "outputs": [],
   "source": [
    "import time\n",
    "import logging\n",
    "\n",
    "import numpy as np\n",
    "import ipywidgets"
   ]
  },
  {
   "cell_type": "code",
   "execution_count": 4,
   "id": "medium-interval",
   "metadata": {},
   "outputs": [],
   "source": [
    "logging.basicConfig(level=logging.INFO)"
   ]
  },
  {
   "cell_type": "code",
   "execution_count": 5,
   "id": "allied-identifier",
   "metadata": {},
   "outputs": [
    {
     "name": "stderr",
     "output_type": "stream",
     "text": [
      "INFO:empyre:Imported EMPyRe V-0.3.1 GIT-e85a58daa6bbd861c3aa1fe26e1d609f376f1adc\n"
     ]
    }
   ],
   "source": [
    "from libertem.corrections.coordinates import flip_y, rotate_deg, identity\n",
    "from libertem.common.container import MaskContainer\n",
    "from libertem.viz.bqp import BQLive2DPlot"
   ]
  },
  {
   "cell_type": "code",
   "execution_count": 6,
   "id": "present-album",
   "metadata": {},
   "outputs": [],
   "source": [
    "from libertem_live.api import LiveContext\n",
    "from libertem_live.detectors.merlin import MerlinControl"
   ]
  },
  {
   "cell_type": "code",
   "execution_count": 7,
   "id": "smoking-incident",
   "metadata": {},
   "outputs": [],
   "source": [
    "from ptychography40.reconstruction.ssb import SSB_UDF, generate_masks\n",
    "from ptychography40.reconstruction.common import wavelength, get_shifted"
   ]
  },
  {
   "cell_type": "code",
   "execution_count": 8,
   "id": "developmental-turkish",
   "metadata": {},
   "outputs": [],
   "source": [
    "# Used here to emulate triggering and a blocking function that waits\n",
    "# for a scan to finish\n",
    "from libertem_live.detectors.merlin.sim import TriggerClient"
   ]
  },
  {
   "cell_type": "code",
   "execution_count": 9,
   "id": "representative-institution",
   "metadata": {},
   "outputs": [],
   "source": [
    "ctx = LiveContext()"
   ]
  },
  {
   "cell_type": "markdown",
   "id": "excess-restoration",
   "metadata": {},
   "source": [
    "### Camera setup"
   ]
  },
  {
   "cell_type": "code",
   "execution_count": 10,
   "id": "theoretical-decrease",
   "metadata": {},
   "outputs": [],
   "source": [
    "def microscope_setup(dwell_time=1e-3):\n",
    "    # Here go instructions to set dwell time and\n",
    "    # other scan parameters\n",
    "    # microscope.set_dwell_time(dwell_time)\n",
    "    pass\n",
    "\n",
    "def arm(c: MerlinControl):\n",
    "    print(\"Arming Merlin...\")\n",
    "    c.cmd('STARTACQUISITION')\n",
    "    print(\"Merlin ready for trigger.\")\n",
    "\n",
    "def set_nav(c: MerlinControl, aq):\n",
    "    height, width = aq.shape.nav\n",
    "    print(\"Setting resolution...\")\n",
    "    c.set('NUMFRAMESTOACQUIRE', height * width)\n",
    "    c.set('NUMFRAMESPERTRIGGER', width)  # One trigger per scan line\n",
    "    \n",
    "    # microscope.configure_scan(shape=aq.shape.nav)"
   ]
  },
  {
   "cell_type": "code",
   "execution_count": 11,
   "id": "premier-savings",
   "metadata": {},
   "outputs": [],
   "source": [
    "class AcquisitionState:\n",
    "    def __init__(self):\n",
    "        self.trigger_result = None\n",
    "\n",
    "    def set_trigger_result(self, result):\n",
    "        self.trigger_result = result"
   ]
  },
  {
   "cell_type": "code",
   "execution_count": 12,
   "id": "relevant-setup",
   "metadata": {},
   "outputs": [],
   "source": [
    "acquisition_state = AcquisitionState()\n",
    "pool = concurrent.futures.ThreadPoolExecutor(1)"
   ]
  },
  {
   "cell_type": "code",
   "execution_count": 13,
   "id": "superior-subject",
   "metadata": {},
   "outputs": [],
   "source": [
    "def trigger(aq):\n",
    "    print(\"Triggering!\")\n",
    "    # microscope.start_scanning()\n",
    "\n",
    "    time.sleep(1)\n",
    "    height, width = aq.shape.nav\n",
    "    \n",
    "    # do_scan = lambda: ceos.call.acquireScan(width=width, height=height+1, imageName=\"test\")\n",
    "    def do_scan():\n",
    "        '''\n",
    "        Emulated blocking scan function using the Merlin simulator\n",
    "        '''\n",
    "        print(\"do_scan()\")\n",
    "        tr = TriggerClient(*SIM_TRIGGER_SOCKET)\n",
    "        try:\n",
    "            tr.connect()\n",
    "            tr.trigger()\n",
    "            return tr.wait()\n",
    "        finally:\n",
    "            tr.close()\n",
    "            \n",
    "    fut = pool.submit(do_scan)\n",
    "    acquisition_state.set_trigger_result(fut)"
   ]
  },
  {
   "cell_type": "code",
   "execution_count": 14,
   "id": "authorized-legislation",
   "metadata": {},
   "outputs": [],
   "source": [
    "def merlin_setup(c: MerlinControl, dwell_time=1e-3, depth=12, save_path=None):\n",
    "    print(\"Setting Merlin acquisition parameters\")\n",
    "    # Here go commands to control the camera and the rest of the setup\n",
    "    # to perform an acquisition.\n",
    "\n",
    "    # The Merlin simulator currently accepts all kinds of commands\n",
    "    # and doesn't respond like a real Merlin detector.\n",
    "    c.set('CONTINUOUSRW', 1)\n",
    "    c.set('ACQUISITIONTIME' , dwell_time * 1e3)  # Time in miliseconds\n",
    "    c.set('COUNTERDEPTH', depth)\n",
    "    c.set('TRIGGERSTART', 3)\n",
    "    c.set('TRIGGERSTOP', 0)\n",
    "    c.set('RUNHEADLESS', 1)\n",
    "\n",
    "    if save_path is not None:\n",
    "        c.set('FILEENABLE', 1)\n",
    "        c.set('USETIMESTAMPING', 0)  # raw format with timestamping is buggy, we need to do it ourselves\n",
    "        c.set('FILEFORMAT', 2)  # raw format, less overhead?\n",
    "        c.set('FILEDIRECTORY', save_path)\n",
    "    else:\n",
    "        c.set('FILEENABLE', 0)\n",
    "\n",
    "    print(\"Finished Merlin setup.\")"
   ]
  },
  {
   "cell_type": "code",
   "execution_count": 15,
   "id": "liquid-breakfast",
   "metadata": {},
   "outputs": [],
   "source": [
    "aq = ctx.prepare_acquisition(\n",
    "    'merlin',\n",
    "    trigger=trigger,\n",
    "    scan_size=SCAN_SIZE,\n",
    "    host=MERLIN_DATA_SOCKET[0],\n",
    "    port=MERLIN_DATA_SOCKET[1],\n",
    "    frames_per_partition=800,\n",
    "    pool_size=2\n",
    ")"
   ]
  },
  {
   "cell_type": "markdown",
   "id": "anonymous-costs",
   "metadata": {},
   "source": [
    "### SSB setup\n",
    "\n",
    "See also https://ptychography-4-0.github.io/ptychography/algorithms/ssb.html for a more complete example!"
   ]
  },
  {
   "cell_type": "code",
   "execution_count": 16,
   "id": "modern-anniversary",
   "metadata": {},
   "outputs": [],
   "source": [
    "ds_shape_sig, ds_shape_nav = aq.shape.sig, aq.shape.nav\n",
    "\n",
    "# Acceleration voltage in keV\n",
    "U = 300\n",
    "rec_params = {\n",
    "    \"dtype\": np.float32,\n",
    "    \"lamb\": wavelength(U),\n",
    "    \"dpix\": 12.7e-12,\n",
    "    \"semiconv\": 22.1346e-3,  # 2020-05-18\n",
    "    \"semiconv_pix\": 31,  # 2020-05-18\n",
    "    # applied right to left\n",
    "    \"transformation\": rotate_deg(88) @ flip_y(),\n",
    "    \"cx\": 123,\n",
    "    \"cy\": 126,\n",
    "    \"cutoff\": 16,  # number of pixels: trotters smaller than this will be removed\n",
    "}\n",
    "cutoff_freq = np.float32('inf')\n",
    "\n",
    "mask_params = {\n",
    "    # Shape of the reconstructed area\n",
    "    'reconstruct_shape': tuple(aq.shape.nav),\n",
    "    # Shape of a detector frame\n",
    "    'mask_shape': tuple(aq.shape.sig),\n",
    "    # Use the faster shifting method to generate trotters\n",
    "    'method': 'shift',\n",
    "}"
   ]
  },
  {
   "cell_type": "code",
   "execution_count": 17,
   "id": "mental-tyler",
   "metadata": {},
   "outputs": [
    {
     "name": "stdout",
     "output_type": "stream",
     "text": [
      "CPU times: user 9.02 s, sys: 59.9 ms, total: 9.08 s\n",
      "Wall time: 9.09 s\n"
     ]
    }
   ],
   "source": [
    "%%time\n",
    "trotters = generate_masks(**rec_params, **mask_params)"
   ]
  },
  {
   "cell_type": "code",
   "execution_count": 18,
   "id": "immune-calculator",
   "metadata": {},
   "outputs": [
    {
     "name": "stderr",
     "output_type": "stream",
     "text": [
      "WARNING:libertem.common.container:Mask factory size 72596494 larger than warning limit 1048576, may be inefficient\n"
     ]
    }
   ],
   "source": [
    "mask_container = MaskContainer(\n",
    "    mask_factories=lambda: trotters, dtype=trotters.dtype, count=trotters.shape[0]\n",
    ")"
   ]
  },
  {
   "cell_type": "code",
   "execution_count": 19,
   "id": "prostate-theology",
   "metadata": {},
   "outputs": [],
   "source": [
    "ssb_udf = SSB_UDF(**rec_params, mask_container=mask_container)"
   ]
  },
  {
   "cell_type": "markdown",
   "id": "satellite-berlin",
   "metadata": {},
   "source": [
    "### SSB on live data"
   ]
  },
  {
   "cell_type": "code",
   "execution_count": 20,
   "id": "smoking-stream",
   "metadata": {},
   "outputs": [],
   "source": [
    "p0 = BQLive2DPlot(aq, ssb_udf, channel=\"phase\")\n",
    "p1 = BQLive2DPlot(aq, ssb_udf, channel=\"amplitude\")"
   ]
  },
  {
   "cell_type": "code",
   "execution_count": 21,
   "id": "dried-lawyer",
   "metadata": {},
   "outputs": [],
   "source": [
    "# NBVAL_IGNORE_OUTPUT\n",
    "# (output is ignored in nbval run because it somehow doesn't play nice with bqplot)\n",
    "\n",
    "outputs = []\n",
    "\n",
    "for p in [p0, p1]:\n",
    "    # Capture the plots to display them in a grid later\n",
    "    output = ipywidgets.Output()\n",
    "    with output:\n",
    "        p.display()\n",
    "        # Some plot-specific tweaks for grid display\n",
    "        if isinstance(p, BQLive2DPlot):\n",
    "            p.figure.fig_margin={'top': 50, 'bottom': 0, 'left': 25, 'right': 25}\n",
    "            p.figure.layout.width = '400px'\n",
    "            p.figure.layout.height = '400px'\n",
    "        elif isinstance(p, MPLLive2DPlot):\n",
    "            p.fig.tight_layout()\n",
    "            p.fig.set_size_inches((3, 3))\n",
    "            p.fig.canvas.toolbar_position = 'bottom'\n",
    "    outputs.append(output)"
   ]
  },
  {
   "cell_type": "code",
   "execution_count": 22,
   "id": "cleared-trailer",
   "metadata": {},
   "outputs": [
    {
     "data": {
      "application/vnd.jupyter.widget-view+json": {
       "model_id": "569762eca14f42dbb98922ea0ac5280b",
       "version_major": 2,
       "version_minor": 0
      },
      "text/plain": [
       "HBox(children=(Output(), Output()))"
      ]
     },
     "metadata": {},
     "output_type": "display_data"
    }
   ],
   "source": [
    "ipywidgets.HBox(outputs)"
   ]
  },
  {
   "cell_type": "markdown",
   "id": "creative-paper",
   "metadata": {},
   "source": [
    "### Sample output\n",
    "\n",
    "The plots are not preserved when saving the notebook. They look like this:\n",
    "\n",
    "![sample plot](ssb-live.png)"
   ]
  },
  {
   "cell_type": "code",
   "execution_count": 26,
   "id": "australian-penguin",
   "metadata": {},
   "outputs": [
    {
     "name": "stdout",
     "output_type": "stream",
     "text": [
      "Connecting Merlin control...\n",
      "Setting Merlin acquisition parameters\n",
      "Finished Merlin setup.\n",
      "Setting resolution...\n",
      "Arming Merlin...\n",
      "Merlin ready for trigger.\n",
      "Triggering!\n",
      "do_scan()\n",
      "Waiting for blocking scan function...\n",
      "result = None\n",
      "Finished.\n"
     ]
    }
   ],
   "source": [
    "c = MerlinControl(*MERLIN_CONTROL_SOCKET)\n",
    "\n",
    "print(\"Connecting Merlin control...\")\n",
    "with c:\n",
    "    merlin_setup(c)\n",
    "    microscope_setup()\n",
    "\n",
    "    set_nav(c, aq)\n",
    "    arm(c)\n",
    "try:\n",
    "    ctx.run_udf(dataset=aq, udf=[ssb_udf], plots=[p0, p1])\n",
    "finally:\n",
    "    try:\n",
    "        if acquisition_state.trigger_result is not None:\n",
    "            print(\"Waiting for blocking scan function...\")\n",
    "            print(f\"result = {acquisition_state.trigger_result.result()}\")\n",
    "    finally:\n",
    "        pass #microscope.stop_scanning()\n",
    "print(\"Finished.\")"
   ]
  },
  {
   "cell_type": "code",
   "execution_count": null,
   "id": "lightweight-suggestion",
   "metadata": {},
   "outputs": [],
   "source": []
  }
 ],
 "metadata": {
  "kernelspec": {
   "display_name": "Python 3",
   "language": "python",
   "name": "python3"
  },
  "language_info": {
   "codemirror_mode": {
    "name": "ipython",
    "version": 3
   },
   "file_extension": ".py",
   "mimetype": "text/x-python",
   "name": "python",
   "nbconvert_exporter": "python",
   "pygments_lexer": "ipython3",
   "version": "3.8.8"
  }
 },
 "nbformat": 4,
 "nbformat_minor": 5
}
