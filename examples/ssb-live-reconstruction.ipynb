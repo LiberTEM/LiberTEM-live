{
 "cells": [
  {
   "cell_type": "code",
   "execution_count": 1,
   "id": "smaller-softball",
   "metadata": {},
   "outputs": [],
   "source": [
    "%matplotlib nbagg\n",
    "%load_ext line_profiler"
   ]
  },
  {
   "cell_type": "code",
   "execution_count": 2,
   "id": "sexual-decrease",
   "metadata": {},
   "outputs": [],
   "source": [
    "import time\n",
    "import logging\n",
    "from contextlib import contextmanager\n",
    "\n",
    "import numpy as np\n",
    "import matplotlib.pyplot as plt"
   ]
  },
  {
   "cell_type": "code",
   "execution_count": 3,
   "id": "medium-interval",
   "metadata": {},
   "outputs": [],
   "source": [
    "logging.basicConfig(level=logging.INFO)"
   ]
  },
  {
   "cell_type": "code",
   "execution_count": 4,
   "id": "allied-identifier",
   "metadata": {},
   "outputs": [],
   "source": [
    "from libertem.corrections.coordinates import flip_y, rotate_deg, identity\n",
    "from libertem.masks import circular\n",
    "from libertem.common.container import MaskContainer"
   ]
  },
  {
   "cell_type": "code",
   "execution_count": 5,
   "id": "present-album",
   "metadata": {},
   "outputs": [
    {
     "name": "stderr",
     "output_type": "stream",
     "text": [
      "INFO:empyre:Imported EMPyRe V-0.3.1 GIT-e85a58daa6bbd861c3aa1fe26e1d609f376f1adc\n"
     ]
    }
   ],
   "source": [
    "from libertem_live.detectors.merlin import MerlinDataSocket, ReaderPool\n",
    "from libertem_live.detectors.merlin.dataset import LiveDataSet\n",
    "from libertem_live.api import LiveContext\n",
    "from libertem.viz.bqp import BQLivePlot"
   ]
  },
  {
   "cell_type": "code",
   "execution_count": 6,
   "id": "smoking-incident",
   "metadata": {},
   "outputs": [],
   "source": [
    "from ptychography40.reconstruction.ssb import SSB_UDF, generate_masks\n",
    "from ptychography40.reconstruction.common import wavelength, get_shifted"
   ]
  },
  {
   "cell_type": "markdown",
   "id": "excess-restoration",
   "metadata": {},
   "source": [
    "## Camera setup"
   ]
  },
  {
   "cell_type": "code",
   "execution_count": 7,
   "id": "authorized-legislation",
   "metadata": {},
   "outputs": [],
   "source": [
    "data_socket = MerlinDataSocket()\n",
    "pool = ReaderPool(backend=data_socket, pool_size=2)"
   ]
  },
  {
   "cell_type": "code",
   "execution_count": 20,
   "id": "liquid-breakfast",
   "metadata": {},
   "outputs": [],
   "source": [
    "ds = LiveDataSet(\n",
    "    scan_size=(128, 128),\n",
    "    data_socket=data_socket,\n",
    "    pool=pool,\n",
    "    frames_per_partition=2*128,\n",
    ")\n",
    "ds = ds.initialize(None)  # TODO: integrate into LiveContext.load or how it will be called"
   ]
  },
  {
   "cell_type": "code",
   "execution_count": 9,
   "id": "incorporate-attraction",
   "metadata": {},
   "outputs": [],
   "source": [
    "def make_medipix_setup(data_socket, pool):\n",
    "    @contextmanager\n",
    "    def medipix_setup(dataset, udfs):\n",
    "        print(\"priming camera for acquisition\")\n",
    "        # TODO: medipix control socket commands go here?\n",
    "        \n",
    "        # mer.set('numframes', 1024)\n",
    "        # mer.set(...)\n",
    "        \n",
    "        with data_socket:\n",
    "            yield\n",
    "        print(\"camera teardown\")\n",
    "    return medipix_setup"
   ]
  },
  {
   "cell_type": "code",
   "execution_count": 10,
   "id": "useful-cardiff",
   "metadata": {},
   "outputs": [],
   "source": [
    "livectx = LiveContext(make_medipix_setup(data_socket, pool))"
   ]
  },
  {
   "cell_type": "markdown",
   "id": "anonymous-costs",
   "metadata": {},
   "source": [
    "## SSB setup"
   ]
  },
  {
   "cell_type": "code",
   "execution_count": 11,
   "id": "modern-anniversary",
   "metadata": {},
   "outputs": [],
   "source": [
    "ds_shape_sig, ds_shape_nav = ds.shape.sig, ds.shape.nav\n",
    "\n",
    "# Acceleration voltage in keV\n",
    "U = 300\n",
    "rec_params = {\n",
    "    \"dtype\": np.float32,\n",
    "    \"lamb\": wavelength(U),\n",
    "    \"dpix\": 12.7e-12,\n",
    "    \"semiconv\": 22.1346e-3,  # 2020-05-18\n",
    "    \"semiconv_pix\": 31,  # 2020-05-18\n",
    "    # applied right to left\n",
    "    \"transformation\": rotate_deg(88) @ flip_y(),\n",
    "    \"cx\": 123,\n",
    "    \"cy\": 126,\n",
    "    \"cutoff\": 16,  # number of pixels: trotters smaller than this will be removed\n",
    "}\n",
    "cutoff_freq = np.float32('inf')\n",
    "\n",
    "mask_params = {\n",
    "    # Shape of the reconstructed area\n",
    "    'reconstruct_shape': tuple(ds.shape.nav),\n",
    "    # Shape of a detector frame\n",
    "    'mask_shape': tuple(ds.shape.sig),\n",
    "    # Use the faster shifting method to generate trotters\n",
    "    'method': 'shift',\n",
    "}"
   ]
  },
  {
   "cell_type": "code",
   "execution_count": 12,
   "id": "mental-tyler",
   "metadata": {},
   "outputs": [
    {
     "name": "stdout",
     "output_type": "stream",
     "text": [
      "CPU times: user 8.68 s, sys: 64.5 ms, total: 8.75 s\n",
      "Wall time: 8.75 s\n"
     ]
    }
   ],
   "source": [
    "%%time\n",
    "trotters = generate_masks(**rec_params, **mask_params)"
   ]
  },
  {
   "cell_type": "code",
   "execution_count": 13,
   "id": "recreational-inspector",
   "metadata": {},
   "outputs": [
    {
     "data": {
      "text/html": [
       "<table><tbody><tr><th style=\"text-align: left\">Format</th><td style=\"text-align: left\">coo</td></tr><tr><th style=\"text-align: left\">Data Type</th><td style=\"text-align: left\">float32</td></tr><tr><th style=\"text-align: left\">Shape</th><td style=\"text-align: left\">(8320, 256, 256)</td></tr><tr><th style=\"text-align: left\">nnz</th><td style=\"text-align: left\">2592705</td></tr><tr><th style=\"text-align: left\">Density</th><td style=\"text-align: left\">0.004754992631765513</td></tr><tr><th style=\"text-align: left\">Read-only</th><td style=\"text-align: left\">True</td></tr><tr><th style=\"text-align: left\">Size</th><td style=\"text-align: left\">69.2M</td></tr><tr><th style=\"text-align: left\">Storage ratio</th><td style=\"text-align: left\">0.0</td></tr></tbody></table>"
      ],
      "text/plain": [
       "<COO: shape=(8320, 256, 256), dtype=float32, nnz=2592705, fill_value=0.0>"
      ]
     },
     "execution_count": 13,
     "metadata": {},
     "output_type": "execute_result"
    }
   ],
   "source": [
    "trotters"
   ]
  },
  {
   "cell_type": "code",
   "execution_count": 14,
   "id": "immune-calculator",
   "metadata": {},
   "outputs": [
    {
     "name": "stderr",
     "output_type": "stream",
     "text": [
      "WARNING:libertem.common.container:Mask factory size 72596494 larger than warning limit 1048576, may be inefficient\n"
     ]
    }
   ],
   "source": [
    "mask_container = MaskContainer(\n",
    "    mask_factories=lambda: trotters, dtype=trotters.dtype, count=trotters.shape[0]\n",
    ")"
   ]
  },
  {
   "cell_type": "code",
   "execution_count": 15,
   "id": "prostate-theology",
   "metadata": {},
   "outputs": [],
   "source": [
    "ssb_udf = SSB_UDF(**rec_params, mask_container=mask_container)"
   ]
  },
  {
   "cell_type": "markdown",
   "id": "satellite-berlin",
   "metadata": {},
   "source": [
    "## SSB on live data"
   ]
  },
  {
   "cell_type": "code",
   "execution_count": 16,
   "id": "liable-protest",
   "metadata": {},
   "outputs": [],
   "source": [
    "from libertem.viz.bqp import BQLivePlot\n",
    "p0 = BQLivePlot(ds, ssb_udf, channel=\"phase\")\n",
    "p1 = BQLivePlot(ds, ssb_udf, channel=\"amplitude\")"
   ]
  },
  {
   "cell_type": "code",
   "execution_count": 17,
   "id": "precise-absence",
   "metadata": {},
   "outputs": [
    {
     "data": {
      "application/vnd.jupyter.widget-view+json": {
       "model_id": "d9d0815bd3e249a494605ce96ae729d4",
       "version_major": 2,
       "version_minor": 0
      },
      "text/plain": [
       "Figure(axes=[Axis(label='x', scale=LinearScale(max=1.0, min=0.0)), Axis(label='y', orientation='vertical', sca…"
      ]
     },
     "metadata": {},
     "output_type": "display_data"
    }
   ],
   "source": [
    "p1.display()"
   ]
  },
  {
   "cell_type": "code",
   "execution_count": 18,
   "id": "reserved-beijing",
   "metadata": {},
   "outputs": [
    {
     "data": {
      "application/vnd.jupyter.widget-view+json": {
       "model_id": "040577b03efb40009d8bce2f481b7d67",
       "version_major": 2,
       "version_minor": 0
      },
      "text/plain": [
       "Figure(axes=[Axis(label='x', scale=LinearScale(max=1.0, min=0.0)), Axis(label='y', orientation='vertical', sca…"
      ]
     },
     "metadata": {},
     "output_type": "display_data"
    }
   ],
   "source": [
    "p0.display()"
   ]
  },
  {
   "cell_type": "code",
   "execution_count": 21,
   "id": "pacific-blues",
   "metadata": {
    "scrolled": false
   },
   "outputs": [
    {
     "name": "stdout",
     "output_type": "stream",
     "text": [
      "priming camera for acquisition\n",
      "camera teardown\n"
     ]
    },
    {
     "data": {
      "text/plain": [
       "({'fourier': <BufferWrapper kind=single dtype=complex64 extra_shape=(128, 128)>,\n",
       "  'complex': <BufferWrapper kind=single dtype=complex64 extra_shape=(128, 128)>,\n",
       "  'amplitude': <BufferWrapper kind=single dtype=float32 extra_shape=(128, 128)>,\n",
       "  'phase': <BufferWrapper kind=single dtype=float32 extra_shape=(128, 128)>},)"
      ]
     },
     "execution_count": 21,
     "metadata": {},
     "output_type": "execute_result"
    }
   ],
   "source": [
    "livectx.run_udf(dataset=ds, udf=[ssb_udf], plots=[p0])"
   ]
  },
  {
   "cell_type": "markdown",
   "id": "vital-cedar",
   "metadata": {},
   "source": [
    "## Offline Data"
   ]
  },
  {
   "cell_type": "code",
   "execution_count": null,
   "id": "tight-shelter",
   "metadata": {},
   "outputs": [],
   "source": [
    "from libertem.api import Context"
   ]
  },
  {
   "cell_type": "code",
   "execution_count": null,
   "id": "british-beginning",
   "metadata": {},
   "outputs": [],
   "source": [
    "from libertem.executor.inline import InlineJobExecutor"
   ]
  },
  {
   "cell_type": "code",
   "execution_count": null,
   "id": "vocal-encounter",
   "metadata": {},
   "outputs": [],
   "source": [
    "ctx = Context(executor=InlineJobExecutor())"
   ]
  },
  {
   "cell_type": "code",
   "execution_count": null,
   "id": "perceived-township",
   "metadata": {},
   "outputs": [],
   "source": [
    "ds_offline = ctx.load(\"mib\", path=\"/cachedata/reference/MIB/20200518 165148/default.hdr\")"
   ]
  },
  {
   "cell_type": "code",
   "execution_count": null,
   "id": "fantastic-copying",
   "metadata": {},
   "outputs": [],
   "source": [
    "from libertem.udf.sum import SumUDF"
   ]
  },
  {
   "cell_type": "code",
   "execution_count": null,
   "id": "banned-myanmar",
   "metadata": {},
   "outputs": [],
   "source": [
    "%%time\n",
    "ctx.run_udf(dataset=ds_offline, udf=SumUDF())"
   ]
  },
  {
   "cell_type": "code",
   "execution_count": null,
   "id": "published-function",
   "metadata": {},
   "outputs": [],
   "source": [
    "%%time\n",
    "yarrrrrrr = ctx.run_udf(dataset=ds_offline, udf=ssb_udf)"
   ]
  },
  {
   "cell_type": "code",
   "execution_count": null,
   "id": "australian-penguin",
   "metadata": {},
   "outputs": [],
   "source": []
  }
 ],
 "metadata": {
  "kernelspec": {
   "display_name": "Python 3",
   "language": "python",
   "name": "python3"
  },
  "language_info": {
   "codemirror_mode": {
    "name": "ipython",
    "version": 3
   },
   "file_extension": ".py",
   "mimetype": "text/x-python",
   "name": "python",
   "nbconvert_exporter": "python",
   "pygments_lexer": "ipython3",
   "version": "3.8.8"
  }
 },
 "nbformat": 4,
 "nbformat_minor": 5
}
