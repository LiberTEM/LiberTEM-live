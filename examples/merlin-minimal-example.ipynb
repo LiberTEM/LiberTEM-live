{
 "cells": [
  {
   "cell_type": "markdown",
   "id": "63d34ccb",
   "metadata": {},
   "source": [
    "## Run UDFs on Merlin live streams - minimal example\n",
    "\n",
    "This is a minimal example that shows how to run LiberTEM user-defined functions (UDFs) on Merlin Medipix live data streams. This example assumes that triggering is set to soft trigger, and all other detector settings are already set to the correct values.\n",
    "\n",
    "* Make sure to adjust the `nav_shape` parameter below to match the scan of the data source!\n",
    "* This notebook requires the `bqplot` extra of LiberTEM: `pip install libertem[bqplot]`\n",
    "\n",
    "### Usage with the simulator\n",
    "\n",
    "If you want to use this with the simulated data source, run a simple Merlin simulator in the background that replays an MIB dataset:\n",
    "\n",
    "`libertem-live-mib-sim ~/Data/default.hdr --cached=MEM --wait-trigger`\n",
    "\n",
    "The `--wait-trigger` option is important for this notebook to function correctly since that allows to drain the data socket before an acquisition like it is necessary for a real-world Merlin detector.\n",
    "\n",
    "A suitable MIB dataset can be downloaded at https://zenodo.org/record/5113449.\n",
    "\n",
    "On Linux, `MEMFD` is also supported as a cache. Use `NONE` to deactivate the cache."
   ]
  },
  {
   "cell_type": "markdown",
   "id": "13a990d5",
   "metadata": {},
   "source": [
    "## Parameters"
   ]
  },
  {
   "cell_type": "code",
   "execution_count": 1,
   "id": "fa32224b",
   "metadata": {},
   "outputs": [],
   "source": [
    "# The shape of your scan, we assume a 2D scan here. adjust to match microscope settings:\n",
    "NAV_SHAPE = (128, 128)\n",
    "\n",
    "# Change this if you are running on a different host than the PC connected directly to the detector:\n",
    "HOST = '127.0.0.1'"
   ]
  },
  {
   "cell_type": "markdown",
   "id": "94ab255d",
   "metadata": {},
   "source": [
    "## General setup"
   ]
  },
  {
   "cell_type": "code",
   "execution_count": 2,
   "id": "c0f229d9",
   "metadata": {},
   "outputs": [],
   "source": [
    "from libertem_live.api import LiveContext, Hooks\n",
    "from libertem.viz.bqp import BQLive2DPlot"
   ]
  },
  {
   "cell_type": "code",
   "execution_count": 3,
   "id": "c0902f05",
   "metadata": {},
   "outputs": [],
   "source": [
    "ctx = LiveContext(\n",
    "    plot_class=BQLive2DPlot,  # use webgl based plotting for more efficient plot updates\n",
    ")"
   ]
  },
  {
   "cell_type": "markdown",
   "id": "8a8fd8e8",
   "metadata": {},
   "source": [
    "## Connection to the detector software\n",
    "\n",
    "Here, we connect to the detector software for the Merlin Medipix detector. This immediately establishes a connection, so that we get an early error. If you are using the `with conn: ...` construct, as shown below, this connection will be closed at the end of each acquisition."
   ]
  },
  {
   "cell_type": "code",
   "execution_count": 4,
   "id": "84f7a66c",
   "metadata": {},
   "outputs": [],
   "source": [
    "api_host = data_host = HOST\n",
    "\n",
    "conn = ctx.make_connection('merlin').open(\n",
    "    data_host=data_host,\n",
    "    data_port=6342,\n",
    "    api_host=api_host,\n",
    "    api_port=6341,\n",
    ")"
   ]
  },
  {
   "cell_type": "markdown",
   "id": "0d789a55",
   "metadata": {},
   "source": [
    "## What computation do we want to run on the live stream?"
   ]
  },
  {
   "cell_type": "code",
   "execution_count": 5,
   "id": "6ff9b76a",
   "metadata": {},
   "outputs": [],
   "source": [
    "# Sum all detector frames, result is a map of the detector\n",
    "from libertem.udf.sum import SumUDF\n",
    "\n",
    "# Sum up each detector frame, result is a bright field STEM image of the scan area\n",
    "from libertem.udf.sumsigudf import SumSigUDF\n",
    "\n",
    "# Sample individual detector frames from the live stream\n",
    "from libertem_live.udf.monitor import SignalMonitorUDF"
   ]
  },
  {
   "cell_type": "code",
   "execution_count": 6,
   "id": "1518f349",
   "metadata": {},
   "outputs": [],
   "source": [
    "udfs = [SumUDF(), SumSigUDF(), SignalMonitorUDF()]"
   ]
  },
  {
   "cell_type": "markdown",
   "id": "7e62ba62",
   "metadata": {},
   "source": [
    "### Integration Hooks\n",
    "\n",
    "A LiberTEM Live acquisition object can include a hooks object, so that LiberTEM Live can set off the acquisition as soon as it has connected to the camera and is ready to receive data. The `on_ready_for_data` function receives an environment as argument, from which you can access the current acquisition object as the attribute `aq`."
   ]
  },
  {
   "cell_type": "code",
   "execution_count": 7,
   "id": "f4d5d350",
   "metadata": {},
   "outputs": [],
   "source": [
    "class MerlinHooks(Hooks):\n",
    "    def __init__(self):\n",
    "        self.trigger_result = None\n",
    "        \n",
    "    def on_ready_for_data(self, env):\n",
    "        print(f\"Arming and triggering Merlin for a scan of {env.aq.shape.nav}...\")\n",
    "        with conn.control() as c:\n",
    "            # Arm the detector and sends the acquisition headers:\n",
    "            c.cmd('STARTACQUISITION')\n",
    "            c.cmd('SOFTTRIGGER')"
   ]
  },
  {
   "cell_type": "code",
   "execution_count": 8,
   "id": "e3094a57",
   "metadata": {},
   "outputs": [],
   "source": [
    "hooks = MerlinHooks()\n",
    "aq = ctx.make_acquisition(\n",
    "    conn=conn,\n",
    "    hooks=hooks,\n",
    "    nav_shape=NAV_SHAPE,\n",
    "\n",
    "    frames_per_partition=800,\n",
    ")"
   ]
  },
  {
   "cell_type": "markdown",
   "id": "488d3959",
   "metadata": {},
   "source": [
    "### Run one scan\n",
    "\n",
    "The live plots above are updated with the results"
   ]
  },
  {
   "cell_type": "code",
   "execution_count": 9,
   "id": "04e409cb",
   "metadata": {
    "scrolled": false
   },
   "outputs": [
    {
     "name": "stdout",
     "output_type": "stream",
     "text": [
      "Arming and triggering Merlin for a scan of (128, 128)...\n"
     ]
    },
    {
     "data": {
      "application/vnd.jupyter.widget-view+json": {
       "model_id": "3592b62450064a6d9d5e141d6dbb46d9",
       "version_major": 2,
       "version_minor": 0
      },
      "text/plain": [
       "Figure(axes=[Axis(label='x', scale=LinearScale(max=1.0, min=0.0)), Axis(label='y', orientation='vertical', sca…"
      ]
     },
     "metadata": {},
     "output_type": "display_data"
    },
    {
     "data": {
      "application/vnd.jupyter.widget-view+json": {
       "model_id": "3ae85eac863449adb6729424d53375dc",
       "version_major": 2,
       "version_minor": 0
      },
      "text/plain": [
       "Figure(axes=[Axis(label='x', scale=LinearScale(max=1.0, min=0.0)), Axis(label='y', orientation='vertical', sca…"
      ]
     },
     "metadata": {},
     "output_type": "display_data"
    },
    {
     "data": {
      "application/vnd.jupyter.widget-view+json": {
       "model_id": "c75a826e16b04f1d9d7973dca16ca4c3",
       "version_major": 2,
       "version_minor": 0
      },
      "text/plain": [
       "Figure(axes=[Axis(label='x', scale=LinearScale(max=1.0, min=0.0)), Axis(label='y', orientation='vertical', sca…"
      ]
     },
     "metadata": {},
     "output_type": "display_data"
    },
    {
     "name": "stdout",
     "output_type": "stream",
     "text": [
      "Finished.\n"
     ]
    }
   ],
   "source": [
    "# Using `with conn` to clean up the data connection after we are finished with the acquisition.\n",
    "# Afterwards, you can do the same again and a new connection will automatically be established.\n",
    "with conn:\n",
    "    \n",
    "    # This will call the `on_ready_for_data` hook defined above as soon as\n",
    "    # LiberTEM-live is ready to receive data.\n",
    "    ctx.run_udf(dataset=aq, udf=udfs, plots=True)\n",
    "    print(\"Finished.\")"
   ]
  },
  {
   "cell_type": "code",
   "execution_count": null,
   "id": "240bdee1",
   "metadata": {},
   "outputs": [],
   "source": []
  }
 ],
 "metadata": {
  "@webio": {
   "lastCommId": null,
   "lastKernelId": null
  },
  "kernelspec": {
   "display_name": "Python 3 (ipykernel)",
   "language": "python",
   "name": "python3"
  },
  "language_info": {
   "codemirror_mode": {
    "name": "ipython",
    "version": 3
   },
   "file_extension": ".py",
   "mimetype": "text/x-python",
   "name": "python",
   "nbconvert_exporter": "python",
   "pygments_lexer": "ipython3",
   "version": "3.9.7"
  }
 },
 "nbformat": 4,
 "nbformat_minor": 5
}
