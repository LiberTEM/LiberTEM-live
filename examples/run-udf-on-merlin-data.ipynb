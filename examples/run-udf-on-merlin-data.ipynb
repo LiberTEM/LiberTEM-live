{
 "cells": [
  {
   "cell_type": "markdown",
   "id": "descending-carpet",
   "metadata": {},
   "source": [
    "# Run UDFs on Merlin live streams\n",
    "\n",
    "If you want to use this with the simulated data source, run something like this in the background:\n",
    "\n",
    "`libertem-live-mib-sim ~/Data/default.hdr --cached=MEMFD` \n",
    "\n",
    "Make sure to adjust the `SCAN_SIZE` below to match the scan of the simulated data source."
   ]
  },
  {
   "cell_type": "code",
   "execution_count": 1,
   "id": "distinguished-onion",
   "metadata": {},
   "outputs": [],
   "source": [
    "# set this to the host/port where the merlin data server is listening:\n",
    "MERLIN_DATA_SOCKET = ('127.0.0.1', 6342)\n",
    "SCAN_SIZE = (186, 357)"
   ]
  },
  {
   "cell_type": "code",
   "execution_count": 2,
   "id": "solar-blend",
   "metadata": {},
   "outputs": [],
   "source": [
    "%matplotlib nbagg"
   ]
  },
  {
   "cell_type": "code",
   "execution_count": 3,
   "id": "after-particle",
   "metadata": {},
   "outputs": [],
   "source": [
    "import time\n",
    "import logging\n",
    "import numpy as np\n",
    "import matplotlib.pyplot as plt"
   ]
  },
  {
   "cell_type": "code",
   "execution_count": 4,
   "id": "antique-confirmation",
   "metadata": {},
   "outputs": [],
   "source": [
    "logging.basicConfig(level=logging.INFO)"
   ]
  },
  {
   "cell_type": "code",
   "execution_count": 5,
   "id": "together-stations",
   "metadata": {},
   "outputs": [],
   "source": [
    "from libertem.udf.sum import SumUDF\n",
    "from libertem.udf.stddev import StdDevUDF\n",
    "from libertem.udf.sumsigudf import SumSigUDF"
   ]
  },
  {
   "cell_type": "code",
   "execution_count": 6,
   "id": "greater-queensland",
   "metadata": {},
   "outputs": [],
   "source": [
    "from libertem_live.detectors.merlin import MerlinDataSocket, ReaderPool\n",
    "from libertem_live.detectors.merlin.dataset import LiveDataSet\n",
    "from libertem_live.api import LiveContext"
   ]
  },
  {
   "cell_type": "code",
   "execution_count": 7,
   "id": "configured-address",
   "metadata": {},
   "outputs": [],
   "source": [
    "data_socket = MerlinDataSocket(host=MERLIN_DATA_SOCKET[0], port=MERLIN_DATA_SOCKET[1])\n",
    "pool = ReaderPool(backend=data_socket, pool_size=2)"
   ]
  },
  {
   "cell_type": "code",
   "execution_count": 8,
   "id": "manual-magic",
   "metadata": {},
   "outputs": [],
   "source": [
    "ds = LiveDataSet(\n",
    "    scan_size=SCAN_SIZE,\n",
    "    data_socket=data_socket,\n",
    "    pool=pool,\n",
    "    frames_per_partition=8*SCAN_SIZE[1],\n",
    ")\n",
    "ds = ds.initialize(None)  # TODO: integrate into LiveContext.load or how it will be called"
   ]
  },
  {
   "cell_type": "code",
   "execution_count": 9,
   "id": "charming-economics",
   "metadata": {},
   "outputs": [],
   "source": [
    "# udfs = [SumUDF(), SumSigUDF(), StdDevUDF()]\n",
    "# udfs = [SumUDF(), SumSigUDF()]\n",
    "udfs = [SumUDF(), SumSigUDF()]"
   ]
  },
  {
   "cell_type": "code",
   "execution_count": 10,
   "id": "correct-seattle",
   "metadata": {},
   "outputs": [],
   "source": [
    "from contextlib import contextmanager"
   ]
  },
  {
   "cell_type": "code",
   "execution_count": 11,
   "id": "understanding-passage",
   "metadata": {},
   "outputs": [],
   "source": [
    "def make_medipix_setup(data_socket, pool):\n",
    "    @contextmanager\n",
    "    def medipix_setup(dataset, udfs):\n",
    "        print(\"priming camera for acquisition\")\n",
    "        # TODO: medipix control socket commands go here\n",
    "        \n",
    "        # mer.set('numframes', 1024)\n",
    "        # mer.set(...)\n",
    "        \n",
    "        # microscope.start_scanning()\n",
    "        \n",
    "        with data_socket:\n",
    "            yield\n",
    "        print(\"camera teardown\")\n",
    "    return medipix_setup"
   ]
  },
  {
   "cell_type": "code",
   "execution_count": 12,
   "id": "coated-cotton",
   "metadata": {},
   "outputs": [],
   "source": [
    "ctx = LiveContext(camera_setup=make_medipix_setup(data_socket, pool))"
   ]
  },
  {
   "cell_type": "code",
   "execution_count": 14,
   "id": "documented-words",
   "metadata": {},
   "outputs": [],
   "source": [
    "from libertem.viz.bqp import BQLivePlot"
   ]
  },
  {
   "cell_type": "code",
   "execution_count": 17,
   "id": "upper-monaco",
   "metadata": {},
   "outputs": [],
   "source": [
    "p0 = BQLivePlot(ds, udfs[1])"
   ]
  },
  {
   "cell_type": "code",
   "execution_count": 22,
   "id": "welcome-coordinator",
   "metadata": {},
   "outputs": [
    {
     "data": {
      "application/vnd.jupyter.widget-view+json": {
       "model_id": "7011d873d8d043bbbb93a15afcd7895f",
       "version_major": 2,
       "version_minor": 0
      },
      "text/plain": [
       "Figure(axes=[Axis(label='x', scale=LinearScale(max=1.0, min=0.0), side='bottom'), Axis(label='y', orientation=…"
      ]
     },
     "metadata": {},
     "output_type": "display_data"
    }
   ],
   "source": [
    "p0.display()"
   ]
  },
  {
   "cell_type": "code",
   "execution_count": 23,
   "id": "colored-catalyst",
   "metadata": {
    "scrolled": false
   },
   "outputs": [
    {
     "name": "stdout",
     "output_type": "stream",
     "text": [
      "priming camera for acquisition\n",
      "camera teardown\n"
     ]
    },
    {
     "data": {
      "text/plain": [
       "({'intensity': <BufferWrapper kind=nav dtype=float32 extra_shape=()>},)"
      ]
     },
     "execution_count": 23,
     "metadata": {},
     "output_type": "execute_result"
    }
   ],
   "source": [
    "ctx.run_udf(dataset=ds, udf=udfs[1], plots=[p0])"
   ]
  },
  {
   "cell_type": "code",
   "execution_count": null,
   "id": "pharmaceutical-processing",
   "metadata": {},
   "outputs": [],
   "source": []
  }
 ],
 "metadata": {
  "kernelspec": {
   "display_name": "libertem",
   "language": "python",
   "name": "libertem"
  },
  "language_info": {
   "codemirror_mode": {
    "name": "ipython",
    "version": 3
   },
   "file_extension": ".py",
   "mimetype": "text/x-python",
   "name": "python",
   "nbconvert_exporter": "python",
   "pygments_lexer": "ipython3",
   "version": "3.8.8"
  }
 },
 "nbformat": 4,
 "nbformat_minor": 5
}
