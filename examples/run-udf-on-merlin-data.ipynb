{
 "cells": [
  {
   "cell_type": "markdown",
   "id": "sophisticated-craft",
   "metadata": {},
   "source": [
    "## Run UDFs on Merlin live streams\n",
    "\n",
    "If you want to use this with the simulated data source, run something like this in the background:\n",
    "\n",
    "`libertem-live-mib-sim ~/Data/default.hdr --cached=MEM --wait-trigger`\n",
    "\n",
    "On Linux, `MEMFD` is also supported as a cache. Use `NONE` to deactivate the cache.\n",
    "\n",
    "* Make sure to adjust the `SCAN_SIZE` below to match the scan of the data source!\n",
    "* This notebook requires the `bqplot` extra of LiberTEM: `pip install libertem[bqplot]`"
   ]
  },
  {
   "cell_type": "code",
   "execution_count": 1,
   "id": "continuous-albert",
   "metadata": {},
   "outputs": [],
   "source": [
    "# Uncomment to use Matplotlib-based plots\n",
    "# This requires ipympl and allows to capture Matplotlib plots as ipywidgets.\n",
    "# %matplotlib widget"
   ]
  },
  {
   "cell_type": "code",
   "execution_count": 2,
   "id": "lightweight-government",
   "metadata": {},
   "outputs": [],
   "source": [
    "# set this to the host/port where the merlin data server is listening:\n",
    "MERLIN_DATA_SOCKET = ('127.0.0.1', 6342)\n",
    "MERLIN_CONTROL_SOCKET = ('127.0.0.1', 6341)\n",
    "SCAN_SIZE = (128, 128)"
   ]
  },
  {
   "cell_type": "code",
   "execution_count": 3,
   "id": "minute-things",
   "metadata": {},
   "outputs": [],
   "source": [
    "# Used for the Merlin detector simulator to emulate hardware triggering\n",
    "SIM_TRIGGER_SOCKET = ('127.0.0.1', 6343)"
   ]
  },
  {
   "cell_type": "code",
   "execution_count": 4,
   "id": "independent-spectrum",
   "metadata": {},
   "outputs": [],
   "source": [
    "import logging\n",
    "import time\n",
    "import concurrent.futures\n",
    "\n",
    "\n",
    "import numpy as np\n",
    "import ipywidgets\n",
    "from contextlib import contextmanager\n"
   ]
  },
  {
   "cell_type": "code",
   "execution_count": 5,
   "id": "favorite-fraction",
   "metadata": {},
   "outputs": [],
   "source": [
    "logging.basicConfig(level=logging.INFO)"
   ]
  },
  {
   "cell_type": "code",
   "execution_count": 6,
   "id": "large-spine",
   "metadata": {},
   "outputs": [
    {
     "name": "stderr",
     "output_type": "stream",
     "text": [
      "INFO:empyre:Imported EMPyRe V-0.3.1 GIT-e85a58daa6bbd861c3aa1fe26e1d609f376f1adc\n"
     ]
    }
   ],
   "source": [
    "# Sum all detector frames, result is a map of the detector\n",
    "from libertem.udf.sum import SumUDF\n",
    "# Sum up each detector frame, result is a bright field STEM image of the scan area\n",
    "from libertem.udf.sumsigudf import SumSigUDF\n",
    "\n",
    "# ImageGL-accelerated plot for fast live display\n",
    "from libertem.viz.bqp import BQLive2DPlot\n",
    "# Alternatively a version that uses the slower, but more mature Matplotlib\n",
    "from libertem.viz.mpl import MPLLive2DPlot"
   ]
  },
  {
   "cell_type": "code",
   "execution_count": 7,
   "id": "agricultural-authorization",
   "metadata": {},
   "outputs": [],
   "source": [
    "from libertem_live.api import LiveContext\n",
    "from libertem_live.detectors.merlin import MerlinControl\n",
    "from libertem_live.udf.monitor import SignalMonitorUDF"
   ]
  },
  {
   "cell_type": "code",
   "execution_count": 8,
   "id": "pursuant-negative",
   "metadata": {},
   "outputs": [],
   "source": [
    "# Used here to emulate triggering and a blocking function that waits\n",
    "# for a scan to finish\n",
    "from libertem_live.detectors.merlin.sim import TriggerClient"
   ]
  },
  {
   "cell_type": "code",
   "execution_count": 9,
   "id": "computational-salon",
   "metadata": {},
   "outputs": [],
   "source": [
    "ctx = LiveContext()"
   ]
  },
  {
   "cell_type": "markdown",
   "id": "fundamental-hurricane",
   "metadata": {},
   "source": [
    "### Camera setup routines\n",
    "\n",
    "Different from offline processing, the shape, type and content of a dataset is not predetermined in live processing.\n",
    "Instead, the data source has to be configured to supply the desired data. The functions here accept an acquisition object as a parameter to make it easier to configure a matching scan resolution."
   ]
  },
  {
   "cell_type": "code",
   "execution_count": 10,
   "id": "realistic-valley",
   "metadata": {},
   "outputs": [],
   "source": [
    "def merlin_setup(c: MerlinControl, dwell_time=1e-3, depth=12, save_path=None):\n",
    "    print(\"Setting Merlin acquisition parameters\")\n",
    "    # Here go commands to control the camera and the rest of the setup\n",
    "    # to perform an acquisition.\n",
    "\n",
    "    # The Merlin simulator currently accepts all kinds of commands\n",
    "    # and doesn't respond like a real Merlin detector.\n",
    "    c.set('CONTINUOUSRW', 1)\n",
    "    c.set('ACQUISITIONTIME' , dwell_time * 1e3)  # Time in miliseconds\n",
    "    c.set('COUNTERDEPTH', depth)\n",
    "    c.set('TRIGGERSTART', 3)\n",
    "    c.set('TRIGGERSTOP', 0)\n",
    "    c.set('RUNHEADLESS', 1)\n",
    "\n",
    "    if save_path is not None:\n",
    "        c.set('FILEENABLE', 1)\n",
    "        c.set('USETIMESTAMPING', 0)  # raw format with timestamping is buggy, we need to do it ourselves\n",
    "        c.set('FILEFORMAT', 2)  # raw format, less overhead?\n",
    "        c.set('FILEDIRECTORY', save_path)\n",
    "    else:\n",
    "        c.set('FILEENABLE', 0)\n",
    "\n",
    "    print(\"Finished Merlin setup.\")\n",
    "        \n",
    "def microscope_setup(dwell_time=1e-3):\n",
    "    # Here go instructions to set dwell time and\n",
    "    # other scan parameters\n",
    "    # microscope.set_dwell_time(dwell_time)\n",
    "    pass\n",
    "\n",
    "def arm(c: MerlinControl):\n",
    "    print(\"Arming Merlin...\")\n",
    "    c.cmd('STARTACQUISITION')\n",
    "    print(\"Merlin ready for trigger.\")\n",
    "    \n",
    "\n",
    "def set_nav(c: MerlinControl, aq):\n",
    "    height, width = aq.shape.nav\n",
    "    print(\"Setting resolution...\")\n",
    "    c.set('NUMFRAMESTOACQUIRE', height * width)\n",
    "    c.set('NUMFRAMESPERTRIGGER', width)  # One trigger per scan line\n",
    "    \n",
    "    # microscope.configure_scan(shape=aq.shape.nav)"
   ]
  },
  {
   "cell_type": "markdown",
   "id": "offensive-kernel",
   "metadata": {},
   "source": [
    "### Trigger function\n",
    "\n",
    "A LiberTEM Live acquisition object should include a trigger callback function so that LiberTEM Live can set off the acquisition as soon as it has connected to the camera and is ready to receive data."
   ]
  },
  {
   "cell_type": "code",
   "execution_count": 11,
   "id": "massive-dialogue",
   "metadata": {},
   "outputs": [],
   "source": [
    "class AcquisitionState:\n",
    "    def __init__(self):\n",
    "        self.trigger_result = None\n",
    "\n",
    "    def set_trigger_result(self, result):\n",
    "        self.trigger_result = result"
   ]
  },
  {
   "cell_type": "code",
   "execution_count": 12,
   "id": "indoor-example",
   "metadata": {},
   "outputs": [],
   "source": [
    "acquisition_state = AcquisitionState()"
   ]
  },
  {
   "cell_type": "code",
   "execution_count": 13,
   "id": "comparative-morning",
   "metadata": {},
   "outputs": [],
   "source": [
    "pool = concurrent.futures.ThreadPoolExecutor(1)"
   ]
  },
  {
   "cell_type": "code",
   "execution_count": 14,
   "id": "suited-reasoning",
   "metadata": {},
   "outputs": [],
   "source": [
    "def trigger(aq):\n",
    "    print(\"Triggering!\")\n",
    "    # microscope.start_scanning()\n",
    "\n",
    "    time.sleep(1)\n",
    "    height, width = aq.shape.nav\n",
    "    \n",
    "    # do_scan = lambda: ceos.call.acquireScan(width=width, height=height+1, imageName=\"test\")\n",
    "    def do_scan():\n",
    "        '''\n",
    "        Emulated blocking scan function using the Merlin simulator\n",
    "        '''\n",
    "        print(\"do_scan()\")\n",
    "        tr = TriggerClient(*SIM_TRIGGER_SOCKET)\n",
    "        try:\n",
    "            tr.connect()\n",
    "            tr.trigger()\n",
    "            return tr.wait()\n",
    "        finally:\n",
    "            tr.close()\n",
    "            \n",
    "    fut = pool.submit(do_scan)\n",
    "    acquisition_state.set_trigger_result(fut)"
   ]
  },
  {
   "cell_type": "code",
   "execution_count": 15,
   "id": "unlikely-region",
   "metadata": {},
   "outputs": [],
   "source": [
    "aq = ctx.prepare_acquisition(\n",
    "    'merlin',\n",
    "    trigger=trigger,\n",
    "    scan_size=SCAN_SIZE,\n",
    "    host=MERLIN_DATA_SOCKET[0],\n",
    "    port=MERLIN_DATA_SOCKET[1],\n",
    "    frames_per_partition=800,\n",
    "    pool_size=2,\n",
    "    timeout=5,\n",
    ")"
   ]
  },
  {
   "cell_type": "code",
   "execution_count": 16,
   "id": "bacterial-thursday",
   "metadata": {},
   "outputs": [],
   "source": [
    "udfs = [SumUDF(), SumSigUDF(), SignalMonitorUDF()]"
   ]
  },
  {
   "cell_type": "code",
   "execution_count": 17,
   "id": "valid-iceland",
   "metadata": {},
   "outputs": [],
   "source": [
    "LivePlot = BQLive2DPlot\n",
    "# Uncomment below to use Matplotlib-based plotting\n",
    "# See also the top of the notebook to select the correct matplotlib backend\n",
    "# LivePlot = MPLLive2DPlot\n",
    "\n",
    "p0 = LivePlot(aq, udfs[0])\n",
    "p1 = LivePlot(aq, udfs[1])\n",
    "p2 = LivePlot(aq, udfs[2])"
   ]
  },
  {
   "cell_type": "code",
   "execution_count": 18,
   "id": "general-variable",
   "metadata": {},
   "outputs": [],
   "source": [
    "# NBVAL_IGNORE_OUTPUT\n",
    "# (output is ignored in nbval run because it somehow doesn't play nice with bqplot)\n",
    "\n",
    "outputs = []\n",
    "\n",
    "for p in [p0, p1, p2]:\n",
    "    # Capture the plots to display them in a grid later\n",
    "    output = ipywidgets.Output()\n",
    "    with output:\n",
    "        p.display()\n",
    "        # Some plot-specific tweaks for grid display\n",
    "        if isinstance(p, BQLive2DPlot):\n",
    "            p.figure.fig_margin={'top': 50, 'bottom': 0, 'left': 25, 'right': 25}\n",
    "            p.figure.layout.width = '300px'\n",
    "            p.figure.layout.height = '300px'\n",
    "        elif isinstance(p, MPLLive2DPlot):\n",
    "            p.fig.tight_layout()\n",
    "            p.fig.set_size_inches((3, 3))\n",
    "            p.fig.canvas.toolbar_position = 'bottom'\n",
    "    outputs.append(output)"
   ]
  },
  {
   "cell_type": "code",
   "execution_count": 19,
   "id": "nearby-seafood",
   "metadata": {},
   "outputs": [
    {
     "data": {
      "application/vnd.jupyter.widget-view+json": {
       "model_id": "1e706115c547486cb61f7445f0b9ee55",
       "version_major": 2,
       "version_minor": 0
      },
      "text/plain": [
       "HBox(children=(Output(), Output(), Output()))"
      ]
     },
     "metadata": {},
     "output_type": "display_data"
    }
   ],
   "source": [
    "# Show the plot grid\n",
    "ipywidgets.HBox(outputs)"
   ]
  },
  {
   "cell_type": "markdown",
   "id": "political-slovak",
   "metadata": {},
   "source": [
    "### Sample output\n",
    "\n",
    "The plots are not preserved when saving the notebook. They look like this:\n",
    "\n",
    "![sample plot](run_on_merlin_data.png)"
   ]
  },
  {
   "cell_type": "markdown",
   "id": "available-inflation",
   "metadata": {},
   "source": [
    "### Run one scan\n",
    "\n",
    "The live plots above are updated with the results"
   ]
  },
  {
   "cell_type": "code",
   "execution_count": 20,
   "id": "hungry-tooth",
   "metadata": {
    "scrolled": false
   },
   "outputs": [
    {
     "name": "stdout",
     "output_type": "stream",
     "text": [
      "Connecting Merlin control...\n",
      "Setting Merlin acquisition parameters\n",
      "Finished Merlin setup.\n",
      "Setting resolution...\n",
      "Arming Merlin...\n",
      "Merlin ready for trigger.\n",
      "Triggering!\n",
      "do_scan()\n",
      "Waiting for blocking scan function...\n",
      "result = None\n",
      "Finished.\n"
     ]
    }
   ],
   "source": [
    "c = MerlinControl(*MERLIN_CONTROL_SOCKET)\n",
    "\n",
    "print(\"Connecting Merlin control...\")\n",
    "with c:\n",
    "    merlin_setup(c)\n",
    "    microscope_setup()\n",
    "\n",
    "    set_nav(c, aq)\n",
    "    arm(c)\n",
    "try:\n",
    "    ctx.run_udf(dataset=aq, udf=udfs, plots=[p0, p1, p2])\n",
    "finally:\n",
    "    try:\n",
    "        if acquisition_state.trigger_result is not None:\n",
    "            print(\"Waiting for blocking scan function...\")\n",
    "            print(f\"result = {acquisition_state.trigger_result.result()}\")\n",
    "    finally:\n",
    "        pass #microscope.stop_scanning()\n",
    "print(\"Finished.\")"
   ]
  },
  {
   "cell_type": "code",
   "execution_count": null,
   "id": "ahead-anxiety",
   "metadata": {},
   "outputs": [],
   "source": []
  }
 ],
 "metadata": {
  "kernelspec": {
   "display_name": "Python 3",
   "language": "python",
   "name": "python3"
  },
  "language_info": {
   "codemirror_mode": {
    "name": "ipython",
    "version": 3
   },
   "file_extension": ".py",
   "mimetype": "text/x-python",
   "name": "python",
   "nbconvert_exporter": "python",
   "pygments_lexer": "ipython3",
   "version": "3.8.8"
  }
 },
 "nbformat": 4,
 "nbformat_minor": 5
}
