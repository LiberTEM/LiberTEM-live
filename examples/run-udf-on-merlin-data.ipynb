{
 "cells": [
  {
   "cell_type": "markdown",
   "id": "descending-carpet",
   "metadata": {},
   "source": [
    "## Run UDFs on Merlin live streams\n",
    "\n",
    "If you want to use this with the simulated data source, run something like this in the background:\n",
    "\n",
    "`libertem-live-mib-sim ~/Data/default.hdr --cached=MEM`\n",
    "\n",
    "On Linux, `MEMFD` is also supported as a cache. Use `NONE` to deactivate the cache.\n",
    "\n",
    "* Make sure to adjust the `SCAN_SIZE` below to match the scan of the data source!\n",
    "* This notebook requires the `bqplot` extra of LiberTEM: `pip install libertem[bqplot]`"
   ]
  },
  {
   "cell_type": "code",
   "execution_count": 1,
   "id": "passing-illness",
   "metadata": {},
   "outputs": [],
   "source": [
    "# Uncomment to use Matplotlib-based plots\n",
    "# This requires ipympl and allows to capture Matplotlib plots as ipywidgets.\n",
    "# %matplotlib widget"
   ]
  },
  {
   "cell_type": "code",
   "execution_count": 2,
   "id": "distinguished-onion",
   "metadata": {},
   "outputs": [],
   "source": [
    "# set this to the host/port where the merlin data server is listening:\n",
    "MERLIN_DATA_SOCKET = ('127.0.0.1', 6342)\n",
    "MERLIN_CONTROL_SOCKET = ('127.0.0.1', 6341)\n",
    "SCAN_SIZE = (128, 128)"
   ]
  },
  {
   "cell_type": "code",
   "execution_count": 3,
   "id": "after-particle",
   "metadata": {},
   "outputs": [],
   "source": [
    "import logging\n",
    "import time\n",
    "\n",
    "import numpy as np\n",
    "import ipywidgets\n",
    "from contextlib import contextmanager"
   ]
  },
  {
   "cell_type": "code",
   "execution_count": 4,
   "id": "antique-confirmation",
   "metadata": {},
   "outputs": [],
   "source": [
    "logging.basicConfig(level=logging.INFO)"
   ]
  },
  {
   "cell_type": "code",
   "execution_count": 5,
   "id": "together-stations",
   "metadata": {},
   "outputs": [
    {
     "name": "stderr",
     "output_type": "stream",
     "text": [
      "INFO:empyre:Imported EMPyRe V-0.3.0 GIT-7531a074e8e81c3e02d65fad075edcd2c5408ad7\n"
     ]
    }
   ],
   "source": [
    "# Sum all detector frames, result is a map of the detector\n",
    "from libertem.udf.sum import SumUDF\n",
    "# Sum up each detector frame, result is a bright field STEM image of the scan area\n",
    "from libertem.udf.sumsigudf import SumSigUDF\n",
    "\n",
    "# ImageGL-accelerated plot for fast live display\n",
    "from libertem.viz.bqp import BQLive2DPlot\n",
    "# Alternatively a version that uses the slower, but more mature Matplotlib\n",
    "from libertem.viz.mpl import MPLLive2DPlot"
   ]
  },
  {
   "cell_type": "code",
   "execution_count": 6,
   "id": "greater-queensland",
   "metadata": {},
   "outputs": [],
   "source": [
    "from libertem_live.api import LiveContext\n",
    "from libertem_live.detectors.merlin import MerlinControl\n",
    "from libertem_live.udf.monitor import SignalMonitorUDF"
   ]
  },
  {
   "cell_type": "code",
   "execution_count": 7,
   "id": "dress-threat",
   "metadata": {},
   "outputs": [],
   "source": [
    "ctx = LiveContext()"
   ]
  },
  {
   "cell_type": "markdown",
   "id": "changed-james",
   "metadata": {},
   "source": [
    "### Camera setup routines\n",
    "\n",
    "Different from offline processing, the shape, type and content of a dataset is not predetermined in live processing.\n",
    "Instead, the data source has to be configured to supply the desired data. The functions here accept an acquisition object as a parameter to make it easier to configure a matching scan resolution."
   ]
  },
  {
   "cell_type": "code",
   "execution_count": 8,
   "id": "ancient-commons",
   "metadata": {},
   "outputs": [],
   "source": [
    "def merlin_setup(c: MerlinControl, dwell_time=1e-3, depth=12, save_path=None):\n",
    "    print(\"Setting Merlin acquisition parameters\")\n",
    "    # Here go commands to control the camera and the rest of the setup\n",
    "    # to perform an acquisition.\n",
    "\n",
    "    # The Merlin simulator currently accepts all kinds of commands\n",
    "    # and doesn't respond like a real Merlin detector.\n",
    "    c.set('CONTINUOUSRW', 1)\n",
    "    c.set('ACQUISITIONTIME' , dwell_time * 1e3)  # Time in miliseconds\n",
    "    c.set('COUNTERDEPTH', depth)\n",
    "    c.set('TRIGGERSTART', 3)\n",
    "    c.set('TRIGGERSTOP', 0)\n",
    "    c.set('RUNHEADLESS', 1)\n",
    "\n",
    "    if save_path is not None:\n",
    "        c.set('FILEENABLE', 1)\n",
    "        c.set('USETIMESTAMPING', 0)  # raw format with timestamping is buggy, we need to do it ourselves\n",
    "        c.set('FILEFORMAT', 2)  # raw format, less overhead?\n",
    "        c.set('FILEDIRECTORY', save_path)\n",
    "    else:\n",
    "        c.set('FILEENABLE', 0)\n",
    "\n",
    "\n",
    "    print(\"Finished Merlin setup.\")\n",
    "        \n",
    "def microscope_setup(dwell_time=1e-3):\n",
    "    # Here go instructions to set dwell time and\n",
    "    # other scan parameters\n",
    "    # microscope.set_dwell_time(dwell_time)\n",
    "    pass\n",
    "\n",
    "def arm(c: MerlinControl):\n",
    "    print(\"Arming Merlin...\")\n",
    "    c.cmd('STARTACQUISITION')\n",
    "    print(\"Merlin ready for trigger.\")\n",
    "    \n",
    "\n",
    "def set_nav(c: MerlinControl, aq):\n",
    "    height, width = aq.shape.nav\n",
    "    print(\"Setting resolution...\")\n",
    "    c.set('NUMFRAMESTOACQUIRE', height * width)\n",
    "    c.set('NUMFRAMESPERTRIGGER', width)  # One trigger per scan line\n",
    "    \n",
    "    # microscope.configure_scan(shape=aq.shape.nav)"
   ]
  },
  {
   "cell_type": "markdown",
   "id": "characteristic-workshop",
   "metadata": {},
   "source": [
    "### Trigger function\n",
    "\n",
    "A LiberTEM Live acquisition object should include a trigger callback function so that LiberTEM Live can set off the acquisition as soon as it has connected to the camera and is ready to receive data."
   ]
  },
  {
   "cell_type": "code",
   "execution_count": 9,
   "id": "noble-journal",
   "metadata": {},
   "outputs": [],
   "source": [
    "def trigger():\n",
    "    print(\"Triggering!\")\n",
    "    # scan_engine.trigger_scan()"
   ]
  },
  {
   "cell_type": "code",
   "execution_count": 10,
   "id": "incorporated-antenna",
   "metadata": {},
   "outputs": [],
   "source": [
    "aq = ctx.prepare_acquisition(\n",
    "    'merlin',\n",
    "    trigger=trigger,\n",
    "    scan_size=SCAN_SIZE,\n",
    "    host=MERLIN_DATA_SOCKET[0],\n",
    "    port=MERLIN_DATA_SOCKET[1],\n",
    "    frames_per_partition=800,\n",
    "    pool_size=2\n",
    ")"
   ]
  },
  {
   "cell_type": "code",
   "execution_count": 11,
   "id": "charming-economics",
   "metadata": {},
   "outputs": [],
   "source": [
    "udfs = [SumUDF(), SumSigUDF(), SignalMonitorUDF()]"
   ]
  },
  {
   "cell_type": "code",
   "execution_count": 12,
   "id": "upper-monaco",
   "metadata": {},
   "outputs": [],
   "source": [
    "LivePlot = BQLive2DPlot\n",
    "# Uncomment below to use Matplotlib-based plotting\n",
    "# See also the top of the notebook to select the correct matplotlib backend\n",
    "# LivePlot = MPLLive2DPlot\n",
    "\n",
    "p0 = LivePlot(aq, udfs[0])\n",
    "p1 = LivePlot(aq, udfs[1])\n",
    "p2 = LivePlot(aq, udfs[2])"
   ]
  },
  {
   "cell_type": "code",
   "execution_count": 13,
   "id": "welcome-coordinator",
   "metadata": {},
   "outputs": [],
   "source": [
    "outputs = []\n",
    "\n",
    "for p in [p0, p1, p2]:\n",
    "    # Capture the plots to display them in a grid later\n",
    "    output = ipywidgets.Output()\n",
    "    with output:\n",
    "        p.display()\n",
    "        # Some plot-specific tweaks for grid display\n",
    "        if isinstance(p, BQLive2DPlot):\n",
    "            p.figure.fig_margin={'top': 50, 'bottom': 0, 'left': 25, 'right': 25}\n",
    "            p.figure.layout.width = '300px'\n",
    "            p.figure.layout.height = '300px'\n",
    "        elif isinstance(p, MPLLive2DPlot):\n",
    "            p.fig.tight_layout()\n",
    "            p.fig.set_size_inches((3, 3))\n",
    "            p.fig.canvas.toolbar_position = 'bottom'\n",
    "    outputs.append(output)"
   ]
  },
  {
   "cell_type": "code",
   "execution_count": 14,
   "id": "chief-advantage",
   "metadata": {},
   "outputs": [
    {
     "data": {
      "application/vnd.jupyter.widget-view+json": {
       "model_id": "38386ad3c3514915a9da19ac63d65727",
       "version_major": 2,
       "version_minor": 0
      },
      "text/plain": [
       "HBox(children=(Output(), Output(), Output()))"
      ]
     },
     "metadata": {},
     "output_type": "display_data"
    }
   ],
   "source": [
    "# Show the plot grid\n",
    "ipywidgets.HBox(outputs)"
   ]
  },
  {
   "cell_type": "markdown",
   "id": "innovative-reading",
   "metadata": {},
   "source": [
    "### Sample output\n",
    "\n",
    "The plots are not preserved when saving the notebook. They look like this:\n",
    "\n",
    "![sample plot](run_on_merlin_data.png)"
   ]
  },
  {
   "cell_type": "markdown",
   "id": "thousand-voltage",
   "metadata": {},
   "source": [
    "### Run one scan\n",
    "\n",
    "The live plots above are updated with the results"
   ]
  },
  {
   "cell_type": "code",
   "execution_count": 15,
   "id": "colored-catalyst",
   "metadata": {
    "scrolled": false
   },
   "outputs": [
    {
     "name": "stdout",
     "output_type": "stream",
     "text": [
      "Connecting Merlin control...\n",
      "Setting Merlin acquisition parameters\n",
      "Finished Merlin setup.\n",
      "Setting resolution...\n",
      "Arming Merlin...\n",
      "Merlin ready for trigger.\n",
      "Triggering!\n",
      "Finished.\n"
     ]
    }
   ],
   "source": [
    "c = MerlinControl(*MERLIN_CONTROL_SOCKET)\n",
    "print(\"Connecting Merlin control...\")\n",
    "with c:\n",
    "    merlin_setup(c)\n",
    "    microscope_setup()\n",
    "\n",
    "    set_nav(c, aq)\n",
    "    arm(c)\n",
    "\n",
    "ctx.run_udf(dataset=aq, udf=udfs, plots=[p0, p1, p2])\n",
    "print(\"Finished.\")"
   ]
  },
  {
   "cell_type": "code",
   "execution_count": null,
   "id": "adolescent-payment",
   "metadata": {},
   "outputs": [],
   "source": []
  }
 ],
 "metadata": {
  "kernelspec": {
   "display_name": "Python 3",
   "language": "python",
   "name": "python3"
  },
  "language_info": {
   "codemirror_mode": {
    "name": "ipython",
    "version": 3
   },
   "file_extension": ".py",
   "mimetype": "text/x-python",
   "name": "python",
   "nbconvert_exporter": "python",
   "pygments_lexer": "ipython3",
   "version": "3.8.5"
  }
 },
 "nbformat": 4,
 "nbformat_minor": 5
}
