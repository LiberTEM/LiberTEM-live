{
 "cells": [
  {
   "cell_type": "markdown",
   "id": "descending-carpet",
   "metadata": {},
   "source": [
    "## Run UDFs on Merlin live streams\n",
    "\n",
    "If you want to use this with the simulated data source, run something like this in the background:\n",
    "\n",
    "`libertem-live-mib-sim ~/Data/default.hdr --cached=MEM`\n",
    "\n",
    "On Linux, `MEMFD` is also supported as a cache. Use `NONE` to deactivate the cache.\n",
    "\n",
    "* Make sure to adjust the `SCAN_SIZE` below to match the scan of the data source!\n",
    "* This notebook requires the `bqplot` extra of LiberTEM: `pip install libertem[bqplot]`"
   ]
  },
  {
   "cell_type": "code",
   "execution_count": 1,
   "id": "owned-tract",
   "metadata": {},
   "outputs": [],
   "source": [
    "%load_ext autoreload"
   ]
  },
  {
   "cell_type": "code",
   "execution_count": 2,
   "id": "passing-illness",
   "metadata": {},
   "outputs": [],
   "source": [
    "# Uncomment to use Matplotlib-based plots\n",
    "# This requires ipympl and allows to capture Matplotlib plots as ipywidgets.\n",
    "# %matplotlib widget"
   ]
  },
  {
   "cell_type": "code",
   "execution_count": 3,
   "id": "distinguished-onion",
   "metadata": {},
   "outputs": [],
   "source": [
    "# set this to the host/port where the merlin data server is listening:\n",
    "MERLIN_DATA_SOCKET = ('127.0.0.1', 6342)\n",
    "SCAN_SIZE = (128, 128)"
   ]
  },
  {
   "cell_type": "code",
   "execution_count": 4,
   "id": "after-particle",
   "metadata": {},
   "outputs": [],
   "source": [
    "import logging\n",
    "\n",
    "import numpy as np\n",
    "import ipywidgets\n",
    "from contextlib import contextmanager"
   ]
  },
  {
   "cell_type": "code",
   "execution_count": 5,
   "id": "antique-confirmation",
   "metadata": {},
   "outputs": [],
   "source": [
    "logging.basicConfig(level=logging.INFO)"
   ]
  },
  {
   "cell_type": "code",
   "execution_count": 6,
   "id": "together-stations",
   "metadata": {},
   "outputs": [
    {
     "name": "stderr",
     "output_type": "stream",
     "text": [
      "INFO:empyre:Imported EMPyRe V-0.3.0 GIT-7531a074e8e81c3e02d65fad075edcd2c5408ad7\n"
     ]
    }
   ],
   "source": [
    "# Sum all detector frames, result is a map of the detector\n",
    "from libertem.udf.sum import SumUDF\n",
    "# Sum up each detector frame, result is a bright field STEM image of the scan area\n",
    "from libertem.udf.sumsigudf import SumSigUDF\n",
    "\n",
    "# ImageGL-accelerated plot for fast live display\n",
    "from libertem.viz.bqp import BQLive2DPlot\n",
    "# Alternatively a version that uses the slower, but more mature Matplotlib\n",
    "from libertem.viz.mpl import MPLLive2DPlot"
   ]
  },
  {
   "cell_type": "code",
   "execution_count": 7,
   "id": "greater-queensland",
   "metadata": {},
   "outputs": [],
   "source": [
    "from libertem_live.api import LiveContext\n",
    "from libertem_live.udf.monitor import SignalMonitorUDF"
   ]
  },
  {
   "cell_type": "code",
   "execution_count": 8,
   "id": "dress-threat",
   "metadata": {},
   "outputs": [],
   "source": [
    "ctx = LiveContext()"
   ]
  },
  {
   "cell_type": "markdown",
   "id": "changed-james",
   "metadata": {},
   "source": [
    "### Camera setup routine\n",
    "\n",
    "Different from offline processing, the shape, type and content of a dataset is not predetermined in live processing.\n",
    "Instead, the data source has to be configured to supply the desired data. LiberTEM Live implements live datasets that behave similar to offline datasets. They include a setup routine that is called before each acquisition, and the actual data acquisition routines. The setup routine should be implemented by the user to configure the camera and the rest of the setup approriately to generate the desired data.\n",
    "\n",
    "In order to also allow reliable de-initialization, this is not a regular function, but a context manager. See https://docs.python.org/3/library/contextlib.html#contextlib.contextmanager for more\n",
    "details. Once the setup is complete, the actual acquisition is started by entering the dataset's `start_acquisition()` context manager. At this point, the control is transferred to the dataset's\n",
    "acquisition routines until the acquisition is complete.\n",
    "\n",
    "The context manager that is defined here is supplied to the Context's `prepare_acquisition` method\n",
    "in the following cell. `prepare_acquisition()` combines it with other parameters to create the complete\n",
    "live dataset, i.e. a descriptor for the planned acquisition. `run_udf()` or `run_udf_iter()` enter this context\n",
    "manager before processing starts on a live dataset and leave it after processing is finished."
   ]
  },
  {
   "cell_type": "code",
   "execution_count": 9,
   "id": "ancient-commons",
   "metadata": {},
   "outputs": [],
   "source": [
    "@contextmanager\n",
    "def medipix_setup(dataset, udfs):\n",
    "    print(\"priming camera for acquisition\")\n",
    "    # TODO: medipix control socket commands go here\n",
    "    # TODO interface to be tested, not supported in simulator yet\n",
    "\n",
    "    # dataset.control.set('numframes', np.prod(SCAN_SIZE, dtype=np.int64))\n",
    "    # dataset.control.set(...)\n",
    "\n",
    "    # microscope.configure_scan()\n",
    "    # microscope.start_scanning()\n",
    "    print(\"running acquisition\")\n",
    "    with dataset.start_acquisition():\n",
    "        yield\n",
    "    print(\"camera teardown\")\n",
    "    # teardown routines go here"
   ]
  },
  {
   "cell_type": "code",
   "execution_count": 10,
   "id": "incorporated-antenna",
   "metadata": {},
   "outputs": [],
   "source": [
    "ds = ctx.prepare_acquisition(\n",
    "    'merlin',\n",
    "    medipix_setup,\n",
    "    scan_size=SCAN_SIZE,\n",
    "    host=MERLIN_DATA_SOCKET[0],\n",
    "    port=MERLIN_DATA_SOCKET[1],\n",
    "    control_port=None,  # deactivate control interface, not supported in simulator yet\n",
    "    frames_per_partition=800,\n",
    "    pool_size=2\n",
    ")"
   ]
  },
  {
   "cell_type": "code",
   "execution_count": 11,
   "id": "charming-economics",
   "metadata": {},
   "outputs": [],
   "source": [
    "udfs = [SumUDF(), SumSigUDF(), SignalMonitorUDF()]"
   ]
  },
  {
   "cell_type": "code",
   "execution_count": 12,
   "id": "upper-monaco",
   "metadata": {},
   "outputs": [],
   "source": [
    "LivePlot = BQLive2DPlot\n",
    "# Uncomment below to use Matplotlib-based plotting\n",
    "# See also the top of the notebook to select the correct matplotlib backend\n",
    "# LivePlot = MPLLive2DPlot\n",
    "\n",
    "p0 = LivePlot(ds, udfs[0])\n",
    "p1 = LivePlot(ds, udfs[1])\n",
    "p2 = LivePlot(ds, udfs[2])"
   ]
  },
  {
   "cell_type": "code",
   "execution_count": 13,
   "id": "welcome-coordinator",
   "metadata": {},
   "outputs": [],
   "source": [
    "outputs = []\n",
    "\n",
    "for p in [p0, p1, p2]:\n",
    "    # Capture the plots to display them in a grid later\n",
    "    output = ipywidgets.Output()\n",
    "    with output:\n",
    "        p.display()\n",
    "        # Some plot-specific tweaks for grid display\n",
    "        if isinstance(p, BQLive2DPlot):\n",
    "            p.figure.fig_margin={'top': 50, 'bottom': 0, 'left': 25, 'right': 25}\n",
    "            p.figure.layout.width = '300px'\n",
    "            p.figure.layout.height = '300px'\n",
    "        elif isinstance(p, MPLLive2DPlot):\n",
    "            p.fig.tight_layout()\n",
    "            p.fig.set_size_inches((3, 3))\n",
    "            p.fig.canvas.toolbar_position = 'bottom'\n",
    "    outputs.append(output)"
   ]
  },
  {
   "cell_type": "code",
   "execution_count": 14,
   "id": "chief-advantage",
   "metadata": {},
   "outputs": [
    {
     "data": {
      "application/vnd.jupyter.widget-view+json": {
       "model_id": "c9814f02b0be4d79bda1176030d123ea",
       "version_major": 2,
       "version_minor": 0
      },
      "text/plain": [
       "HBox(children=(Output(), Output(), Output()))"
      ]
     },
     "metadata": {},
     "output_type": "display_data"
    }
   ],
   "source": [
    "# Show the plot grid\n",
    "ipywidgets.HBox(outputs)"
   ]
  },
  {
   "cell_type": "markdown",
   "id": "innovative-reading",
   "metadata": {},
   "source": [
    "### Sample output\n",
    "\n",
    "The plots are not preserved when saving the notebook. They look like this:\n",
    "\n",
    "![sample plot](run_on_merlin_data.png)"
   ]
  },
  {
   "cell_type": "markdown",
   "id": "thousand-voltage",
   "metadata": {},
   "source": [
    "### Run one scan\n",
    "\n",
    "The live plots above are updated with the results"
   ]
  },
  {
   "cell_type": "code",
   "execution_count": 15,
   "id": "colored-catalyst",
   "metadata": {
    "scrolled": false
   },
   "outputs": [
    {
     "name": "stdout",
     "output_type": "stream",
     "text": [
      "priming camera for acquisition\n",
      "running acquisition\n",
      "camera teardown\n"
     ]
    },
    {
     "data": {
      "text/plain": [
       "({'intensity': <BufferWrapper kind=sig dtype=float32 extra_shape=()>},\n",
       " {'intensity': <BufferWrapper kind=nav dtype=float32 extra_shape=()>},\n",
       " {'intensity': <BufferWrapper kind=sig dtype=float32 extra_shape=()>})"
      ]
     },
     "execution_count": 15,
     "metadata": {},
     "output_type": "execute_result"
    }
   ],
   "source": [
    "%autoreload\n",
    "ctx.run_udf(dataset=ds, udf=udfs, plots=[p0, p1, p2])"
   ]
  },
  {
   "cell_type": "code",
   "execution_count": null,
   "id": "adolescent-payment",
   "metadata": {},
   "outputs": [],
   "source": []
  }
 ],
 "metadata": {
  "kernelspec": {
   "display_name": "Python 3",
   "language": "python",
   "name": "python3"
  },
  "language_info": {
   "codemirror_mode": {
    "name": "ipython",
    "version": 3
   },
   "file_extension": ".py",
   "mimetype": "text/x-python",
   "name": "python",
   "nbconvert_exporter": "python",
   "pygments_lexer": "ipython3",
   "version": "3.8.5"
  }
 },
 "nbformat": 4,
 "nbformat_minor": 5
}
