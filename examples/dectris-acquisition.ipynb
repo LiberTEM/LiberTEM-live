{
 "cells": [
  {
   "cell_type": "code",
   "execution_count": 1,
   "id": "f53b50e1",
   "metadata": {},
   "outputs": [],
   "source": [
    "import os\n",
    "# adjust accordingly to your network setup:\n",
    "DCU_API_HOST = os.environ.get('DCU_API_HOST', '127.0.0.1')\n",
    "DCU_API_PORT = os.environ.get('DCU_API_PORT', 8910)\n",
    "DCU_DATA_HOST = os.environ.get('DCU_DATA_HOST', '127.0.0.1')\n",
    "DCU_DATA_PORT = os.environ.get('DCU_DATA_PORT', 9999)"
   ]
  },
  {
   "cell_type": "code",
   "execution_count": 2,
   "id": "70cd7bd1",
   "metadata": {},
   "outputs": [],
   "source": [
    "from libertem_live.api import LiveContext\n",
    "from libertem_live.detectors.dectris.acquisition import DectrisAcquisition\n",
    "from libertem.udf.sumsigudf import SumSigUDF\n",
    "from libertem.viz.bqp import BQLive2DPlot"
   ]
  },
  {
   "cell_type": "code",
   "execution_count": 3,
   "id": "627f990e",
   "metadata": {},
   "outputs": [],
   "source": [
    "ctx = LiveContext(plot_class=BQLive2DPlot)"
   ]
  },
  {
   "cell_type": "code",
   "execution_count": 4,
   "id": "54f7bb47",
   "metadata": {},
   "outputs": [],
   "source": [
    "def trigger(aq):\n",
    "    # TODO: can trigger the scan here, if you have a microscope control API\n",
    "    pass"
   ]
  },
  {
   "cell_type": "code",
   "execution_count": 5,
   "id": "fd24c42c",
   "metadata": {},
   "outputs": [],
   "source": [
    "aq = ctx.prepare_acquisition(\n",
    "    'dectris',\n",
    "    api_host=DCU_API_HOST,\n",
    "    api_port=DCU_API_PORT,\n",
    "    data_host=DCU_DATA_HOST,\n",
    "    data_port=DCU_DATA_PORT,\n",
    "    nav_shape=(128, 128),\n",
    "    trigger_mode=\"exte\",\n",
    "    trigger=trigger,\n",
    "    frames_per_partition=256,\n",
    ")"
   ]
  },
  {
   "cell_type": "code",
   "execution_count": 8,
   "id": "d6581eda",
   "metadata": {},
   "outputs": [
    {
     "data": {
      "application/vnd.jupyter.widget-view+json": {
       "model_id": "8bb227d4ff5e4e5497621c134a44ad67",
       "version_major": 2,
       "version_minor": 0
      },
      "text/plain": [
       "Figure(axes=[Axis(label='x', scale=LinearScale(max=1.0, min=0.0)), Axis(label='y', orientation='vertical', sca…"
      ]
     },
     "metadata": {},
     "output_type": "display_data"
    }
   ],
   "source": [
    "res = ctx.run_udf(dataset=aq, udf=SumSigUDF(), plots=True)"
   ]
  },
  {
   "cell_type": "code",
   "execution_count": null,
   "id": "f09afaa8",
   "metadata": {},
   "outputs": [],
   "source": []
  }
 ],
 "metadata": {
  "kernelspec": {
   "display_name": "Python 3 (ipykernel)",
   "language": "python",
   "name": "python3"
  },
  "language_info": {
   "codemirror_mode": {
    "name": "ipython",
    "version": 3
   },
   "file_extension": ".py",
   "mimetype": "text/x-python",
   "name": "python",
   "nbconvert_exporter": "python",
   "pygments_lexer": "ipython3",
   "version": "3.9.7"
  }
 },
 "nbformat": 4,
 "nbformat_minor": 5
}
