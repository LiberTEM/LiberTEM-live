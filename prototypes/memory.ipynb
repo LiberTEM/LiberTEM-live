{
 "cells": [
  {
   "cell_type": "code",
   "execution_count": 1,
   "id": "reasonable-aircraft",
   "metadata": {},
   "outputs": [],
   "source": [
    "%load_ext autoreload"
   ]
  },
  {
   "cell_type": "code",
   "execution_count": 1,
   "id": "brown-stream",
   "metadata": {},
   "outputs": [],
   "source": [
    "import numpy as np\n",
    "from contextlib import contextmanager\n",
    "from libertem.viz.bqp import BQLive2DPlot"
   ]
  },
  {
   "cell_type": "code",
   "execution_count": 2,
   "id": "separate-hampton",
   "metadata": {},
   "outputs": [],
   "source": [
    "from libertem_live.api import LiveContext\n",
    "from libertem_live.udf.monitor import SignalMonitorUDF"
   ]
  },
  {
   "cell_type": "code",
   "execution_count": 14,
   "id": "unexpected-longitude",
   "metadata": {},
   "outputs": [],
   "source": [
    "ctx = LiveContext(plot_class=BQLive2DPlot)"
   ]
  },
  {
   "cell_type": "code",
   "execution_count": 15,
   "id": "handmade-rebound",
   "metadata": {},
   "outputs": [],
   "source": [
    "def trigger(acquisition):\n",
    "    print(\"Triggering!\")"
   ]
  },
  {
   "cell_type": "code",
   "execution_count": 16,
   "id": "italic-marathon",
   "metadata": {},
   "outputs": [],
   "source": [
    "data = np.random.random((23, 42, 51, 67))\n",
    "\n",
    "aq = ctx.prepare_acquisition(\n",
    "    'memory',\n",
    "    trigger=trigger,\n",
    "    data=data,\n",
    "    num_partitions=23\n",
    ")"
   ]
  },
  {
   "cell_type": "code",
   "execution_count": 17,
   "id": "superior-laser",
   "metadata": {},
   "outputs": [],
   "source": [
    "udf = SignalMonitorUDF()\n",
    "# plot = BQLive2DPlot(dataset=aq, udf=udf)\n",
    "# plot.display()"
   ]
  },
  {
   "cell_type": "code",
   "execution_count": 18,
   "id": "stone-picture",
   "metadata": {},
   "outputs": [
    {
     "name": "stdout",
     "output_type": "stream",
     "text": [
      "Triggering!\n"
     ]
    },
    {
     "data": {
      "application/vnd.jupyter.widget-view+json": {
       "model_id": "49c26669429c4159821bf5088d3c2b27",
       "version_major": 2,
       "version_minor": 0
      },
      "text/plain": [
       "Figure(axes=[Axis(label='x', scale=LinearScale(max=1.0, min=0.0)), Axis(label='y', orientation='vertical', sca…"
      ]
     },
     "metadata": {},
     "output_type": "display_data"
    },
    {
     "data": {
      "text/plain": [
       "{'intensity': <BufferWrapper kind=sig dtype=float64 extra_shape=()>}"
      ]
     },
     "execution_count": 18,
     "metadata": {},
     "output_type": "execute_result"
    }
   ],
   "source": [
    "ctx.run_udf(dataset=aq, udf=udf, plots=True)"
   ]
  },
  {
   "cell_type": "code",
   "execution_count": null,
   "id": "noticed-carpet",
   "metadata": {},
   "outputs": [],
   "source": []
  }
 ],
 "metadata": {
  "kernelspec": {
   "display_name": "Python 3",
   "language": "python",
   "name": "python3"
  },
  "language_info": {
   "codemirror_mode": {
    "name": "ipython",
    "version": 3
   },
   "file_extension": ".py",
   "mimetype": "text/x-python",
   "name": "python",
   "nbconvert_exporter": "python",
   "pygments_lexer": "ipython3",
   "version": "3.8.5"
  }
 },
 "nbformat": 4,
 "nbformat_minor": 5
}
