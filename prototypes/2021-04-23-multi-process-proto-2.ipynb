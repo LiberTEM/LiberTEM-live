{
 "cells": [
  {
   "cell_type": "code",
   "execution_count": 1,
   "id": "oriental-netscape",
   "metadata": {},
   "outputs": [],
   "source": [
    "%matplotlib widget"
   ]
  },
  {
   "cell_type": "code",
   "execution_count": 2,
   "id": "confirmed-phrase",
   "metadata": {},
   "outputs": [],
   "source": [
    "import multiprocessing as mp\n",
    "mp.set_start_method('spawn')"
   ]
  },
  {
   "cell_type": "code",
   "execution_count": 3,
   "id": "horizontal-belfast",
   "metadata": {},
   "outputs": [],
   "source": [
    "from matplotlib import pyplot as plt"
   ]
  },
  {
   "cell_type": "code",
   "execution_count": 4,
   "id": "little-departure",
   "metadata": {},
   "outputs": [],
   "source": [
    "import numpy as np\n",
    "import uuid"
   ]
  },
  {
   "cell_type": "code",
   "execution_count": 5,
   "id": "twenty-bobby",
   "metadata": {},
   "outputs": [],
   "source": [
    "from libertem.common import Shape, Slice\n",
    "from libertem.udf.base import UDFMeta, UDFResults\n",
    "from libertem.common.buffers import BufferWrapper\n",
    "from libertem.io.dataset.base import DataSetMeta"
   ]
  },
  {
   "cell_type": "code",
   "execution_count": 6,
   "id": "chief-royal",
   "metadata": {},
   "outputs": [],
   "source": [
    "from libertem.udf.sum import SumUDF\n",
    "from libertem.udf.sumsigudf import SumSigUDF\n",
    "from libertem_live.detectors.k2is.proto import MySubProcess, SyncState, PlaceholderPartition"
   ]
  },
  {
   "cell_type": "code",
   "execution_count": 7,
   "id": "norwegian-thong",
   "metadata": {},
   "outputs": [],
   "source": [
    "class FakeDataSet:\n",
    "    def __init__(self):\n",
    "        self.shape = Shape((4000, 1860, 2048), sig_dims=2)\n",
    "        self.dtype = np.uint16"
   ]
  },
  {
   "cell_type": "code",
   "execution_count": 8,
   "id": "powerful-comment",
   "metadata": {},
   "outputs": [],
   "source": [
    "class FakeExecutor:\n",
    "    def run_tasks(self, tasks, cancel_id):\n",
    "        ss = SyncState(num_processes=len(tasks))\n",
    "        processes = []\n",
    "        oqs = []\n",
    "        try:\n",
    "            for i in tasks:\n",
    "                oq = mp.Queue()\n",
    "                p = MySubProcess(idx=i, sync_state=ss, udfs=udfs, out_queue=oq)\n",
    "                p.start()\n",
    "                processes.append(p)\n",
    "                oqs.append(oq)\n",
    "            for idx, q in enumerate(oqs):\n",
    "                print(f\"getting result from q {q} ({idx})\")\n",
    "                yield q.get(), idx\n",
    "        finally:\n",
    "            for p in processes:\n",
    "                p.join()\n",
    "\n",
    "    def ensure_sync(self):\n",
    "        return self"
   ]
  },
  {
   "cell_type": "code",
   "execution_count": 9,
   "id": "second-unemployment",
   "metadata": {},
   "outputs": [],
   "source": [
    "def make_udf_tasks(dataset, roi, corrections, backends):\n",
    "    # in case of a k2is live dataset, we need to create \"tasks\" for each partition, so for each sector:\n",
    "    assert roi is None\n",
    "    assert corrections is None or not corrections.have_corrections()\n",
    "    \n",
    "    return list(range(8))\n",
    "    # raise NotImplementedError()"
   ]
  },
  {
   "cell_type": "code",
   "execution_count": 10,
   "id": "worse-prime",
   "metadata": {},
   "outputs": [],
   "source": [
    "def _get_dtype(udfs, dtype, corrections):\n",
    "    if corrections is not None and corrections.have_corrections():\n",
    "        tmp_dtype = np.result_type(np.float32, dtype)\n",
    "    else:\n",
    "        tmp_dtype = dtype\n",
    "    for udf in udfs:\n",
    "        tmp_dtype = np.result_type(\n",
    "            udf.get_preferred_input_dtype(),\n",
    "            tmp_dtype\n",
    "        )\n",
    "    return tmp_dtype"
   ]
  },
  {
   "cell_type": "code",
   "execution_count": 11,
   "id": "banner-graham",
   "metadata": {},
   "outputs": [],
   "source": [
    "def _prepare_run_for_dataset(\n",
    "    udfs, dataset, executor, roi, corrections, backends, dry\n",
    "):\n",
    "    meta = UDFMeta(\n",
    "        partition_shape=None,\n",
    "        dataset_shape=dataset.shape,\n",
    "        roi=roi,\n",
    "        dataset_dtype=dataset.dtype,\n",
    "        input_dtype=_get_dtype(udfs, dataset.dtype, corrections),\n",
    "        corrections=corrections,\n",
    "    )\n",
    "    for udf in udfs:\n",
    "        udf.set_meta(meta)\n",
    "        udf.init_result_buffers()\n",
    "        udf.allocate_for_full(dataset, roi)\n",
    "\n",
    "        if hasattr(udf, 'preprocess'):\n",
    "            udf.set_views_for_dataset(dataset)\n",
    "            udf.preprocess()\n",
    "    if dry:\n",
    "        tasks = []\n",
    "    else:\n",
    "        tasks = list(make_udf_tasks(dataset, roi, corrections, backends))\n",
    "    return tasks"
   ]
  },
  {
   "cell_type": "code",
   "execution_count": 12,
   "id": "formal-delaware",
   "metadata": {},
   "outputs": [],
   "source": [
    "def _partition_by_idx(idx):\n",
    "    num_frames = 4000  # less than 10 seconds\n",
    "\n",
    "    meta = DataSetMeta(\n",
    "        shape=Shape((num_frames, 1860, 2048), sig_dims=2),\n",
    "        image_count=num_frames,\n",
    "        raw_dtype=np.uint16,\n",
    "    )\n",
    "\n",
    "    x_offset = 256 * idx\n",
    "    \n",
    "    partition_slice = Slice(\n",
    "        origin=(0, 0, x_offset),\n",
    "        shape=Shape((num_frames, 1860, 256), sig_dims=2),\n",
    "    )\n",
    "\n",
    "    # let's first create single partition per sector, with size >= what\n",
    "    # we expect during 10 seconds of runtime\n",
    "    return PlaceholderPartition(\n",
    "        meta=meta,\n",
    "        partition_slice=partition_slice,\n",
    "        tiles=[],\n",
    "        start_frame=0,\n",
    "        num_frames=num_frames,\n",
    "    )"
   ]
  },
  {
   "cell_type": "code",
   "execution_count": 13,
   "id": "center-attempt",
   "metadata": {},
   "outputs": [],
   "source": [
    "def run_for_dataset_sync(udfs, dataset, executor,\n",
    "                    roi=None, progress=False, corrections=None, backends=None, dry=False):\n",
    "    tasks = _prepare_run_for_dataset(\n",
    "        udfs, dataset, executor, roi, corrections, backends, dry\n",
    "    )\n",
    "    cancel_id = str(uuid.uuid4())\n",
    "\n",
    "    if progress:\n",
    "        from tqdm import tqdm\n",
    "        t = tqdm(total=len(tasks))\n",
    "\n",
    "    executor = executor.ensure_sync()\n",
    "\n",
    "    damage = BufferWrapper(kind='nav', dtype=bool)\n",
    "    damage.set_shape_ds(dataset.shape, roi)\n",
    "    damage.allocate()\n",
    "    if tasks:\n",
    "        for part_results, task in executor.run_tasks(tasks, cancel_id):\n",
    "            if progress:\n",
    "                t.update(1)\n",
    "            for results, udf in zip(part_results, udfs):\n",
    "                udf.set_views_for_partition(_partition_by_idx(task))\n",
    "                udf.merge(\n",
    "                    dest=udf.results.get_proxy(),\n",
    "                    src=results.get_proxy()\n",
    "                )\n",
    "                udf.clear_views()\n",
    "            v = damage.get_view_for_partition(_partition_by_idx(task))\n",
    "            v[:] = True\n",
    "            yield UDFResults(\n",
    "                buffers=tuple(\n",
    "                    udf._do_get_results()\n",
    "                    for udf in udfs\n",
    "                ),\n",
    "                damage=damage\n",
    "            )\n",
    "    else:\n",
    "        # yield at least one result (which should be empty):\n",
    "        for udf in udfs:\n",
    "            udf.clear_views()\n",
    "        yield UDFResults(\n",
    "            buffers=tuple(\n",
    "                udf._do_get_results()\n",
    "                for udf in udfs\n",
    "            ),\n",
    "            damage=damage\n",
    "        )\n",
    "\n",
    "    if progress:\n",
    "        t.close()"
   ]
  },
  {
   "cell_type": "markdown",
   "id": "corresponding-ending",
   "metadata": {},
   "source": [
    "# kind=\"sig\" (not working yet)"
   ]
  },
  {
   "cell_type": "code",
   "execution_count": null,
   "id": "solar-disclosure",
   "metadata": {},
   "outputs": [],
   "source": [
    "num_processes = 2\n",
    "ss = SyncState(num_processes=num_processes)\n",
    "processes = []\n",
    "udfs = [SumUDF()]\n",
    "try:\n",
    "    for i in range(num_processes):\n",
    "        p = MySubProcess(idx=i, sync_state=ss, udfs=udfs, )\n",
    "        p.start()\n",
    "        processes.append(p)\n",
    "finally:\n",
    "    for p in processes:\n",
    "        p.join()"
   ]
  },
  {
   "cell_type": "markdown",
   "id": "normal-composite",
   "metadata": {},
   "source": [
    "# kind=\"nav\""
   ]
  },
  {
   "cell_type": "code",
   "execution_count": 20,
   "id": "advisory-cooper",
   "metadata": {},
   "outputs": [],
   "source": [
    "num_processes = 8\n",
    "ss = SyncState(num_processes=num_processes)\n",
    "processes = []\n",
    "oqs = []\n",
    "udfs = [SumSigUDF()]\n",
    "try:\n",
    "    for i in range(num_processes):\n",
    "        oq = mp.Queue()\n",
    "        p = MySubProcess(idx=i, sync_state=ss, udfs=udfs, out_queue=oq)\n",
    "        p.start()\n",
    "        processes.append(p)\n",
    "        oqs.append(oq)\n",
    "finally:\n",
    "    for p in processes:\n",
    "        p.join()"
   ]
  },
  {
   "cell_type": "code",
   "execution_count": 21,
   "id": "local-charm",
   "metadata": {},
   "outputs": [],
   "source": [
    "res0 = oqs[0].get()"
   ]
  },
  {
   "cell_type": "code",
   "execution_count": 22,
   "id": "minimal-background",
   "metadata": {},
   "outputs": [],
   "source": [
    "res0sq = res0[0].intensity[:3969].reshape((63, 63))"
   ]
  },
  {
   "cell_type": "code",
   "execution_count": 23,
   "id": "portuguese-secretariat",
   "metadata": {},
   "outputs": [
    {
     "data": {
      "application/vnd.jupyter.widget-view+json": {
       "model_id": "ff01366f166e422084cf8cc2eb239ffe",
       "version_major": 2,
       "version_minor": 0
      },
      "text/plain": [
       "Canvas(toolbar=Toolbar(toolitems=[('Home', 'Reset original view', 'home', 'home'), ('Back', 'Back to previous …"
      ]
     },
     "metadata": {},
     "output_type": "display_data"
    },
    {
     "data": {
      "text/plain": [
       "<matplotlib.image.AxesImage at 0x7f6c9888cd90>"
      ]
     },
     "execution_count": 23,
     "metadata": {},
     "output_type": "execute_result"
    }
   ],
   "source": [
    "plt.figure()\n",
    "plt.imshow(res0sq)"
   ]
  },
  {
   "cell_type": "markdown",
   "id": "ongoing-phase",
   "metadata": {},
   "source": [
    "# run for dataset?"
   ]
  },
  {
   "cell_type": "code",
   "execution_count": 24,
   "id": "satisfied-challenge",
   "metadata": {},
   "outputs": [
    {
     "name": "stdout",
     "output_type": "stream",
     "text": [
      "getting result from q <multiprocessing.queues.Queue object at 0x7f6c988df910> (0)\n",
      "<libertem.udf.base.UDFResults object at 0x7f6c98878310>\n",
      "getting result from q <multiprocessing.queues.Queue object at 0x7f6c9887ad00> (1)\n",
      "<libertem.udf.base.UDFResults object at 0x7f6c98878490>\n",
      "getting result from q <multiprocessing.queues.Queue object at 0x7f6c9884a100> (2)\n",
      "<libertem.udf.base.UDFResults object at 0x7f6c9893ff70>\n",
      "getting result from q <multiprocessing.queues.Queue object at 0x7f6c9884a4c0> (3)\n",
      "<libertem.udf.base.UDFResults object at 0x7f6c98878490>\n",
      "getting result from q <multiprocessing.queues.Queue object at 0x7f6c9884a940> (4)\n",
      "<libertem.udf.base.UDFResults object at 0x7f6c98878520>\n",
      "getting result from q <multiprocessing.queues.Queue object at 0x7f6c9884aca0> (5)\n",
      "<libertem.udf.base.UDFResults object at 0x7f6c988783a0>\n",
      "getting result from q <multiprocessing.queues.Queue object at 0x7f6c9b1558e0> (6)\n",
      "<libertem.udf.base.UDFResults object at 0x7f6c988782b0>\n",
      "getting result from q <multiprocessing.queues.Queue object at 0x7f6c98897be0> (7)\n",
      "<libertem.udf.base.UDFResults object at 0x7f6c98878310>\n"
     ]
    }
   ],
   "source": [
    "udfs = [SumSigUDF()]\n",
    "ds = FakeDataSet()\n",
    "executor = FakeExecutor()\n",
    "for res in run_for_dataset_sync(udfs, dataset=ds, executor=executor):\n",
    "    print(res)"
   ]
  },
  {
   "cell_type": "code",
   "execution_count": 25,
   "id": "clear-entertainment",
   "metadata": {},
   "outputs": [
    {
     "data": {
      "text/plain": [
       "<BufferWrapper kind=nav dtype=float32 extra_shape=()>"
      ]
     },
     "execution_count": 25,
     "metadata": {},
     "output_type": "execute_result"
    }
   ],
   "source": [
    "res.buffers[0]['intensity']"
   ]
  },
  {
   "cell_type": "code",
   "execution_count": null,
   "id": "private-rainbow",
   "metadata": {},
   "outputs": [],
   "source": []
  },
  {
   "cell_type": "code",
   "execution_count": 26,
   "id": "olive-burner",
   "metadata": {},
   "outputs": [
    {
     "data": {
      "application/vnd.jupyter.widget-view+json": {
       "model_id": "31269c996f6340a08d7bfa31fc674889",
       "version_major": 2,
       "version_minor": 0
      },
      "text/plain": [
       "Canvas(toolbar=Toolbar(toolitems=[('Home', 'Reset original view', 'home', 'home'), ('Back', 'Back to previous …"
      ]
     },
     "metadata": {},
     "output_type": "display_data"
    },
    {
     "data": {
      "text/plain": [
       "<matplotlib.colorbar.Colorbar at 0x7f6c98836e80>"
      ]
     },
     "execution_count": 26,
     "metadata": {},
     "output_type": "execute_result"
    }
   ],
   "source": [
    "res0sq = res.buffers[0]['intensity'].data[:3969].reshape((63, 63))\n",
    "vmin = res0sq[res0sq != 0].min()\n",
    "vmax = res0sq[res0sq != 0].max()\n",
    "plt.figure()\n",
    "plt.imshow(res0sq[10:50, ...])\n",
    "plt.colorbar()"
   ]
  },
  {
   "cell_type": "code",
   "execution_count": null,
   "id": "moral-rainbow",
   "metadata": {},
   "outputs": [],
   "source": []
  }
 ],
 "metadata": {
  "kernelspec": {
   "display_name": "Python 3",
   "language": "python",
   "name": "python3"
  },
  "language_info": {
   "codemirror_mode": {
    "name": "ipython",
    "version": 3
   },
   "file_extension": ".py",
   "mimetype": "text/x-python",
   "name": "python",
   "nbconvert_exporter": "python",
   "pygments_lexer": "ipython3",
   "version": "3.8.8"
  }
 },
 "nbformat": 4,
 "nbformat_minor": 5
}
