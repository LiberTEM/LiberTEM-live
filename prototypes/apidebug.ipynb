{
 "cells": [
  {
   "cell_type": "code",
   "execution_count": 2,
   "id": "41e429ec",
   "metadata": {},
   "outputs": [],
   "source": [
    "import json\n",
    "import requests"
   ]
  },
  {
   "cell_type": "code",
   "execution_count": 120,
   "id": "ff50b216",
   "metadata": {},
   "outputs": [],
   "source": [
    "DCU_IP = \"\"\n",
    "port = 4011"
   ]
  },
  {
   "cell_type": "code",
   "execution_count": 51,
   "id": "48df422f",
   "metadata": {},
   "outputs": [],
   "source": [
    "def get(path):\n",
    "    return requests.get(f'http://{DCU_IP}:{port}/{path}')\n",
    "\n",
    "def get_local(path):\n",
    "    return requests.get(f'http://localhost:8910/{path}')\n",
    "\n",
    "def put(path, data=None):\n",
    "    return requests.put(f'http://{DCU_IP}:{port}/{path}', json=data)\n",
    "\n",
    "def put_local(path, data=None):\n",
    "    return requests.put(f'http://localhost:8910/{path}', json=data)"
   ]
  },
  {
   "cell_type": "code",
   "execution_count": 9,
   "id": "5a7ce5cf",
   "metadata": {},
   "outputs": [
    {
     "data": {
      "text/plain": [
       "{'value': '1.8.0', 'value_type': 'string'}"
      ]
     },
     "execution_count": 9,
     "metadata": {},
     "output_type": "execute_result"
    }
   ],
   "source": [
    "res = get('detector/api/version')\n",
    "res.json()"
   ]
  },
  {
   "cell_type": "code",
   "execution_count": 11,
   "id": "59c03ecc",
   "metadata": {},
   "outputs": [
    {
     "data": {
      "text/plain": [
       "{'value': '1.8.0', 'value_type': 'string'}"
      ]
     },
     "execution_count": 11,
     "metadata": {},
     "output_type": "execute_result"
    }
   ],
   "source": [
    "res = get_local('/detector/api/version')\n",
    "res.json()"
   ]
  },
  {
   "cell_type": "code",
   "execution_count": 52,
   "id": "5ecdc371",
   "metadata": {},
   "outputs": [
    {
     "data": {
      "text/plain": [
       "{}"
      ]
     },
     "execution_count": 52,
     "metadata": {},
     "output_type": "execute_result"
    }
   ],
   "source": [
    "res = put('detector/api/1.8.0/command/initialize')\n",
    "res.json()"
   ]
  },
  {
   "cell_type": "code",
   "execution_count": 53,
   "id": "c87d69dd",
   "metadata": {},
   "outputs": [
    {
     "data": {
      "text/plain": [
       "{}"
      ]
     },
     "execution_count": 53,
     "metadata": {},
     "output_type": "execute_result"
    }
   ],
   "source": [
    "res = put_local('detector/api/1.8.0/command/initialize')\n",
    "res.json()"
   ]
  },
  {
   "cell_type": "code",
   "execution_count": 37,
   "id": "68711b66",
   "metadata": {},
   "outputs": [
    {
     "data": {
      "text/plain": [
       "{'access_mode': 'rw',\n",
       " 'allowed_values': ['enabled', 'disabled'],\n",
       " 'value': 'enabled',\n",
       " 'value_type': 'string'}"
      ]
     },
     "execution_count": 37,
     "metadata": {},
     "output_type": "execute_result"
    }
   ],
   "source": [
    "res = get('stream/api/1.8.0/config/mode')\n",
    "res.json()"
   ]
  },
  {
   "cell_type": "code",
   "execution_count": 19,
   "id": "ea81cc3f",
   "metadata": {},
   "outputs": [
    {
     "data": {
      "text/plain": [
       "{'access_mode': 'rw',\n",
       " 'allowed_values': ['enabled', 'disabled'],\n",
       " 'value': 'enabled',\n",
       " 'value_type': 'string'}"
      ]
     },
     "execution_count": 19,
     "metadata": {},
     "output_type": "execute_result"
    }
   ],
   "source": [
    "res = get_local('stream/api/1.8.0/config/mode')\n",
    "res.json()"
   ]
  },
  {
   "cell_type": "code",
   "execution_count": 63,
   "id": "32fd48dc",
   "metadata": {},
   "outputs": [],
   "source": [
    "res = put('stream/api/1.8.0/config/mode', data={'value': 'enabled'})\n",
    "res.content"
   ]
  },
  {
   "cell_type": "code",
   "execution_count": 66,
   "id": "c8d7db1f",
   "metadata": {},
   "outputs": [
    {
     "data": {
      "text/plain": [
       "b''"
      ]
     },
     "execution_count": 66,
     "metadata": {},
     "output_type": "execute_result"
    }
   ],
   "source": [
    "res = put_local('stream/api/1.8.0/config/mode', data={'value': 'enabled'})\n",
    "res.content"
   ]
  },
  {
   "cell_type": "code",
   "execution_count": 77,
   "id": "dbf042d8",
   "metadata": {},
   "outputs": [
    {
     "data": {
      "text/plain": [
       "{'access_mode': 'rw',\n",
       " 'max': 2000000000,\n",
       " 'min': 1,\n",
       " 'value': 16384,\n",
       " 'value_type': 'uint'}"
      ]
     },
     "execution_count": 77,
     "metadata": {},
     "output_type": "execute_result"
    }
   ],
   "source": [
    "res = get('detector/api/1.8.0/config/ntrigger')\n",
    "res.json()"
   ]
  },
  {
   "cell_type": "code",
   "execution_count": 81,
   "id": "c4011644",
   "metadata": {},
   "outputs": [
    {
     "data": {
      "text/plain": [
       "['ntrigger']"
      ]
     },
     "execution_count": 81,
     "metadata": {},
     "output_type": "execute_result"
    }
   ],
   "source": [
    "res = put('detector/api/1.8.0/config/ntrigger', data={'value': 128*128})\n",
    "res.json()"
   ]
  },
  {
   "cell_type": "code",
   "execution_count": null,
   "id": "897bb9eb",
   "metadata": {},
   "outputs": [],
   "source": []
  },
  {
   "cell_type": "code",
   "execution_count": 101,
   "id": "61be14fe",
   "metadata": {},
   "outputs": [
    {
     "data": {
      "text/plain": [
       "{'access_mode': 'rw',\n",
       " 'max': 2000000000,\n",
       " 'min': 1,\n",
       " 'value': 1,\n",
       " 'value_type': 'uint'}"
      ]
     },
     "execution_count": 101,
     "metadata": {},
     "output_type": "execute_result"
    }
   ],
   "source": [
    "res = get_local('detector/api/1.8.0/config/ntrigger')\n",
    "res.json()"
   ]
  },
  {
   "cell_type": "code",
   "execution_count": 99,
   "id": "3c5e84c5",
   "metadata": {},
   "outputs": [
    {
     "data": {
      "text/plain": [
       "['ntrigger']"
      ]
     },
     "execution_count": 99,
     "metadata": {},
     "output_type": "execute_result"
    }
   ],
   "source": [
    "res = put_local('detector/api/1.8.0/config/ntrigger', data={'value': 1})\n",
    "res.json()"
   ]
  },
  {
   "cell_type": "code",
   "execution_count": 30,
   "id": "acb465f5",
   "metadata": {},
   "outputs": [],
   "source": [
    "from DEigerClient import DEigerClient"
   ]
  },
  {
   "cell_type": "code",
   "execution_count": 60,
   "id": "c5b968ca",
   "metadata": {},
   "outputs": [],
   "source": [
    "\n",
    "ec = DEigerClient('localhost', port=8910)"
   ]
  },
  {
   "cell_type": "code",
   "execution_count": 100,
   "id": "e6d00bfc",
   "metadata": {},
   "outputs": [
    {
     "data": {
      "text/plain": [
       "b''"
      ]
     },
     "execution_count": 100,
     "metadata": {},
     "output_type": "execute_result"
    }
   ],
   "source": [
    "ec.setStreamConfig('mode', 'enabled')"
   ]
  },
  {
   "cell_type": "code",
   "execution_count": 58,
   "id": "113fc945",
   "metadata": {},
   "outputs": [],
   "source": [
    "ec2 = DEigerClient(DCU_IP, port=4011)"
   ]
  },
  {
   "cell_type": "code",
   "execution_count": 59,
   "id": "4291d8bd",
   "metadata": {},
   "outputs": [
    {
     "data": {
      "text/plain": [
       "b''"
      ]
     },
     "execution_count": 59,
     "metadata": {},
     "output_type": "execute_result"
    }
   ],
   "source": [
    "ec2.setStreamConfig('mode', 'enabled')"
   ]
  },
  {
   "cell_type": "code",
   "execution_count": 72,
   "id": "855afc85",
   "metadata": {},
   "outputs": [
    {
     "data": {
      "text/plain": [
       "['ntrigger']"
      ]
     },
     "execution_count": 72,
     "metadata": {},
     "output_type": "execute_result"
    }
   ],
   "source": [
    "ec2.setDetectorConfig('count_time', 0.02)\n",
    "ec2.setDetectorConfig('frame_time', 0.02)\n",
    "ec2.setDetectorConfig('nimages', 1)\n",
    "ec2.setDetectorConfig('compression', 'bslz4')\n",
    "ec2.setDetectorConfig('trigger_mode', 'exte')\n",
    "ec2.setDetectorConfig('ntrigger', 128*128)"
   ]
  },
  {
   "cell_type": "code",
   "execution_count": 88,
   "id": "945b0e03",
   "metadata": {},
   "outputs": [
    {
     "data": {
      "text/plain": [
       "['nimages']"
      ]
     },
     "execution_count": 88,
     "metadata": {},
     "output_type": "execute_result"
    }
   ],
   "source": [
    "ec2.setDetectorConfig('nimages', 1)"
   ]
  },
  {
   "cell_type": "code",
   "execution_count": 95,
   "id": "6fe1ccbe",
   "metadata": {},
   "outputs": [
    {
     "data": {
      "text/plain": [
       "['compression']"
      ]
     },
     "execution_count": 95,
     "metadata": {},
     "output_type": "execute_result"
    }
   ],
   "source": [
    "ec2.setDetectorConfig('compression', 'bslz4')"
   ]
  },
  {
   "cell_type": "code",
   "execution_count": 93,
   "id": "e578f9de",
   "metadata": {},
   "outputs": [
    {
     "data": {
      "text/plain": [
       "{'access_mode': 'rw',\n",
       " 'allowed_values': ['lz4', 'bslz4', 'none'],\n",
       " 'value': 'bslz4',\n",
       " 'value_type': 'string'}"
      ]
     },
     "execution_count": 93,
     "metadata": {},
     "output_type": "execute_result"
    }
   ],
   "source": [
    "ec2.detectorConfig('compression')"
   ]
  },
  {
   "cell_type": "code",
   "execution_count": 114,
   "id": "0aa76cfa",
   "metadata": {},
   "outputs": [
    {
     "data": {
      "text/plain": [
       "{'access_mode': 'r', 'value': 32, 'value_type': 'uint'}"
      ]
     },
     "execution_count": 114,
     "metadata": {},
     "output_type": "execute_result"
    }
   ],
   "source": [
    "ec.detectorConfig('bit_depth_image')"
   ]
  },
  {
   "cell_type": "code",
   "execution_count": 116,
   "id": "bf2c7b8d",
   "metadata": {},
   "outputs": [
    {
     "data": {
      "text/plain": [
       "{'sequence id': 13}"
      ]
     },
     "execution_count": 116,
     "metadata": {},
     "output_type": "execute_result"
    }
   ],
   "source": [
    "ec2.sendDetectorCommand('arm')"
   ]
  },
  {
   "cell_type": "code",
   "execution_count": 119,
   "id": "121ab253",
   "metadata": {},
   "outputs": [
    {
     "data": {
      "text/plain": [
       "{}"
      ]
     },
     "execution_count": 119,
     "metadata": {},
     "output_type": "execute_result"
    }
   ],
   "source": [
    "ec.sendDetectorCommand('trigger')"
   ]
  },
  {
   "cell_type": "code",
   "execution_count": null,
   "id": "967dd3a0",
   "metadata": {},
   "outputs": [],
   "source": []
  }
 ],
 "metadata": {
  "kernelspec": {
   "display_name": "Python 3 (ipykernel)",
   "language": "python",
   "name": "python3"
  },
  "language_info": {
   "codemirror_mode": {
    "name": "ipython",
    "version": 3
   },
   "file_extension": ".py",
   "mimetype": "text/x-python",
   "name": "python",
   "nbconvert_exporter": "python",
   "pygments_lexer": "ipython3",
   "version": "3.9.12"
  }
 },
 "nbformat": 4,
 "nbformat_minor": 5
}
