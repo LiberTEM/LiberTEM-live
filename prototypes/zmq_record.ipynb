{
 "cells": [
  {
   "cell_type": "code",
   "execution_count": 1,
   "id": "6fb90c93",
   "metadata": {},
   "outputs": [],
   "source": [
    "import zmq\n",
    "import numpy as np"
   ]
  },
  {
   "cell_type": "code",
   "execution_count": 2,
   "id": "69b78092",
   "metadata": {},
   "outputs": [],
   "source": [
    "filename = \"zmqdump.dat\""
   ]
  },
  {
   "cell_type": "code",
   "execution_count": 3,
   "id": "06497ed6",
   "metadata": {},
   "outputs": [
    {
     "data": {
      "text/plain": [
       "<SocketContext(connect='tcp://:5013')>"
      ]
     },
     "execution_count": 3,
     "metadata": {},
     "output_type": "execute_result"
    }
   ],
   "source": [
    "context = zmq.Context()\n",
    "zmq_socket = context.socket(zmq.PULL)\n",
    "HOST = ''\n",
    "zmq_socket.connect(f\"tcp://{HOST}:5013\")"
   ]
  },
  {
   "cell_type": "code",
   "execution_count": 4,
   "id": "544355d7",
   "metadata": {},
   "outputs": [],
   "source": [
    "n_frames = 32"
   ]
  },
  {
   "cell_type": "code",
   "execution_count": 5,
   "id": "8b477e35",
   "metadata": {},
   "outputs": [],
   "source": [
    "n_events = 3 + 4*n_frames"
   ]
  },
  {
   "cell_type": "code",
   "execution_count": 8,
   "id": "9ee76f03",
   "metadata": {},
   "outputs": [
    {
     "name": "stdout",
     "output_type": "stream",
     "text": [
      "waiting at 0\n",
      "waiting at 2\n",
      "waiting at 34\n",
      "waiting at 78\n",
      "waiting at 90\n",
      "waiting at 130\n"
     ]
    }
   ],
   "source": [
    "with open(filename, mode='wb') as f:\n",
    "    for i in range(n_events):\n",
    "        gave_feedback = False\n",
    "        res = 0\n",
    "        while not res:\n",
    "            res = zmq_socket.poll(100)\n",
    "            if not res and not gave_feedback:\n",
    "                print(\"waiting at\", i)\n",
    "                gave_feedback = True\n",
    "        data = zmq_socket.recv()\n",
    "        len_field = np.array((len(data), ), dtype=np.int64)\n",
    "        f.write(len_field.tobytes())\n",
    "        f.write(data)\n",
    "    print(finished)"
   ]
  },
  {
   "cell_type": "code",
   "execution_count": null,
   "id": "2f170b9e",
   "metadata": {},
   "outputs": [],
   "source": []
  }
 ],
 "metadata": {
  "kernelspec": {
   "display_name": "Python 3 (ipykernel)",
   "language": "python",
   "name": "python3"
  },
  "language_info": {
   "codemirror_mode": {
    "name": "ipython",
    "version": 3
   },
   "file_extension": ".py",
   "mimetype": "text/x-python",
   "name": "python",
   "nbconvert_exporter": "python",
   "pygments_lexer": "ipython3",
   "version": "3.9.12"
  }
 },
 "nbformat": 4,
 "nbformat_minor": 5
}
