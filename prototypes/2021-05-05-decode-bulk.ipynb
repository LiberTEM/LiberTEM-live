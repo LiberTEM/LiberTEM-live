{
 "cells": [
  {
   "cell_type": "code",
   "execution_count": 21,
   "id": "executed-nurse",
   "metadata": {},
   "outputs": [],
   "source": [
    "# %env NUMBA_DISABLE_JIT=1\n",
    "%load_ext autoreload"
   ]
  },
  {
   "cell_type": "code",
   "execution_count": 27,
   "id": "optimum-demonstration",
   "metadata": {},
   "outputs": [],
   "source": [
    "import numpy as np\n",
    "from libertem_live.detectors.k2is import decode\n",
    "from libertem_live.utils.net import mcast_socket\n",
    "from libertem.common.buffers import bytes_aligned"
   ]
  },
  {
   "cell_type": "code",
   "execution_count": 3,
   "id": "primary-swedish",
   "metadata": {},
   "outputs": [],
   "source": [
    "def read_loop_bulk(s, num_packets=64):\n",
    "    \"\"\"\n",
    "    Read `num_packets` at once\n",
    "    \"\"\"\n",
    "    # NOTE: non-IS data is truncated - we only read the first 0x5758 bytes of the message\n",
    "    packets_per_batch = num_packets\n",
    "    packet_size = 0x5758\n",
    "    buf = bytes_aligned(packet_size * packets_per_batch)\n",
    "    buf_arr = np.frombuffer(buf)\n",
    "    s.settimeout(1)\n",
    "    idx = 0\n",
    "    while True:\n",
    "        buf_part = buf[idx*packet_size:(idx + 1) * packet_size]\n",
    "        p = s.recvmsg_into([buf_part])\n",
    "        assert p[0] == packet_size\n",
    "        idx += 1\n",
    "        if idx == packets_per_batch:\n",
    "            yield (buf, p[1])\n",
    "            idx = 0\n",
    "            buf_arr[:] = 0"
   ]
  },
  {
   "cell_type": "code",
   "execution_count": 4,
   "id": "fitted-colleague",
   "metadata": {},
   "outputs": [],
   "source": [
    "with mcast_socket(2001, '225.1.1.1', '192.168.10.98', 'enp193s0f0') as s:\n",
    "    read_iter = read_loop_bulk(s, num_packets=128)\n",
    "    bulk0 = next(read_iter)"
   ]
  },
  {
   "cell_type": "code",
   "execution_count": 5,
   "id": "small-category",
   "metadata": {},
   "outputs": [
    {
     "data": {
      "text/plain": [
       "2862080"
      ]
     },
     "execution_count": 5,
     "metadata": {},
     "output_type": "execute_result"
    }
   ],
   "source": [
    "len(bulk0[0])"
   ]
  },
  {
   "cell_type": "code",
   "execution_count": 6,
   "id": "revised-performer",
   "metadata": {},
   "outputs": [
    {
     "data": {
      "text/plain": [
       "True"
      ]
     },
     "execution_count": 6,
     "metadata": {},
     "output_type": "execute_result"
    }
   ],
   "source": [
    "len(bulk0[0]) == 0x5758 * 128"
   ]
  },
  {
   "cell_type": "code",
   "execution_count": 7,
   "id": "educational-questionnaire",
   "metadata": {},
   "outputs": [],
   "source": [
    "out = np.zeros((128, 930*16), dtype=np.float32)"
   ]
  },
  {
   "cell_type": "code",
   "execution_count": 8,
   "id": "animal-bouquet",
   "metadata": {},
   "outputs": [
    {
     "name": "stdout",
     "output_type": "stream",
     "text": [
      "Automatic pdb calling has been turned ON\n"
     ]
    }
   ],
   "source": [
    "%pdb on"
   ]
  },
  {
   "cell_type": "code",
   "execution_count": 34,
   "id": "accessible-nirvana",
   "metadata": {},
   "outputs": [
    {
     "data": {
      "text/plain": [
       "array([[9699506,       0,     240],\n",
       "       [9699506,       0,     224],\n",
       "       [9699506,       0,     208],\n",
       "       [9699506,       0,     192],\n",
       "       [9699506,       0,     176],\n",
       "       [9699506,       0,     160],\n",
       "       [9699506,       0,     144],\n",
       "       [9699506,       0,     128],\n",
       "       [9699506,       0,     112],\n",
       "       [9699506,       0,      96],\n",
       "       [9699506,       0,      80],\n",
       "       [9699506,       0,      64],\n",
       "       [9699506,       0,      48],\n",
       "       [9699506,       0,      32],\n",
       "       [9699506,       0,      16],\n",
       "       [9699506,       0,       0],\n",
       "       [9699506,     930,     240],\n",
       "       [9699506,     930,     224],\n",
       "       [9699506,     930,     208],\n",
       "       [9699506,     930,     192],\n",
       "       [9699506,     930,     176],\n",
       "       [9699506,     930,     160],\n",
       "       [9699506,     930,     144],\n",
       "       [9699506,     930,     128],\n",
       "       [9699506,     930,     112],\n",
       "       [9699506,     930,      96],\n",
       "       [9699506,     930,      80],\n",
       "       [9699506,     930,      64],\n",
       "       [9699506,     930,      48],\n",
       "       [9699506,     930,      32],\n",
       "       [9699506,     930,      16],\n",
       "       [9699506,     930,       0],\n",
       "       [9699507,       0,     240],\n",
       "       [9699507,       0,     224],\n",
       "       [9699507,       0,     208],\n",
       "       [9699507,       0,     192],\n",
       "       [9699507,       0,     176],\n",
       "       [9699507,       0,     160],\n",
       "       [9699507,       0,     144],\n",
       "       [9699507,       0,     128],\n",
       "       [9699507,       0,     112],\n",
       "       [9699507,       0,      96],\n",
       "       [9699507,       0,      80],\n",
       "       [9699507,       0,      64],\n",
       "       [9699507,       0,      48],\n",
       "       [9699507,       0,      32],\n",
       "       [9699507,       0,      16],\n",
       "       [9699507,       0,       0],\n",
       "       [9699507,     930,     240],\n",
       "       [9699507,     930,     224],\n",
       "       [9699507,     930,     208],\n",
       "       [9699507,     930,     192],\n",
       "       [9699507,     930,     176],\n",
       "       [9699507,     930,     160],\n",
       "       [9699507,     930,     144],\n",
       "       [9699507,     930,     128],\n",
       "       [9699507,     930,     112],\n",
       "       [9699507,     930,      96],\n",
       "       [9699507,     930,      80],\n",
       "       [9699507,     930,      64],\n",
       "       [9699507,     930,      48],\n",
       "       [9699507,     930,      32],\n",
       "       [9699507,     930,      16],\n",
       "       [9699507,     930,       0],\n",
       "       [9699508,       0,     240],\n",
       "       [9699508,       0,     224],\n",
       "       [9699508,       0,     208],\n",
       "       [9699508,       0,     192],\n",
       "       [9699508,       0,     176],\n",
       "       [9699508,       0,     160],\n",
       "       [9699508,       0,     144],\n",
       "       [9699508,       0,     128],\n",
       "       [9699508,       0,     112],\n",
       "       [9699508,       0,      96],\n",
       "       [9699508,       0,      80],\n",
       "       [9699508,       0,      64],\n",
       "       [9699508,       0,      48],\n",
       "       [9699508,       0,      32],\n",
       "       [9699508,       0,      16],\n",
       "       [9699508,       0,       0],\n",
       "       [9699508,     930,     240],\n",
       "       [9699508,     930,     224],\n",
       "       [9699508,     930,     208],\n",
       "       [9699508,     930,     192],\n",
       "       [9699508,     930,     176],\n",
       "       [9699508,     930,     160],\n",
       "       [9699508,     930,     144],\n",
       "       [9699508,     930,     128],\n",
       "       [9699508,     930,     112],\n",
       "       [9699508,     930,      96],\n",
       "       [9699508,     930,      80],\n",
       "       [9699508,     930,      64],\n",
       "       [9699508,     930,      48],\n",
       "       [9699508,     930,      32],\n",
       "       [9699508,     930,      16],\n",
       "       [9699508,     930,       0],\n",
       "       [9699509,       0,     240],\n",
       "       [9699509,       0,     224],\n",
       "       [9699509,       0,     208],\n",
       "       [9699509,       0,     192],\n",
       "       [9699509,       0,     176],\n",
       "       [9699509,       0,     160],\n",
       "       [9699509,       0,     144],\n",
       "       [9699509,       0,     128],\n",
       "       [9699509,       0,     112],\n",
       "       [9699509,       0,      96],\n",
       "       [9699509,       0,      80],\n",
       "       [9699509,       0,      64],\n",
       "       [9699509,       0,      48],\n",
       "       [9699509,       0,      32],\n",
       "       [9699509,       0,      16],\n",
       "       [9699509,       0,       0],\n",
       "       [9699509,     930,     240],\n",
       "       [9699509,     930,     224],\n",
       "       [9699509,     930,     208],\n",
       "       [9699509,     930,     192],\n",
       "       [9699509,     930,     176],\n",
       "       [9699509,     930,     160],\n",
       "       [9699509,     930,     144],\n",
       "       [9699509,     930,     128],\n",
       "       [9699509,     930,     112],\n",
       "       [9699509,     930,      96],\n",
       "       [9699509,     930,      80],\n",
       "       [9699509,     930,      64],\n",
       "       [9699509,     930,      48],\n",
       "       [9699509,     930,      32],\n",
       "       [9699509,     930,      16],\n",
       "       [9699509,     930,       0]], dtype=uint32)"
      ]
     },
     "execution_count": 34,
     "metadata": {},
     "output_type": "execute_result"
    }
   ],
   "source": [
    "%autoreload 2\n",
    "inp_mem = bulk0[0]\n",
    "inp_arr = np.frombuffer(inp_mem, dtype=\"u1\")\n",
    "decode.decode_bulk_uint12_le(inp=inp_mem, out=out, num_packets=128)"
   ]
  },
  {
   "cell_type": "code",
   "execution_count": 45,
   "id": "dated-stations",
   "metadata": {
    "scrolled": false
   },
   "outputs": [
    {
     "name": "stdout",
     "output_type": "stream",
     "text": [
      "2.21 ms ± 24.7 µs per loop (mean ± std. dev. of 7 runs, 100 loops each)\n"
     ]
    }
   ],
   "source": [
    "%autoreload 2\n",
    "inp_mem = bulk0[0]\n",
    "inp_arr = np.frombuffer(inp_mem, dtype=\"u1\")\n",
    "%timeit decode.decode_bulk_uint12_le(inp=inp_mem, out=out, num_packets=128)"
   ]
  },
  {
   "cell_type": "code",
   "execution_count": 46,
   "id": "continued-annual",
   "metadata": {},
   "outputs": [
    {
     "data": {
      "text/plain": [
       "0.01"
      ]
     },
     "execution_count": 46,
     "metadata": {},
     "output_type": "execute_result"
    }
   ],
   "source": [
    "4/400"
   ]
  },
  {
   "cell_type": "code",
   "execution_count": null,
   "id": "offshore-native",
   "metadata": {},
   "outputs": [],
   "source": [
    "%autoreload 2\n",
    "inp_mem = bulk0[0]\n",
    "inp_arr = np.frombuffer(inp_mem, dtype=\"u1\")\n",
    "%timeit decode.decode_bulk_uint12_le(inp=inp_mem, out=out, num_packets=128)"
   ]
  },
  {
   "cell_type": "code",
   "execution_count": 11,
   "id": "considerable-designer",
   "metadata": {},
   "outputs": [],
   "source": [
    "out_2d = out.reshape((4, 1860, 256))"
   ]
  },
  {
   "cell_type": "code",
   "execution_count": 12,
   "id": "featured-corps",
   "metadata": {},
   "outputs": [
    {
     "name": "stdout",
     "output_type": "stream",
     "text": [
      "(1024, 4)\n",
      "(64, 4)\n"
     ]
    }
   ],
   "source": [
    "print(out_2d[0, :930, :16].strides)\n",
    "print(np.zeros((930, 16), dtype=np.float32).strides)"
   ]
  },
  {
   "cell_type": "code",
   "execution_count": 13,
   "id": "arabic-radiation",
   "metadata": {},
   "outputs": [
    {
     "data": {
      "text/plain": [
       "1294298100.0"
      ]
     },
     "execution_count": 13,
     "metadata": {},
     "output_type": "execute_result"
    }
   ],
   "source": [
    "# %%timeit\n",
    "np.sum(out)"
   ]
  },
  {
   "cell_type": "code",
   "execution_count": 14,
   "id": "dried-booth",
   "metadata": {},
   "outputs": [
    {
     "data": {
      "text/plain": [
       "0.005"
      ]
     },
     "execution_count": 14,
     "metadata": {},
     "output_type": "execute_result"
    }
   ],
   "source": [
    "2/400"
   ]
  },
  {
   "cell_type": "code",
   "execution_count": 15,
   "id": "measured-alarm",
   "metadata": {},
   "outputs": [],
   "source": [
    "out[:] = 0\n",
    "out_1 = np.zeros((64, 930*16), dtype=np.float32)\n",
    "out_2 = np.zeros((64, 930*16), dtype=np.float32)"
   ]
  },
  {
   "cell_type": "code",
   "execution_count": 16,
   "id": "removable-whale",
   "metadata": {},
   "outputs": [
    {
     "data": {
      "text/plain": [
       "array([[9699508,       0,     240],\n",
       "       [9699508,       0,     224],\n",
       "       [9699508,       0,     208],\n",
       "       [9699508,       0,     192],\n",
       "       [9699508,       0,     176],\n",
       "       [9699508,       0,     160],\n",
       "       [9699508,       0,     144],\n",
       "       [9699508,       0,     128],\n",
       "       [9699508,       0,     112],\n",
       "       [9699508,       0,      96],\n",
       "       [9699508,       0,      80],\n",
       "       [9699508,       0,      64],\n",
       "       [9699508,       0,      48],\n",
       "       [9699508,       0,      32],\n",
       "       [9699508,       0,      16],\n",
       "       [9699508,       0,       0],\n",
       "       [9699508,     930,     240],\n",
       "       [9699508,     930,     224],\n",
       "       [9699508,     930,     208],\n",
       "       [9699508,     930,     192],\n",
       "       [9699508,     930,     176],\n",
       "       [9699508,     930,     160],\n",
       "       [9699508,     930,     144],\n",
       "       [9699508,     930,     128],\n",
       "       [9699508,     930,     112],\n",
       "       [9699508,     930,      96],\n",
       "       [9699508,     930,      80],\n",
       "       [9699508,     930,      64],\n",
       "       [9699508,     930,      48],\n",
       "       [9699508,     930,      32],\n",
       "       [9699508,     930,      16],\n",
       "       [9699508,     930,       0],\n",
       "       [9699509,       0,     240],\n",
       "       [9699509,       0,     224],\n",
       "       [9699509,       0,     208],\n",
       "       [9699509,       0,     192],\n",
       "       [9699509,       0,     176],\n",
       "       [9699509,       0,     160],\n",
       "       [9699509,       0,     144],\n",
       "       [9699509,       0,     128],\n",
       "       [9699509,       0,     112],\n",
       "       [9699509,       0,      96],\n",
       "       [9699509,       0,      80],\n",
       "       [9699509,       0,      64],\n",
       "       [9699509,       0,      48],\n",
       "       [9699509,       0,      32],\n",
       "       [9699509,       0,      16],\n",
       "       [9699509,       0,       0],\n",
       "       [9699509,     930,     240],\n",
       "       [9699509,     930,     224],\n",
       "       [9699509,     930,     208],\n",
       "       [9699509,     930,     192],\n",
       "       [9699509,     930,     176],\n",
       "       [9699509,     930,     160],\n",
       "       [9699509,     930,     144],\n",
       "       [9699509,     930,     128],\n",
       "       [9699509,     930,     112],\n",
       "       [9699509,     930,      96],\n",
       "       [9699509,     930,      80],\n",
       "       [9699509,     930,      64],\n",
       "       [9699509,     930,      48],\n",
       "       [9699509,     930,      32],\n",
       "       [9699509,     930,      16],\n",
       "       [9699509,     930,       0]], dtype=uint32)"
      ]
     },
     "execution_count": 16,
     "metadata": {},
     "output_type": "execute_result"
    }
   ],
   "source": [
    "decode.decode_bulk_uint12_le(inp=bulk0[0], out=out, num_packets=128)\n",
    "decode.decode_bulk_uint12_le(inp=bulk0[0], out=out_1, num_packets=64)\n",
    "decode.decode_bulk_uint12_le(inp=bulk0[0][64*0x5758:], out=out_2, num_packets=64)"
   ]
  },
  {
   "cell_type": "code",
   "execution_count": 17,
   "id": "peripheral-mills",
   "metadata": {},
   "outputs": [
    {
     "data": {
      "text/plain": [
       "True"
      ]
     },
     "execution_count": 17,
     "metadata": {},
     "output_type": "execute_result"
    }
   ],
   "source": [
    "np.allclose(out[:64], out_1)\n",
    "np.allclose(out[64:], out_2)"
   ]
  },
  {
   "cell_type": "code",
   "execution_count": 18,
   "id": "upset-funds",
   "metadata": {},
   "outputs": [],
   "source": [
    "%matplotlib widget"
   ]
  },
  {
   "cell_type": "code",
   "execution_count": 19,
   "id": "dependent-perspective",
   "metadata": {},
   "outputs": [],
   "source": [
    "import matplotlib.pyplot as plt"
   ]
  },
  {
   "cell_type": "code",
   "execution_count": 43,
   "id": "reserved-hampton",
   "metadata": {},
   "outputs": [
    {
     "data": {
      "application/vnd.jupyter.widget-view+json": {
       "model_id": "e882702eadd844e5a5963bd15ac13cea",
       "version_major": 2,
       "version_minor": 0
      },
      "text/plain": [
       "Canvas(toolbar=Toolbar(toolitems=[('Home', 'Reset original view', 'home', 'home'), ('Back', 'Back to previous …"
      ]
     },
     "metadata": {},
     "output_type": "display_data"
    },
    {
     "data": {
      "text/plain": [
       "<matplotlib.colorbar.Colorbar at 0x7f20fe5d9370>"
      ]
     },
     "execution_count": 43,
     "metadata": {},
     "output_type": "execute_result"
    }
   ],
   "source": [
    "plt.figure()\n",
    "plt.imshow(out_2d[0])\n",
    "plt.colorbar()"
   ]
  },
  {
   "cell_type": "code",
   "execution_count": null,
   "id": "armed-virgin",
   "metadata": {},
   "outputs": [],
   "source": []
  }
 ],
 "metadata": {
  "kernelspec": {
   "display_name": "Python 3",
   "language": "python",
   "name": "python3"
  },
  "language_info": {
   "codemirror_mode": {
    "name": "ipython",
    "version": 3
   },
   "file_extension": ".py",
   "mimetype": "text/x-python",
   "name": "python",
   "nbconvert_exporter": "python",
   "pygments_lexer": "ipython3",
   "version": "3.8.8"
  }
 },
 "nbformat": 4,
 "nbformat_minor": 5
}
