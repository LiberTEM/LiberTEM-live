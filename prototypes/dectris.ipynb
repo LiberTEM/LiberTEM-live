{
 "cells": [
  {
   "cell_type": "code",
   "execution_count": 1,
   "id": "b4aae32c",
   "metadata": {},
   "outputs": [],
   "source": [
    "from DEigerClient import DEigerClient"
   ]
  },
  {
   "cell_type": "code",
   "execution_count": 36,
   "id": "5ccd3cad",
   "metadata": {},
   "outputs": [],
   "source": [
    "DCU_IP = \"\"\n",
    "ec = DEigerClient(DCU_IP, port=4011)"
   ]
  },
  {
   "cell_type": "code",
   "execution_count": 3,
   "id": "e72a730a",
   "metadata": {},
   "outputs": [
    {
     "data": {
      "text/plain": [
       "['header_appendix', 'header_detail', 'image_appendix', 'mode']"
      ]
     },
     "execution_count": 3,
     "metadata": {},
     "output_type": "execute_result"
    }
   ],
   "source": [
    "ec.streamConfig()"
   ]
  },
  {
   "cell_type": "code",
   "execution_count": 4,
   "id": "493276d7",
   "metadata": {},
   "outputs": [
    {
     "data": {
      "text/plain": [
       "{'access_mode': 'r',\n",
       " 'allowed_values': ['disabled', 'ready', 'acquire', 'error'],\n",
       " 'value': 'acquire',\n",
       " 'value_type': 'string'}"
      ]
     },
     "execution_count": 4,
     "metadata": {},
     "output_type": "execute_result"
    }
   ],
   "source": [
    "ec.streamStatus('state')"
   ]
  },
  {
   "cell_type": "code",
   "execution_count": 5,
   "id": "32d33a68",
   "metadata": {},
   "outputs": [
    {
     "data": {
      "text/plain": [
       "{'access_mode': 'r',\n",
       " 'unit': 'deg C',\n",
       " 'value': 32.99835205078125,\n",
       " 'value_type': 'float'}"
      ]
     },
     "execution_count": 5,
     "metadata": {},
     "output_type": "execute_result"
    }
   ],
   "source": [
    "ec.detectorStatus('temperature')"
   ]
  },
  {
   "cell_type": "code",
   "execution_count": 6,
   "id": "6e42aa40",
   "metadata": {},
   "outputs": [
    {
     "data": {
      "text/plain": [
       "{}"
      ]
     },
     "execution_count": 6,
     "metadata": {},
     "output_type": "execute_result"
    }
   ],
   "source": [
    "ec.sendDetectorCommand('initialize')"
   ]
  },
  {
   "cell_type": "code",
   "execution_count": 7,
   "id": "ed81b42e",
   "metadata": {},
   "outputs": [
    {
     "data": {
      "text/plain": [
       "b''"
      ]
     },
     "execution_count": 7,
     "metadata": {},
     "output_type": "execute_result"
    }
   ],
   "source": [
    "ec.setStreamConfig('mode', 'enabled')"
   ]
  },
  {
   "cell_type": "code",
   "execution_count": 8,
   "id": "503c210c",
   "metadata": {},
   "outputs": [
    {
     "data": {
      "text/plain": [
       "{'access_mode': 'r', 'value': 32, 'value_type': 'uint'}"
      ]
     },
     "execution_count": 8,
     "metadata": {},
     "output_type": "execute_result"
    }
   ],
   "source": [
    "ec.detectorConfig('bit_depth_image')"
   ]
  },
  {
   "cell_type": "code",
   "execution_count": 11,
   "id": "22db4dab",
   "metadata": {},
   "outputs": [
    {
     "data": {
      "text/plain": [
       "['compression']"
      ]
     },
     "execution_count": 11,
     "metadata": {},
     "output_type": "execute_result"
    }
   ],
   "source": [
    "ec.setDetectorConfig('count_time', 0.1)\n",
    "ec.setDetectorConfig('frame_time', 0.1)\n",
    "ec.setDetectorConfig('trigger_mode', 'ints')\n",
    "ec.setDetectorConfig('nimages', 32)\n",
    "ec.setDetectorConfig('compression', 'none')"
   ]
  },
  {
   "cell_type": "code",
   "execution_count": 35,
   "id": "58a4e73f",
   "metadata": {},
   "outputs": [
    {
     "data": {
      "text/plain": [
       "{'sequence id': 14}"
      ]
     },
     "execution_count": 35,
     "metadata": {},
     "output_type": "execute_result"
    }
   ],
   "source": [
    "ec.sendDetectorCommand('arm')"
   ]
  },
  {
   "cell_type": "code",
   "execution_count": 31,
   "id": "d88936d8",
   "metadata": {},
   "outputs": [
    {
     "data": {
      "text/plain": [
       "{}"
      ]
     },
     "execution_count": 31,
     "metadata": {},
     "output_type": "execute_result"
    }
   ],
   "source": [
    "ec.sendDetectorCommand('trigger')\n"
   ]
  },
  {
   "cell_type": "code",
   "execution_count": null,
   "id": "4e4cf19b",
   "metadata": {},
   "outputs": [],
   "source": [
    "ec.sendDetectorCommand('disarm')"
   ]
  },
  {
   "cell_type": "code",
   "execution_count": null,
   "id": "77dd2cc1",
   "metadata": {},
   "outputs": [],
   "source": []
  }
 ],
 "metadata": {
  "kernelspec": {
   "display_name": "Python 3 (ipykernel)",
   "language": "python",
   "name": "python3"
  },
  "language_info": {
   "codemirror_mode": {
    "name": "ipython",
    "version": 3
   },
   "file_extension": ".py",
   "mimetype": "text/x-python",
   "name": "python",
   "nbconvert_exporter": "python",
   "pygments_lexer": "ipython3",
   "version": "3.9.12"
  }
 },
 "nbformat": 4,
 "nbformat_minor": 5
}
