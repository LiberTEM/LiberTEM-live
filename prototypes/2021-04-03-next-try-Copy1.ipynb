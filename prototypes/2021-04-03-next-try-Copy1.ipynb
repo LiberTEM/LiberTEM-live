{
 "cells": [
  {
   "cell_type": "code",
   "execution_count": 1,
   "id": "removed-consistency",
   "metadata": {},
   "outputs": [],
   "source": [
    "%matplotlib widget"
   ]
  },
  {
   "cell_type": "code",
   "execution_count": 2,
   "id": "deadly-circuit",
   "metadata": {},
   "outputs": [],
   "source": [
    "from matplotlib import pyplot as plt"
   ]
  },
  {
   "cell_type": "code",
   "execution_count": 3,
   "id": "european-bristol",
   "metadata": {},
   "outputs": [],
   "source": [
    "from libertem.udf import UDF"
   ]
  },
  {
   "cell_type": "code",
   "execution_count": 4,
   "id": "efficient-suggestion",
   "metadata": {},
   "outputs": [],
   "source": [
    "from libertem.udf.sumsigudf import SumSigUDF\n",
    "from libertem.udf.base import NoOpUDF\n",
    "from libertem.common import Slice, Shape"
   ]
  },
  {
   "cell_type": "code",
   "execution_count": 5,
   "id": "stunning-lodge",
   "metadata": {},
   "outputs": [],
   "source": [
    "import numpy as np\n",
    "import zmq\n",
    "import threading\n",
    "import time\n",
    "import uuid\n",
    "from libertem_live.detectors.common import StoppableThreadMixin, send_serialized, recv_serialized\n",
    "from libertem_live.detectors.k2is.state import EventType, SetUDFsEvent, StopEvent, EventReplicaClientThread, SetNavShapeEvent, StartProcessingEvent, StopProcessingEvent\n",
    "from libertem_live.detectors.k2is.proto import ResultSink\n",
    "from libertem.analysis.com import com_masks_factory, center_shifts, magnitude, curl_2d, divergence, identity, flip_y, rotate_deg\n",
    "from libertem.udf.masks import ApplyMasksUDF\n",
    "from libertem.udf.base import UDFMeta, UDFResults\n",
    "from libertem.common import Shape\n",
    "from libertem.common.buffers import BufferWrapper\n",
    "from libertem.viz.bqp import BQLive2DPlot"
   ]
  },
  {
   "cell_type": "code",
   "execution_count": 6,
   "id": "collected-height",
   "metadata": {},
   "outputs": [],
   "source": [
    "class FakeDataSet:\n",
    "    def __init__(self, nav_shape):\n",
    "        self.nav_shape = nav_shape\n",
    "        self.shape = Shape(nav_shape + (1860, 2048), sig_dims=2)\n",
    "        self.dtype = np.uint16\n",
    "\n",
    "\n",
    "def _get_dtype(udfs, dtype, corrections):\n",
    "    if corrections is not None and corrections.have_corrections():\n",
    "        tmp_dtype = np.result_type(np.float32, dtype)\n",
    "    else:\n",
    "        tmp_dtype = dtype\n",
    "    for udf in udfs:\n",
    "        tmp_dtype = np.result_type(\n",
    "            udf.get_preferred_input_dtype(),\n",
    "            tmp_dtype\n",
    "        )\n",
    "    return tmp_dtype\n",
    "\n",
    "\n",
    "def _prepare_run_for_dataset(\n",
    "    udfs, dataset, executor, roi, corrections, backends, dry\n",
    "):\n",
    "    meta = UDFMeta(\n",
    "        partition_shape=None,\n",
    "        dataset_shape=dataset.shape,\n",
    "        roi=roi,\n",
    "        dataset_dtype=dataset.dtype,\n",
    "        input_dtype=_get_dtype(udfs, dataset.dtype, corrections),\n",
    "        corrections=corrections,\n",
    "    )\n",
    "    for udf in udfs:\n",
    "        udf.set_meta(meta)\n",
    "        udf.init_result_buffers()\n",
    "        udf.allocate_for_full(dataset, roi)\n",
    "\n",
    "        if hasattr(udf, 'preprocess'):\n",
    "            udf.set_views_for_dataset(dataset)\n",
    "            udf.preprocess()"
   ]
  },
  {
   "cell_type": "code",
   "execution_count": 7,
   "id": "understanding-lighting",
   "metadata": {},
   "outputs": [],
   "source": [
    "from libertem.common.buffers import PreallocBufferWrapper"
   ]
  },
  {
   "cell_type": "code",
   "execution_count": 8,
   "id": "rubber-superior",
   "metadata": {},
   "outputs": [],
   "source": [
    "def run_for_dataset_sync(st, udfs, dataset, executor,\n",
    "                         roi=None, progress=False, corrections=None, backends=None, dry=False):\n",
    "\n",
    "    cancel_id = str(uuid.uuid4())\n",
    "    \n",
    "    sink = ResultSink()\n",
    "\n",
    "    def _start_processing():\n",
    "        st.dispatch(SetUDFsEvent(udfs=udfs))\n",
    "        st.dispatch(SetNavShapeEvent(nav_shape=tuple(dataset.shape.nav)))\n",
    "        st.dispatch(StartProcessingEvent())\n",
    "        \n",
    "    def handle_start(state, new_state, event, effects):\n",
    "        _start_processing()\n",
    "    st.sub.store.listen(EventType.CAM_CONNECTED, handle_start)\n",
    "    st.sub.store.listen(EventType.STARTUP_COMPLETE, handle_start)\n",
    "    \n",
    "    _start_processing()\n",
    "\n",
    "    damage = BufferWrapper(kind='nav', dtype=int)\n",
    "    damage.set_shape_ds(dataset.shape, roi)\n",
    "    damage.allocate()\n",
    "\n",
    "    all_results = []\n",
    "\n",
    "    udf_copies = [\n",
    "        udf.copy()\n",
    "        for udf in udfs\n",
    "    ]\n",
    "\n",
    "    _prepare_run_for_dataset(\n",
    "        udf_copies, dataset, executor, roi, corrections, backends, dry\n",
    "    )\n",
    "\n",
    "    current_epoch = 0\n",
    "    \n",
    "    try:\n",
    "        with sink:\n",
    "            while True:\n",
    "                # check for errors in our state replication:\n",
    "                st.maybe_raise()\n",
    "\n",
    "                # NOTE: keep any recurring checks above the poll, as they need to be executed\n",
    "                # even if we don't get a result here\n",
    "                result = sink.poll(timeout=500)\n",
    "                if result is None:\n",
    "                    current_epoch = -1  # FIXME: is this too aggressive?\n",
    "                    continue\n",
    "                    \n",
    "                partition_slice, part_results, epoch, packet_counter = result\n",
    "\n",
    "                if epoch != current_epoch:\n",
    "                    # reset UDF copies after each run:\n",
    "                    udf_copies = [\n",
    "                        udf.copy()\n",
    "                        for udf in udfs\n",
    "                    ]\n",
    "                    _prepare_run_for_dataset(\n",
    "                        udf_copies, dataset, executor, roi, corrections, backends, dry\n",
    "                    )\n",
    "                    current_epoch = epoch\n",
    "                    damage.data[:] = 0\n",
    "\n",
    "                all_results.append((partition_slice, part_results, epoch, packet_counter))\n",
    "\n",
    "                for results, udf in zip(part_results.buffers, udf_copies):\n",
    "                    udf.set_views_for_partition(partition_slice=partition_slice)\n",
    "                    udf.merge(\n",
    "                        dest=udf.results.get_proxy(),\n",
    "                        src=results.get_proxy()\n",
    "                    )\n",
    "                    udf.clear_views()\n",
    "                v = damage.get_view_for_partition(partition_slice=partition_slice)\n",
    "                v[:] += 1\n",
    "                bool_damage = PreallocBufferWrapper(damage.data >= 8, kind='nav', dtype=bool)\n",
    "                bool_damage.set_shape_ds(dataset.shape, roi)\n",
    "                yield UDFResults(\n",
    "                    buffers=tuple(\n",
    "                        udf._do_get_results()\n",
    "                        for udf in udf_copies\n",
    "                    ),\n",
    "                    damage=bool_damage,\n",
    "                ), all_results\n",
    "    finally:\n",
    "        st.dispatch(StopProcessingEvent())\n",
    "        st.sub.store.remove_callback(handle_start)"
   ]
  },
  {
   "cell_type": "code",
   "execution_count": 9,
   "id": "amino-occurrence",
   "metadata": {},
   "outputs": [],
   "source": [
    "st = EventReplicaClientThread()\n",
    "st.start()"
   ]
  },
  {
   "cell_type": "code",
   "execution_count": 10,
   "id": "adjacent-monte",
   "metadata": {},
   "outputs": [],
   "source": [
    "def print_event(state, new_state, event, effects):\n",
    "    print(f\"reveived event: {event} {time.time()}\")\n",
    "st.sub.store.listen_all(print_event)"
   ]
  },
  {
   "cell_type": "code",
   "execution_count": 11,
   "id": "arabic-worship",
   "metadata": {},
   "outputs": [],
   "source": [
    "def iDPC(x_centers, y_centers):\n",
    "    realy = x_centers.shape[0]\n",
    "    realx = x_centers.shape[1]\n",
    "    \n",
    "    ky = np.linspace(-0.5, 0.5, realy, endpoint=False).reshape((-1, 1))\n",
    "    kx = np.linspace(-0.5, 0.5, realx, endpoint=False).reshape((1, -1))\n",
    "    \n",
    "    # We shift the arrays instead of the FFT results since they are smaller\n",
    "    # and it is convenient to have the zero frequency at (0, 0)\n",
    "    s_kx = np.fft.ifftshift(kx)\n",
    "    s_ky = np.fft.ifftshift(ky)\n",
    "    \n",
    "    half_x = int(np.ceil((realx + 1) / 2))\n",
    "\n",
    "    # Instead of convertig the complex result to a Hermitian,\n",
    "    # we just take the FFT for real values that doesn't even calculate\n",
    "    # those values\n",
    "    \n",
    "    fft_DPC_Y = np.fft.rfft2(y_centers)\n",
    "    fft_DPC_X = np.fft.rfft2(x_centers)\n",
    "    \n",
    "    divider = (s_kx[:, :half_x]**2 + s_ky**2)\n",
    "    # Avoid div0\n",
    "    divider[0, 0] = 1\n",
    "    \n",
    "    fft_iDPC = s_kx[:, :half_x] * fft_DPC_X + s_ky * fft_DPC_Y\n",
    "    fft_iDPC = fft_iDPC / 2 / np.pi / 1j / divider\n",
    "    # We can't calculate the absolute phase anyway\n",
    "    fft_iDPC[0, 0] = 0\n",
    "    \n",
    "    result = np.zeros(x_centers.shape, dtype=np.float32)\n",
    "    \n",
    "    calculated = np.fft.irfft2(fft_iDPC)\n",
    "    \n",
    "    result[:calculated.shape[0], :calculated.shape[1]] = calculated\n",
    "    \n",
    "    return result"
   ]
  },
  {
   "cell_type": "code",
   "execution_count": 12,
   "id": "breathing-movement",
   "metadata": {},
   "outputs": [],
   "source": [
    "import numba"
   ]
  },
  {
   "cell_type": "code",
   "execution_count": 13,
   "id": "theoretical-words",
   "metadata": {},
   "outputs": [
    {
     "data": {
      "text/plain": [
       "slice(0, 65, None)"
      ]
     },
     "execution_count": 13,
     "metadata": {},
     "output_type": "execute_result"
    }
   ],
   "source": [
    "a = np.ones((128, 16), dtype=bool)\n",
    "a[65, 3] = 0\n",
    "np.all(a, axis=1)\n",
    "\n",
    "@numba.njit(boundscheck=True)\n",
    "def get_inner_slice(arr):\n",
    "    first_idx = 0\n",
    "    last_idx = 0\n",
    "    while last_idx < arr.shape[0] and arr[last_idx]:\n",
    "        last_idx += 1\n",
    "    return (first_idx, last_idx)\n",
    "\n",
    "slice(*get_inner_slice(np.all(a, axis=1)))"
   ]
  },
  {
   "cell_type": "code",
   "execution_count": 14,
   "id": "aggregate-starter",
   "metadata": {},
   "outputs": [],
   "source": [
    "x = 500\n",
    "y = 440\n",
    "w = 921"
   ]
  },
  {
   "cell_type": "code",
   "execution_count": 15,
   "id": "explicit-profit",
   "metadata": {},
   "outputs": [],
   "source": [
    "CENTER_Y, CENTER_X = 900, 960\n",
    "ROTATE = 115\n",
    "\n",
    "\n",
    "# FLYBACK_COMPENSATION = 1  # 64x64\n",
    "FLYBACK_COMPENSATION = 4  # 128x128"
   ]
  },
  {
   "cell_type": "code",
   "execution_count": 16,
   "id": "hungarian-aberdeen",
   "metadata": {},
   "outputs": [],
   "source": [
    "def transf(y_centers, x_centers, deg):\n",
    "    t = rotate_deg(deg) @ flip_y()\n",
    "    t_y, t_x = t @ (y_centers.reshape((-1,)), x_centers.reshape((-1,)),)\n",
    "    return t_y.reshape(y_centers.shape), t_x.reshape(x_centers.shape)"
   ]
  },
  {
   "cell_type": "code",
   "execution_count": 17,
   "id": "wrong-royal",
   "metadata": {},
   "outputs": [
    {
     "data": {
      "text/plain": [
       "(array([[-0.70710678,  0.70710678]]), array([[0.70710678, 0.70710678]]))"
      ]
     },
     "execution_count": 17,
     "metadata": {},
     "output_type": "execute_result"
    }
   ],
   "source": [
    "transf(np.array([(1, 0)]), np.array([(0, 1)]), 45)"
   ]
  },
  {
   "cell_type": "code",
   "execution_count": 18,
   "id": "creative-kidney",
   "metadata": {},
   "outputs": [],
   "source": [
    "from libertem.common.buffers import reshaped_view\n",
    "\n",
    "def force_shape(data, shape):\n",
    "    result = np.zeros(shape, dtype=data.dtype)\n",
    "    flat_result = reshaped_view(result, (-1,))\n",
    "    flat_data = reshaped_view(data, (-1,))\n",
    "    end = min(len(flat_result), len(flat_data))\n",
    "    flat_result[:end] = flat_data[:end]\n",
    "    return result"
   ]
  },
  {
   "cell_type": "code",
   "execution_count": 19,
   "id": "subtle-scene",
   "metadata": {},
   "outputs": [],
   "source": [
    "def visualize_idpc(udf_result, damage):\n",
    "    ref_y = CENTER_Y\n",
    "    ref_x = CENTER_X\n",
    "    \n",
    "    data = udf_result['intensity'].data\n",
    "    \n",
    "    target_shape = np.array(data.shape[:2])\n",
    "    target_shape[0] += 0\n",
    "    target_shape[1] += FLYBACK_COMPENSATION\n",
    "    \n",
    "    data = force_shape(data, tuple(target_shape) + tuple(data.shape[2:]))\n",
    "    damage = force_shape(damage.data, target_shape)\n",
    "    \n",
    "    img_sum, img_y, img_x = (\n",
    "        data[..., 0],\n",
    "        data[..., 1],\n",
    "        data[..., 2],\n",
    "    )\n",
    "    \n",
    "    y_centers, x_centers = center_shifts(img_sum, img_y, img_x, ref_y, ref_x)\n",
    "    y_centers, x_centers = transf(y_centers, x_centers, ROTATE)\n",
    "    \n",
    "    # y slice with all-valid values\n",
    "    inner_slice = slice(*get_inner_slice(np.all(damage, axis=1)))\n",
    "    \n",
    "    result = np.zeros_like(y_centers, dtype=np.float32)\n",
    "    \n",
    "    if inner_slice.start != inner_slice.stop:\n",
    "        result[inner_slice, ...] = iDPC(x_centers[inner_slice, ...], y_centers[inner_slice, ...])\n",
    "    \n",
    "    new_damage = np.zeros_like(damage)\n",
    "    new_damage[inner_slice, ...] = True\n",
    "    \n",
    "    return result, new_damage"
   ]
  },
  {
   "cell_type": "code",
   "execution_count": 20,
   "id": "abroad-timing",
   "metadata": {
    "scrolled": false
   },
   "outputs": [
    {
     "data": {
      "text/plain": [
       "(array([[0., 0., 0., 0., 0., 0., 0., 0., 0., 0., 0., 0., 0., 0., 0., 0.,\n",
       "         0., 0., 0., 0., 0., 0., 0., 0., 0., 0., 0., 0., 0., 0., 0., 0.,\n",
       "         0., 0., 0., 0., 0., 0., 0., 0., 0., 0., 0., 0., 0., 0., 0., 0.,\n",
       "         0., 0., 0., 0., 0., 0., 0., 0., 0., 0., 0., 0., 0., 0., 0., 0.,\n",
       "         0., 0., 0., 0., 0.]], dtype=float32),\n",
       " array([[False, False, False, False, False, False, False, False, False,\n",
       "         False, False, False, False, False, False, False, False, False,\n",
       "         False, False, False, False, False, False, False, False, False,\n",
       "         False, False, False, False, False, False, False, False, False,\n",
       "         False, False, False, False, False, False, False, False, False,\n",
       "         False, False, False, False, False, False, False, False, False,\n",
       "         False, False, False, False, False, False, False, False, False,\n",
       "         False, False, False, False, False, False]]))"
      ]
     },
     "execution_count": 20,
     "metadata": {},
     "output_type": "execute_result"
    }
   ],
   "source": [
    "class mockbuf:\n",
    "    data = np.zeros((1, 65, 3))\n",
    "    \n",
    "class mockdamage:\n",
    "    data = np.ones((1, 65), dtype=bool)\n",
    "\n",
    "mock = {\n",
    "    'intensity': mockbuf,\n",
    "}\n",
    "visualize_idpc(mock, mockdamage)"
   ]
  },
  {
   "cell_type": "code",
   "execution_count": 21,
   "id": "national-sperm",
   "metadata": {},
   "outputs": [],
   "source": [
    "def visualize_mag(udf_result, damage):\n",
    "    ref_y = CENTER_Y\n",
    "    ref_x = CENTER_X\n",
    "    \n",
    "    data = udf_result['intensity'].data\n",
    "    \n",
    "    target_shape = np.array(data.shape[:2])\n",
    "    target_shape[0] += 0\n",
    "    target_shape[1] += FLYBACK_COMPENSATION\n",
    "    \n",
    "    data = force_shape(data, tuple(target_shape) + tuple(data.shape[2:]))\n",
    "    damage = force_shape(damage.data, target_shape)\n",
    "    \n",
    "    img_sum, img_y, img_x = (\n",
    "        data[..., 0],\n",
    "        data[..., 1],\n",
    "        data[..., 2],\n",
    "    )\n",
    "    y_centers, x_centers = center_shifts(img_sum, img_y, img_x, ref_y, ref_x)\n",
    "    y_centers, x_centers = transf(y_centers, x_centers, ROTATE)\n",
    "    \n",
    "    result = magnitude(y_centers, x_centers)\n",
    "    return result, damage"
   ]
  },
  {
   "cell_type": "code",
   "execution_count": 22,
   "id": "destroyed-enough",
   "metadata": {},
   "outputs": [],
   "source": [
    "def visualize_x(udf_result, damage):\n",
    "    ref_y = CENTER_Y\n",
    "    ref_x = CENTER_X\n",
    "    \n",
    "    data = udf_result['intensity'].data\n",
    "    \n",
    "    target_shape = np.array(data.shape[:2])\n",
    "    target_shape[0] += 0\n",
    "    target_shape[1] += FLYBACK_COMPENSATION\n",
    "    \n",
    "    data = force_shape(data, tuple(target_shape) + tuple(data.shape[2:]))\n",
    "    damage = force_shape(damage.data, target_shape)\n",
    "    \n",
    "    img_sum, img_y, img_x = (\n",
    "        data[..., 0],\n",
    "        data[..., 1],\n",
    "        data[..., 2],\n",
    "    )\n",
    "    y_centers, x_centers = center_shifts(img_sum, img_y, img_x, ref_y, ref_x)\n",
    "    y_centers, x_centers = transf(y_centers, x_centers, ROTATE)\n",
    "    \n",
    "    return x_centers, damage"
   ]
  },
  {
   "cell_type": "code",
   "execution_count": 23,
   "id": "recent-workplace",
   "metadata": {},
   "outputs": [],
   "source": [
    "def visualize_y(udf_result, damage):\n",
    "    ref_y = CENTER_Y\n",
    "    ref_x = CENTER_X\n",
    "    \n",
    "    data = udf_result['intensity'].data\n",
    "    \n",
    "    target_shape = np.array(data.shape[:2])\n",
    "    target_shape[0] += 0\n",
    "    target_shape[1] += FLYBACK_COMPENSATION\n",
    "    \n",
    "    data = force_shape(data, tuple(target_shape) + tuple(data.shape[2:]))\n",
    "    damage = force_shape(damage.data, target_shape)\n",
    "    \n",
    "    img_sum, img_y, img_x = (\n",
    "        data[..., 0],\n",
    "        data[..., 1],\n",
    "        data[..., 2],\n",
    "    )\n",
    "    y_centers, x_centers = center_shifts(img_sum, img_y, img_x, ref_y, ref_x)\n",
    "    y_centers, x_centers = transf(y_centers, x_centers, ROTATE)\n",
    "    \n",
    "    return y_centers, damage"
   ]
  },
  {
   "cell_type": "code",
   "execution_count": 24,
   "id": "nutritional-latter",
   "metadata": {},
   "outputs": [],
   "source": [
    "ds = FakeDataSet(nav_shape=(128, 128))\n",
    "# ds = FakeDataSet(nav_shape=(64, 64))\n",
    "# ds = FakeDataSet(nav_shape=(128, 128))"
   ]
  },
  {
   "cell_type": "markdown",
   "id": "narrative-afghanistan",
   "metadata": {},
   "source": [
    "# CoM + iDPC"
   ]
  },
  {
   "cell_type": "code",
   "execution_count": 25,
   "id": "executive-birmingham",
   "metadata": {},
   "outputs": [],
   "source": [
    "com_udf = ApplyMasksUDF(mask_factories=com_masks_factory(\n",
    "    detector_y=1860,\n",
    "    detector_x=2048,\n",
    "    cx=CENTER_X,\n",
    "    cy=CENTER_Y,\n",
    "    r=300,\n",
    "))\n",
    "\n",
    "udfs = [com_udf]\n",
    "# udfs = [NoOpUDF()]"
   ]
  },
  {
   "cell_type": "code",
   "execution_count": 26,
   "id": "accredited-necklace",
   "metadata": {
    "scrolled": false
   },
   "outputs": [
    {
     "data": {
      "application/vnd.jupyter.widget-view+json": {
       "model_id": "8d04fe7303e24eccbe16dc65d05a7ab0",
       "version_major": 2,
       "version_minor": 0
      },
      "text/plain": [
       "Figure(axes=[Axis(label='x', scale=LinearScale(max=1.0, min=0.0)), Axis(label='y', orientation='vertical', sca…"
      ]
     },
     "metadata": {},
     "output_type": "display_data"
    },
    {
     "data": {
      "application/vnd.jupyter.widget-view+json": {
       "model_id": "6a35918c4bae4025a9f3dafcd1184d6b",
       "version_major": 2,
       "version_minor": 0
      },
      "text/plain": [
       "Figure(axes=[Axis(label='x', scale=LinearScale(max=1.0, min=0.0)), Axis(label='y', orientation='vertical', sca…"
      ]
     },
     "metadata": {},
     "output_type": "display_data"
    },
    {
     "data": {
      "application/vnd.jupyter.widget-view+json": {
       "model_id": "3df1d685b6d54d82a6f9895719675b80",
       "version_major": 2,
       "version_minor": 0
      },
      "text/plain": [
       "Figure(axes=[Axis(label='x', scale=LinearScale(max=1.0, min=0.0)), Axis(label='y', orientation='vertical', sca…"
      ]
     },
     "metadata": {},
     "output_type": "display_data"
    },
    {
     "data": {
      "application/vnd.jupyter.widget-view+json": {
       "model_id": "2a1efe040b774d85821f1c2e4a48c1c2",
       "version_major": 2,
       "version_minor": 0
      },
      "text/plain": [
       "Figure(axes=[Axis(label='x', scale=LinearScale(max=1.0, min=0.0)), Axis(label='y', orientation='vertical', sca…"
      ]
     },
     "metadata": {},
     "output_type": "display_data"
    },
    {
     "name": "stdout",
     "output_type": "stream",
     "text": [
      "reveived event: typ=<EventType.SET_UDFS: 'SET_UDFS'> udfs=[<libertem.udf.masks.ApplyMasksUDF object at 0x7f805e620160>] 1620391559.0243816\n",
      "reveived event: typ=<EventType.SET_NAV_SHAPE: 'SET_NAV_SHAPE'> nav_shape=(128, 128) 1620391559.1963334\n",
      "reveived event: typ=<EventType.START_PROCESSING: 'START_PROCESSING'> 1620391559.2439923\n",
      "reveived event: typ=<EventType.CAM_CONNECTED: 'CAM_CONNECTED'> 1620391559.427524\n",
      "reveived event: typ=<EventType.SET_UDFS: 'SET_UDFS'> udfs=[<libertem.udf.masks.ApplyMasksUDF object at 0x7f805e620df0>] 1620391559.5719082\n",
      "reveived event: typ=<EventType.SET_NAV_SHAPE: 'SET_NAV_SHAPE'> nav_shape=(128, 128) 1620391559.7074947\n",
      "reveived event: typ=<EventType.START_PROCESSING: 'START_PROCESSING'> 1620391559.7509334\n",
      "new epoch?\n",
      "new epoch?\n",
      "reveived event: typ=<EventType.STOP_PROCESSING: 'STOP_PROCESSING'> 1620391682.2970736\n"
     ]
    },
    {
     "ename": "KeyboardInterrupt",
     "evalue": "",
     "output_type": "error",
     "traceback": [
      "\u001b[0;31m---------------------------------------------------------------------------\u001b[0m",
      "\u001b[0;31mKeyboardInterrupt\u001b[0m                         Traceback (most recent call last)",
      "\u001b[0;32m<ipython-input-26-9ccec32be8af>\u001b[0m in \u001b[0;36m<module>\u001b[0;34m\u001b[0m\n\u001b[1;32m     25\u001b[0m \u001b[0mold_damage\u001b[0m \u001b[0;34m=\u001b[0m \u001b[0mnp\u001b[0m\u001b[0;34m.\u001b[0m\u001b[0mzeros\u001b[0m\u001b[0;34m(\u001b[0m\u001b[0mds\u001b[0m\u001b[0;34m.\u001b[0m\u001b[0mshape\u001b[0m\u001b[0;34m.\u001b[0m\u001b[0mnav\u001b[0m\u001b[0;34m,\u001b[0m \u001b[0mdtype\u001b[0m\u001b[0;34m=\u001b[0m\u001b[0mbool\u001b[0m\u001b[0;34m)\u001b[0m\u001b[0;34m\u001b[0m\u001b[0;34m\u001b[0m\u001b[0m\n\u001b[1;32m     26\u001b[0m \u001b[0;34m\u001b[0m\u001b[0m\n\u001b[0;32m---> 27\u001b[0;31m for res, all_res in run_for_dataset_sync(st, udfs=udfs, dataset=ds, executor=None,\n\u001b[0m\u001b[1;32m     28\u001b[0m                                 roi=None, progress=False, corrections=None):\n\u001b[1;32m     29\u001b[0m     \u001b[0;32mif\u001b[0m \u001b[0mnp\u001b[0m\u001b[0;34m.\u001b[0m\u001b[0many\u001b[0m\u001b[0;34m(\u001b[0m\u001b[0mold_damage\u001b[0m \u001b[0;34m!=\u001b[0m \u001b[0mres\u001b[0m\u001b[0;34m.\u001b[0m\u001b[0mdamage\u001b[0m\u001b[0;34m.\u001b[0m\u001b[0mdata\u001b[0m\u001b[0;34m)\u001b[0m\u001b[0;34m:\u001b[0m\u001b[0;34m\u001b[0m\u001b[0;34m\u001b[0m\u001b[0m\n",
      "\u001b[0;32m<ipython-input-8-d6b521de08f9>\u001b[0m in \u001b[0;36mrun_for_dataset_sync\u001b[0;34m(st, udfs, dataset, executor, roi, progress, corrections, backends, dry)\u001b[0m\n\u001b[1;32m     43\u001b[0m                 \u001b[0;31m# NOTE: keep any recurring checks above the poll, as they need to be executed\u001b[0m\u001b[0;34m\u001b[0m\u001b[0;34m\u001b[0m\u001b[0;34m\u001b[0m\u001b[0m\n\u001b[1;32m     44\u001b[0m                 \u001b[0;31m# even if we don't get a result here\u001b[0m\u001b[0;34m\u001b[0m\u001b[0;34m\u001b[0m\u001b[0;34m\u001b[0m\u001b[0m\n\u001b[0;32m---> 45\u001b[0;31m                 \u001b[0mresult\u001b[0m \u001b[0;34m=\u001b[0m \u001b[0msink\u001b[0m\u001b[0;34m.\u001b[0m\u001b[0mpoll\u001b[0m\u001b[0;34m(\u001b[0m\u001b[0mtimeout\u001b[0m\u001b[0;34m=\u001b[0m\u001b[0;36m500\u001b[0m\u001b[0;34m)\u001b[0m\u001b[0;34m\u001b[0m\u001b[0;34m\u001b[0m\u001b[0m\n\u001b[0m\u001b[1;32m     46\u001b[0m                 \u001b[0;32mif\u001b[0m \u001b[0mresult\u001b[0m \u001b[0;32mis\u001b[0m \u001b[0;32mNone\u001b[0m\u001b[0;34m:\u001b[0m\u001b[0;34m\u001b[0m\u001b[0;34m\u001b[0m\u001b[0m\n\u001b[1;32m     47\u001b[0m                     \u001b[0mcurrent_epoch\u001b[0m \u001b[0;34m=\u001b[0m \u001b[0;34m-\u001b[0m\u001b[0;36m1\u001b[0m  \u001b[0;31m# FIXME: is this too aggressive?\u001b[0m\u001b[0;34m\u001b[0m\u001b[0;34m\u001b[0m\u001b[0m\n",
      "\u001b[0;32m~/source/modules/LiberTEM-live/src/libertem_live/detectors/k2is/proto.py\u001b[0m in \u001b[0;36mpoll\u001b[0;34m(self, timeout)\u001b[0m\n\u001b[1;32m    576\u001b[0m         \u001b[0;32mif\u001b[0m \u001b[0mtimeout\u001b[0m \u001b[0;32mis\u001b[0m \u001b[0;32mNone\u001b[0m\u001b[0;34m:\u001b[0m\u001b[0;34m\u001b[0m\u001b[0;34m\u001b[0m\u001b[0m\n\u001b[1;32m    577\u001b[0m             \u001b[0mtimeout\u001b[0m \u001b[0;34m=\u001b[0m \u001b[0mself\u001b[0m\u001b[0;34m.\u001b[0m\u001b[0mtimeout\u001b[0m\u001b[0;34m\u001b[0m\u001b[0;34m\u001b[0m\u001b[0m\n\u001b[0;32m--> 578\u001b[0;31m         \u001b[0mpoll_events\u001b[0m \u001b[0;34m=\u001b[0m \u001b[0mdict\u001b[0m\u001b[0;34m(\u001b[0m\u001b[0mself\u001b[0m\u001b[0;34m.\u001b[0m\u001b[0mpoller\u001b[0m\u001b[0;34m.\u001b[0m\u001b[0mpoll\u001b[0m\u001b[0;34m(\u001b[0m\u001b[0mtimeout\u001b[0m\u001b[0;34m)\u001b[0m\u001b[0;34m)\u001b[0m\u001b[0;34m\u001b[0m\u001b[0;34m\u001b[0m\u001b[0m\n\u001b[0m\u001b[1;32m    579\u001b[0m         \u001b[0;32mif\u001b[0m \u001b[0mself\u001b[0m\u001b[0;34m.\u001b[0m\u001b[0msink_socket\u001b[0m \u001b[0;32min\u001b[0m \u001b[0mpoll_events\u001b[0m\u001b[0;34m:\u001b[0m\u001b[0;34m\u001b[0m\u001b[0;34m\u001b[0m\u001b[0m\n\u001b[1;32m    580\u001b[0m             \u001b[0mres\u001b[0m \u001b[0;34m=\u001b[0m \u001b[0mrecv_serialized\u001b[0m\u001b[0;34m(\u001b[0m\u001b[0mself\u001b[0m\u001b[0;34m.\u001b[0m\u001b[0msink_socket\u001b[0m\u001b[0;34m)\u001b[0m\u001b[0;34m\u001b[0m\u001b[0;34m\u001b[0m\u001b[0m\n",
      "\u001b[0;32m~/miniconda/envs/libertem/lib/python3.8/site-packages/zmq/sugar/poll.py\u001b[0m in \u001b[0;36mpoll\u001b[0;34m(self, timeout)\u001b[0m\n\u001b[1;32m    103\u001b[0m         \u001b[0;32melif\u001b[0m \u001b[0misinstance\u001b[0m\u001b[0;34m(\u001b[0m\u001b[0mtimeout\u001b[0m\u001b[0;34m,\u001b[0m \u001b[0mfloat\u001b[0m\u001b[0;34m)\u001b[0m\u001b[0;34m:\u001b[0m\u001b[0;34m\u001b[0m\u001b[0;34m\u001b[0m\u001b[0m\n\u001b[1;32m    104\u001b[0m             \u001b[0mtimeout\u001b[0m \u001b[0;34m=\u001b[0m \u001b[0mint\u001b[0m\u001b[0;34m(\u001b[0m\u001b[0mtimeout\u001b[0m\u001b[0;34m)\u001b[0m\u001b[0;34m\u001b[0m\u001b[0;34m\u001b[0m\u001b[0m\n\u001b[0;32m--> 105\u001b[0;31m         \u001b[0;32mreturn\u001b[0m \u001b[0mzmq_poll\u001b[0m\u001b[0;34m(\u001b[0m\u001b[0mself\u001b[0m\u001b[0;34m.\u001b[0m\u001b[0msockets\u001b[0m\u001b[0;34m,\u001b[0m \u001b[0mtimeout\u001b[0m\u001b[0;34m=\u001b[0m\u001b[0mtimeout\u001b[0m\u001b[0;34m)\u001b[0m\u001b[0;34m\u001b[0m\u001b[0;34m\u001b[0m\u001b[0m\n\u001b[0m\u001b[1;32m    106\u001b[0m \u001b[0;34m\u001b[0m\u001b[0m\n\u001b[1;32m    107\u001b[0m \u001b[0;34m\u001b[0m\u001b[0m\n",
      "\u001b[0;32mzmq/backend/cython/_poll.pyx\u001b[0m in \u001b[0;36mzmq.backend.cython._poll.zmq_poll\u001b[0;34m()\u001b[0m\n",
      "\u001b[0;32m~/miniconda/envs/libertem/lib/python3.8/site-packages/zmq/backend/cython/checkrc.pxd\u001b[0m in \u001b[0;36mzmq.backend.cython.checkrc._check_rc\u001b[0;34m()\u001b[0m\n",
      "\u001b[0;31mKeyboardInterrupt\u001b[0m: "
     ]
    }
   ],
   "source": [
    "plot_idpc = BQLive2DPlot(udf=udfs[0], dataset=ds, channel=visualize_idpc)\n",
    "plot_idpc.display()\n",
    "plot_idpc.color_scale.scheme = 'OrRd'\n",
    "\n",
    "plot_mag = BQLive2DPlot(udf=udfs[0], dataset=ds, channel=visualize_mag)\n",
    "plot_mag.display()\n",
    "plot_mag.color_scale.scheme = 'OrRd'\n",
    "\n",
    "plot_y = BQLive2DPlot(udf=udfs[0], dataset=ds, channel=visualize_y)\n",
    "plot_y.display()\n",
    "plot_y.color_scale.scheme = 'OrRd'\n",
    "\n",
    "plot_x = BQLive2DPlot(udf=udfs[0], dataset=ds, channel=visualize_x)\n",
    "plot_x.display()\n",
    "plot_x.color_scale.scheme = 'OrRd'\n",
    "\n",
    "\n",
    "plots = [\n",
    "    plot_idpc,\n",
    "    plot_mag,\n",
    "    plot_y,\n",
    "    plot_x,\n",
    "]\n",
    "\n",
    "old_damage = np.zeros(ds.shape.nav, dtype=bool)\n",
    "\n",
    "for res, all_res in run_for_dataset_sync(st, udfs=udfs, dataset=ds, executor=None,\n",
    "                                roi=None, progress=False, corrections=None):\n",
    "    if np.any(old_damage != res.damage.data):\n",
    "        for plot in plots:\n",
    "            plot.new_data(udf_results=res.buffers[0], damage=res.damage)\n",
    "\n",
    "        if old_damage.sum() > res.damage.data.sum():\n",
    "            print(\"new epoch?\")\n",
    "        old_damage[:] = res.damage.data"
   ]
  },
  {
   "cell_type": "code",
   "execution_count": null,
   "id": "spiritual-placement",
   "metadata": {},
   "outputs": [],
   "source": [
    "plt.figure()\n",
    "plt.imshow(res.buffers[0]['intensity'].data[..., 0])"
   ]
  },
  {
   "cell_type": "code",
   "execution_count": null,
   "id": "positive-polymer",
   "metadata": {},
   "outputs": [],
   "source": [
    "plt.figure()\n",
    "plt.imshow(force_shape(res.buffers[0]['intensity'].data[..., 0], (128, 132)))"
   ]
  },
  {
   "cell_type": "markdown",
   "id": "removable-hello",
   "metadata": {},
   "source": [
    "# SumSigUDF"
   ]
  },
  {
   "cell_type": "code",
   "execution_count": null,
   "id": "changed-inspiration",
   "metadata": {},
   "outputs": [],
   "source": [
    "from libertem.udf.sumsigudf import SumSigUDF\n",
    "\n",
    "udfs = [SumSigUDF()]"
   ]
  },
  {
   "cell_type": "code",
   "execution_count": null,
   "id": "danish-strain",
   "metadata": {},
   "outputs": [],
   "source": [
    "plot = BQLive2DPlot(udf=udfs[0], dataset=ds, channel='intensity')\n",
    "plot.display()\n",
    "plot.color_scale.scheme = 'OrRd'\n",
    "\n",
    "old_damage = np.zeros(ds.shape.nav, dtype=bool)\n",
    "\n",
    "for res, all_res in run_for_dataset_sync(st, udfs=udfs, dataset=ds, executor=None,\n",
    "                                roi=None, progress=False, corrections=None):\n",
    "    if np.any(old_damage != res.damage.data):\n",
    "        plot.new_data(udf_results=res.buffers[0], damage=res.damage)\n",
    "\n",
    "        if old_damage.sum() > res.damage.data.sum():\n",
    "            print(\"new epoch?\")\n",
    "        old_damage[:] = res.damage.data"
   ]
  },
  {
   "cell_type": "markdown",
   "id": "structured-stevens",
   "metadata": {},
   "source": [
    "# Sum sample"
   ]
  },
  {
   "cell_type": "code",
   "execution_count": null,
   "id": "moral-dollar",
   "metadata": {},
   "outputs": [],
   "source": [
    "class SumSampleUDF(UDF):\n",
    "    \"\"\"\n",
    "    Sum up frames, preserving the signal dimension\n",
    "\n",
    "    Parameters\n",
    "    ----------\n",
    "    dtype : numpy.dtype, optional\n",
    "        Preferred dtype for computation, default 'float32'. The actual dtype will be determined\n",
    "        from this value and the dataset's dtype using :meth:`numpy.result_type`.\n",
    "        See also :ref:`udf dtype`.\n",
    "\n",
    "    Examples\n",
    "    --------\n",
    "    >>> udf = SumUDF()\n",
    "    >>> result = ctx.run_udf(dataset=dataset, udf=udf)\n",
    "    >>> np.array(result[\"intensity\"]).shape\n",
    "    (32, 32)\n",
    "    \"\"\"\n",
    "    def __init__(self, dtype='float32'):\n",
    "        super().__init__(dtype=dtype)\n",
    "\n",
    "    def get_preferred_input_dtype(self):\n",
    "        return self.params.dtype\n",
    "\n",
    "    def get_result_buffers(self):\n",
    "        ''\n",
    "        return {\n",
    "            'intensity': self.buffer(kind='sig', dtype=self.meta.input_dtype)\n",
    "        }\n",
    "\n",
    "    def process_tile(self, tile):\n",
    "        ''\n",
    "        self.results.intensity[:] += np.sum(tile, axis=0)\n",
    "\n",
    "    def merge(self, dest, src):\n",
    "        ''\n",
    "        dest.intensity[:] += src.intensity  # XXX"
   ]
  },
  {
   "cell_type": "code",
   "execution_count": null,
   "id": "religious-smile",
   "metadata": {},
   "outputs": [],
   "source": [
    "udfs = [SumSampleUDF()]"
   ]
  },
  {
   "cell_type": "code",
   "execution_count": null,
   "id": "hydraulic-criterion",
   "metadata": {},
   "outputs": [],
   "source": [
    "plot = BQLive2DPlot(udf=udfs[0], dataset=ds, channel='intensity', min_delta=5)\n",
    "plot.display()\n",
    "plot.color_scale.scheme = 'OrRd'\n",
    "\n",
    "old_damage = np.zeros(ds.shape.nav, dtype=bool)\n",
    "\n",
    "for res, all_res in run_for_dataset_sync(st, udfs=udfs, dataset=ds, executor=None,\n",
    "                                roi=None, progress=False, corrections=None):\n",
    "    # plot.new_data(udf_results=res.buffers[0], damage=res.damage)\n",
    "    pass"
   ]
  },
  {
   "cell_type": "markdown",
   "id": "israeli-landscape",
   "metadata": {},
   "source": [
    "# Old Stuff"
   ]
  },
  {
   "cell_type": "code",
   "execution_count": null,
   "id": "rental-hungarian",
   "metadata": {},
   "outputs": [],
   "source": [
    "plt.figure()\n",
    "plt.imshow(res.buffers[0]['intensity'].data, vmax=9.65e4)"
   ]
  },
  {
   "cell_type": "code",
   "execution_count": null,
   "id": "transparent-sudan",
   "metadata": {},
   "outputs": [],
   "source": [
    "plt.figure()\n",
    "plt.imshow(res.damage.data.astype(int))"
   ]
  },
  {
   "cell_type": "code",
   "execution_count": null,
   "id": "final-forestry",
   "metadata": {},
   "outputs": [],
   "source": [
    "res0 = res.buffers[0]['intensity'].data[..., 0].copy()\n",
    "res0_flat = res0.reshape((-1,))\n",
    "# res0_flat[Slice.from_shape((100,), sig_dims=0).get()] = 42"
   ]
  },
  {
   "cell_type": "code",
   "execution_count": null,
   "id": "purple-console",
   "metadata": {},
   "outputs": [],
   "source": [
    "plt.figure()\n",
    "plt.imshow(res0, vmin=res0[res0 > 0].min())"
   ]
  },
  {
   "cell_type": "markdown",
   "id": "analyzed-former",
   "metadata": {},
   "source": [
    "# TEARDOWN!"
   ]
  },
  {
   "cell_type": "code",
   "execution_count": null,
   "id": "raising-cocktail",
   "metadata": {},
   "outputs": [],
   "source": [
    "st.stop()\n",
    "st.join()"
   ]
  },
  {
   "cell_type": "code",
   "execution_count": null,
   "id": "straight-footwear",
   "metadata": {},
   "outputs": [],
   "source": []
  },
  {
   "cell_type": "code",
   "execution_count": null,
   "id": "outdoor-motel",
   "metadata": {},
   "outputs": [],
   "source": []
  }
 ],
 "metadata": {
  "kernelspec": {
   "display_name": "Python 3",
   "language": "python",
   "name": "python3"
  },
  "language_info": {
   "codemirror_mode": {
    "name": "ipython",
    "version": 3
   },
   "file_extension": ".py",
   "mimetype": "text/x-python",
   "name": "python",
   "nbconvert_exporter": "python",
   "pygments_lexer": "ipython3",
   "version": "3.8.8"
  }
 },
 "nbformat": 4,
 "nbformat_minor": 5
}
