{
 "cells": [
  {
   "cell_type": "code",
   "execution_count": 1,
   "id": "stunning-lodge",
   "metadata": {},
   "outputs": [],
   "source": [
    "import numpy as np\n",
    "import zmq\n",
    "import threading\n",
    "import time\n",
    "import uuid\n",
    "from libertem_live.detectors.common import StoppableThreadMixin, send_serialized, recv_serialized\n",
    "from libertem_live.detectors.k2is.state import EventType, SetUDFsEvent, StopEvent, EventReplicaClientThread, SetNavShapeEvent, StartProcessingEvent, StopProcessingEvent\n",
    "from libertem_live.detectors.k2is.proto import ResultSink\n",
    "from libertem.analysis.com import com_masks_factory, center_shifts\n",
    "from libertem.udf.masks import ApplyMasksUDF\n",
    "from libertem.udf.base import UDFMeta, UDFResults\n",
    "from libertem.common import Shape\n",
    "from libertem.common.buffers import BufferWrapper\n",
    "from libertem.viz.bqp import BQLive2DPlot"
   ]
  },
  {
   "cell_type": "code",
   "execution_count": 2,
   "id": "collected-height",
   "metadata": {},
   "outputs": [],
   "source": [
    "class FakeDataSet:\n",
    "    def __init__(self, nav_shape):\n",
    "        self.nav_shape = nav_shape\n",
    "        self.shape = Shape(nav_shape + (1860, 2048), sig_dims=2)\n",
    "        self.dtype = np.uint16\n",
    "\n",
    "\n",
    "def _get_dtype(udfs, dtype, corrections):\n",
    "    if corrections is not None and corrections.have_corrections():\n",
    "        tmp_dtype = np.result_type(np.float32, dtype)\n",
    "    else:\n",
    "        tmp_dtype = dtype\n",
    "    for udf in udfs:\n",
    "        tmp_dtype = np.result_type(\n",
    "            udf.get_preferred_input_dtype(),\n",
    "            tmp_dtype\n",
    "        )\n",
    "    return tmp_dtype\n",
    "\n",
    "\n",
    "def _prepare_run_for_dataset(\n",
    "    udfs, dataset, executor, roi, corrections, backends, dry\n",
    "):\n",
    "    meta = UDFMeta(\n",
    "        partition_shape=None,\n",
    "        dataset_shape=dataset.shape,\n",
    "        roi=roi,\n",
    "        dataset_dtype=dataset.dtype,\n",
    "        input_dtype=_get_dtype(udfs, dataset.dtype, corrections),\n",
    "        corrections=corrections,\n",
    "    )\n",
    "    for udf in udfs:\n",
    "        udf.set_meta(meta)\n",
    "        udf.init_result_buffers()\n",
    "        udf.allocate_for_full(dataset, roi)\n",
    "\n",
    "        if hasattr(udf, 'preprocess'):\n",
    "            udf.set_views_for_dataset(dataset)\n",
    "            udf.preprocess()"
   ]
  },
  {
   "cell_type": "code",
   "execution_count": 3,
   "id": "understanding-lighting",
   "metadata": {},
   "outputs": [],
   "source": [
    "from libertem.common.buffers import PreallocBufferWrapper"
   ]
  },
  {
   "cell_type": "code",
   "execution_count": 4,
   "id": "rubber-superior",
   "metadata": {},
   "outputs": [],
   "source": [
    "def run_for_dataset_sync(st, udfs, dataset, executor,\n",
    "                         roi=None, progress=False, corrections=None, backends=None, dry=False):\n",
    "\n",
    "    cancel_id = str(uuid.uuid4())\n",
    "    \n",
    "    sink = ResultSink()\n",
    "\n",
    "    def _start_processing():\n",
    "        st.dispatch(SetUDFsEvent(udfs=udfs))\n",
    "        st.dispatch(SetNavShapeEvent(nav_shape=tuple(dataset.shape.nav)))\n",
    "        st.dispatch(StartProcessingEvent())\n",
    "        \n",
    "    def handle_start(state, new_state, event, effects):\n",
    "        _start_processing()\n",
    "    st.sub.store.listen(EventType.CAM_CONNECTED, handle_start)\n",
    "    st.sub.store.listen(EventType.STARTUP_COMPLETE, handle_start)\n",
    "    \n",
    "    _start_processing()\n",
    "\n",
    "    damage = BufferWrapper(kind='nav', dtype=int)\n",
    "    damage.set_shape_ds(dataset.shape, roi)\n",
    "    damage.allocate()\n",
    "\n",
    "    all_results = []\n",
    "\n",
    "    udf_copies = [\n",
    "        udf.copy()\n",
    "        for udf in udfs\n",
    "    ]\n",
    "\n",
    "    _prepare_run_for_dataset(\n",
    "        udf_copies, dataset, executor, roi, corrections, backends, dry\n",
    "    )\n",
    "\n",
    "    current_epoch = 0\n",
    "    \n",
    "    try:\n",
    "        with sink:\n",
    "            while True:\n",
    "                # check for errors in our state replication:\n",
    "                st.maybe_raise()\n",
    "\n",
    "                # NOTE: keep any recurring checks above the poll, as they need to be executed\n",
    "                # even if we don't get a result here\n",
    "                result = sink.poll(timeout=500)\n",
    "                if result is None:\n",
    "                    current_epoch = -1  # FIXME: is this too aggressive?\n",
    "                    continue\n",
    "                    \n",
    "                partition_slice, part_results, epoch, packet_counter = result\n",
    "\n",
    "                if epoch != current_epoch:\n",
    "                    # reset UDF copies after each run:\n",
    "                    udf_copies = [\n",
    "                        udf.copy()\n",
    "                        for udf in udfs\n",
    "                    ]\n",
    "                    _prepare_run_for_dataset(\n",
    "                        udf_copies, dataset, executor, roi, corrections, backends, dry\n",
    "                    )\n",
    "                    current_epoch = epoch\n",
    "                    damage.data[:] = 0\n",
    "\n",
    "                all_results.append((partition_slice, part_results, epoch, packet_counter))\n",
    "\n",
    "                for results, udf in zip(part_results.buffers, udf_copies):\n",
    "                    udf.set_views_for_partition(partition_slice=partition_slice)\n",
    "                    udf.merge(\n",
    "                        dest=udf.results.get_proxy(),\n",
    "                        src=results.get_proxy()\n",
    "                    )\n",
    "                    udf.clear_views()\n",
    "                v = damage.get_view_for_partition(partition_slice=partition_slice)\n",
    "                v[:] += 1\n",
    "                bool_damage = PreallocBufferWrapper(damage.data >= 8, kind='nav', dtype=bool)\n",
    "                bool_damage.set_shape_ds(dataset.shape, roi)\n",
    "                yield UDFResults(\n",
    "                    buffers=tuple(\n",
    "                        udf._do_get_results()\n",
    "                        for udf in udf_copies\n",
    "                    ),\n",
    "                    damage=bool_damage,\n",
    "                ), all_results\n",
    "    finally:\n",
    "        st.dispatch(StopProcessingEvent())\n",
    "        st.sub.store.remove_callback(handle_start)"
   ]
  },
  {
   "cell_type": "code",
   "execution_count": 5,
   "id": "amino-occurrence",
   "metadata": {},
   "outputs": [],
   "source": [
    "st = EventReplicaClientThread()\n",
    "st.start()"
   ]
  },
  {
   "cell_type": "code",
   "execution_count": 6,
   "id": "adjacent-monte",
   "metadata": {},
   "outputs": [],
   "source": [
    "def print_event(state, new_state, event, effects):\n",
    "    print(f\"reveived event: {event} {time.time()}\")\n",
    "st.sub.store.listen_all(print_event)"
   ]
  },
  {
   "cell_type": "code",
   "execution_count": 7,
   "id": "nutritional-latter",
   "metadata": {},
   "outputs": [],
   "source": [
    "ds = FakeDataSet(nav_shape=(40, 20))\n",
    "# ds = FakeDataSet(nav_shape=(128, 128))"
   ]
  },
  {
   "cell_type": "code",
   "execution_count": 8,
   "id": "european-bristol",
   "metadata": {},
   "outputs": [],
   "source": [
    "from libertem.udf import UDF"
   ]
  },
  {
   "cell_type": "code",
   "execution_count": 9,
   "id": "efficient-suggestion",
   "metadata": {},
   "outputs": [],
   "source": [
    "from libertem.udf.sumsigudf import SumSigUDF\n",
    "from libertem.udf.base import NoOpUDF"
   ]
  },
  {
   "cell_type": "code",
   "execution_count": 10,
   "id": "immediate-helen",
   "metadata": {},
   "outputs": [],
   "source": [
    "def iDPC(x_centers, y_centers):\n",
    "    realy = x_centers.shape[0]\n",
    "    realx = x_centers.shape[1]\n",
    "    \n",
    "    ky = np.linspace(-0.5, 0.5, realy, endpoint=False).reshape((-1, 1))\n",
    "    kx = np.linspace(-0.5, 0.5, realx, endpoint=False).reshape((1, -1))\n",
    "    \n",
    "    # We shift the arrays instead of the FFT results since they are smaller\n",
    "    # and it is convenient to have the zero frequency at (0, 0)\n",
    "    s_kx = np.fft.ifftshift(kx)\n",
    "    s_ky = np.fft.ifftshift(ky)\n",
    "    \n",
    "    half_x = int(np.ceil((realx + 1) / 2))\n",
    "\n",
    "    # Instead of convertig the complex result to a Hermitian,\n",
    "    # we just take the FFT for real values that doesn't even calculate\n",
    "    # those values\n",
    "    \n",
    "    fft_DPC_Y = np.fft.rfft2(y_centers)\n",
    "    fft_DPC_X = np.fft.rfft2(x_centers)\n",
    "    \n",
    "    divider = (s_kx[:, :half_x]**2 + s_ky**2)\n",
    "    # Avoid div0\n",
    "    divider[0, 0] = 1\n",
    "    \n",
    "    fft_iDPC = s_kx[:, :half_x] * fft_DPC_X + s_ky * fft_DPC_Y\n",
    "    fft_iDPC = fft_iDPC / 2 / np.pi / 1j / divider\n",
    "    # We can't calculate the absolute phase anyway\n",
    "    fft_iDPC[0, 0] = 0\n",
    "    \n",
    "    return np.fft.irfft2(fft_iDPC)"
   ]
  },
  {
   "cell_type": "code",
   "execution_count": 17,
   "id": "sticky-cooperative",
   "metadata": {},
   "outputs": [],
   "source": [
    "import numba"
   ]
  },
  {
   "cell_type": "code",
   "execution_count": 25,
   "id": "dutch-retro",
   "metadata": {},
   "outputs": [
    {
     "data": {
      "text/plain": [
       "slice(0, 65, None)"
      ]
     },
     "execution_count": 25,
     "metadata": {},
     "output_type": "execute_result"
    }
   ],
   "source": [
    "a = np.ones((128, 16), dtype=bool)\n",
    "a[65, 3] = 0\n",
    "np.all(a, axis=1)\n",
    "\n",
    "@numba.njit(boundscheck=True)\n",
    "def get_inner_slice(arr):\n",
    "    first_idx = 0\n",
    "    last_idx = 0\n",
    "    while last_idx < arr.shape[0] and arr[last_idx]:\n",
    "        last_idx += 1\n",
    "    return (first_idx, last_idx)\n",
    "\n",
    "slice(*get_inner_slice(np.all(a, axis=1)))"
   ]
  },
  {
   "cell_type": "code",
   "execution_count": 37,
   "id": "decimal-basic",
   "metadata": {},
   "outputs": [],
   "source": [
    "def visualize_idpc(udf_result, damage):\n",
    "    # FIXME: ref_x, ref_y\n",
    "    ref_y = 1860 / 2\n",
    "    ref_x = 2048 / 2\n",
    "    \n",
    "    data = udf_result['intensity'].data\n",
    "    \n",
    "    img_sum, img_y, img_x = (\n",
    "        data[..., 0],\n",
    "        data[..., 1],\n",
    "        data[..., 2],\n",
    "    )\n",
    "    y_centers, x_centers = center_shifts(img_sum, img_y, img_x, ref_y, ref_x)\n",
    "    \n",
    "    # y slice with all-valid values\n",
    "    inner_slice = slice(*get_inner_slice(np.all(damage, axis=1)))\n",
    "    \n",
    "    result = np.zeros_like(y_centers, dtype=np.float32)\n",
    "    \n",
    "    if inner_slice.start != inner_slice.stop:\n",
    "        result[inner_slice, ...] = iDPC(x_centers[inner_slice, ...], y_centers[inner_slice, ...])\n",
    "    \n",
    "    new_damage = np.zeros_like(damage)\n",
    "    new_damage[inner_slice, ...] = True\n",
    "    \n",
    "    return result, new_damage"
   ]
  },
  {
   "cell_type": "code",
   "execution_count": 35,
   "id": "interested-serial",
   "metadata": {},
   "outputs": [
    {
     "name": "stdout",
     "output_type": "stream",
     "text": [
      "Automatic pdb calling has been turned OFF\n"
     ]
    }
   ],
   "source": [
    "%pdb off"
   ]
  },
  {
   "cell_type": "code",
   "execution_count": 38,
   "id": "accredited-necklace",
   "metadata": {
    "scrolled": false
   },
   "outputs": [
    {
     "data": {
      "application/vnd.jupyter.widget-view+json": {
       "model_id": "f56adabb72b748a1bf89f3adef2c4253",
       "version_major": 2,
       "version_minor": 0
      },
      "text/plain": [
       "Figure(axes=[Axis(label='x', scale=LinearScale(max=1.0, min=0.0)), Axis(label='y', orientation='vertical', sca…"
      ]
     },
     "metadata": {},
     "output_type": "display_data"
    },
    {
     "name": "stdout",
     "output_type": "stream",
     "text": [
      "reveived event: typ=<EventType.SET_UDFS: 'SET_UDFS'> udfs=[<libertem.udf.masks.ApplyMasksUDF object at 0x7f27f80747c0>] 1620317730.3108945\n",
      "reveived event: typ=<EventType.SET_NAV_SHAPE: 'SET_NAV_SHAPE'> nav_shape=(40, 20) 1620317730.387529\n",
      "reveived event: typ=<EventType.START_PROCESSING: 'START_PROCESSING'> 1620317730.465409\n",
      "reveived event: typ=<EventType.STOPPED: 'STOPPED'> 1620317733.2544231\n",
      "reveived event: typ=<EventType.STARTING: 'STARTING'> 1620317739.5169349\n",
      "reveived event: typ=<EventType.STARTUP_COMPLETE: 'STARTUP_COMPLETE'> 1620317739.564932\n",
      "reveived event: typ=<EventType.SET_UDFS: 'SET_UDFS'> udfs=[<libertem.udf.masks.ApplyMasksUDF object at 0x7f27f8aac820>] 1620317739.6154518\n",
      "reveived event: typ=<EventType.SET_NAV_SHAPE: 'SET_NAV_SHAPE'> nav_shape=(40, 20) 1620317739.7207613\n",
      "reveived event: typ=<EventType.START_PROCESSING: 'START_PROCESSING'> 1620317739.8311477\n",
      "reveived event: typ=<EventType.CAM_CONNECTED: 'CAM_CONNECTED'> 1620317747.6021523\n",
      "new epoch?\n",
      "reveived event: typ=<EventType.SET_UDFS: 'SET_UDFS'> udfs=[<libertem.udf.masks.ApplyMasksUDF object at 0x7f27f11e8ee0>] 1620317747.6980693\n",
      "reveived event: typ=<EventType.SET_NAV_SHAPE: 'SET_NAV_SHAPE'> nav_shape=(40, 20) 1620317747.8113852\n",
      "reveived event: typ=<EventType.START_PROCESSING: 'START_PROCESSING'> 1620317747.9196794\n",
      "new epoch?\n",
      "new epoch?\n",
      "reveived event: typ=<EventType.CAM_DISCONNECTED: 'CAM_DISCONNECTED'> 1620317761.3033354\n",
      "reveived event: typ=<EventType.CAM_DISCONNECTED: 'CAM_DISCONNECTED'> 1620317761.40872\n",
      "reveived event: typ=<EventType.CAM_DISCONNECTED: 'CAM_DISCONNECTED'> 1620317761.5205274\n",
      "reveived event: typ=<EventType.CAM_DISCONNECTED: 'CAM_DISCONNECTED'> 1620317761.6047823\n",
      "reveived event: typ=<EventType.CAM_DISCONNECTED: 'CAM_DISCONNECTED'> 1620317761.6785352\n",
      "reveived event: typ=<EventType.CAM_DISCONNECTED: 'CAM_DISCONNECTED'> 1620317761.7522337\n",
      "reveived event: typ=<EventType.CAM_DISCONNECTED: 'CAM_DISCONNECTED'> 1620317761.8235304\n",
      "reveived event: typ=<EventType.CAM_DISCONNECTED: 'CAM_DISCONNECTED'> 1620317761.876449\n"
     ]
    },
    {
     "ename": "KeyboardInterrupt",
     "evalue": "",
     "output_type": "error",
     "traceback": [
      "\u001b[0;31m---------------------------------------------------------------------------\u001b[0m",
      "\u001b[0;31mKeyboardInterrupt\u001b[0m                         Traceback (most recent call last)",
      "\u001b[0;32m<ipython-input-38-6adc80a3ba6e>\u001b[0m in \u001b[0;36m<module>\u001b[0;34m\u001b[0m\n\u001b[1;32m     17\u001b[0m \u001b[0mold_damage\u001b[0m \u001b[0;34m=\u001b[0m \u001b[0mnp\u001b[0m\u001b[0;34m.\u001b[0m\u001b[0mzeros\u001b[0m\u001b[0;34m(\u001b[0m\u001b[0mds\u001b[0m\u001b[0;34m.\u001b[0m\u001b[0mshape\u001b[0m\u001b[0;34m.\u001b[0m\u001b[0mnav\u001b[0m\u001b[0;34m,\u001b[0m \u001b[0mdtype\u001b[0m\u001b[0;34m=\u001b[0m\u001b[0mbool\u001b[0m\u001b[0;34m)\u001b[0m\u001b[0;34m\u001b[0m\u001b[0;34m\u001b[0m\u001b[0m\n\u001b[1;32m     18\u001b[0m \u001b[0;34m\u001b[0m\u001b[0m\n\u001b[0;32m---> 19\u001b[0;31m for res, all_res in run_for_dataset_sync(st, udfs=udfs, dataset=ds, executor=None,\n\u001b[0m\u001b[1;32m     20\u001b[0m                                 roi=None, progress=False, corrections=None):\n\u001b[1;32m     21\u001b[0m     \u001b[0;32mif\u001b[0m \u001b[0mnp\u001b[0m\u001b[0;34m.\u001b[0m\u001b[0many\u001b[0m\u001b[0;34m(\u001b[0m\u001b[0mold_damage\u001b[0m \u001b[0;34m!=\u001b[0m \u001b[0mres\u001b[0m\u001b[0;34m.\u001b[0m\u001b[0mdamage\u001b[0m\u001b[0;34m.\u001b[0m\u001b[0mdata\u001b[0m\u001b[0;34m)\u001b[0m\u001b[0;34m:\u001b[0m\u001b[0;34m\u001b[0m\u001b[0;34m\u001b[0m\u001b[0m\n",
      "\u001b[0;32m<ipython-input-4-d6b521de08f9>\u001b[0m in \u001b[0;36mrun_for_dataset_sync\u001b[0;34m(st, udfs, dataset, executor, roi, progress, corrections, backends, dry)\u001b[0m\n\u001b[1;32m     43\u001b[0m                 \u001b[0;31m# NOTE: keep any recurring checks above the poll, as they need to be executed\u001b[0m\u001b[0;34m\u001b[0m\u001b[0;34m\u001b[0m\u001b[0;34m\u001b[0m\u001b[0m\n\u001b[1;32m     44\u001b[0m                 \u001b[0;31m# even if we don't get a result here\u001b[0m\u001b[0;34m\u001b[0m\u001b[0;34m\u001b[0m\u001b[0;34m\u001b[0m\u001b[0m\n\u001b[0;32m---> 45\u001b[0;31m                 \u001b[0mresult\u001b[0m \u001b[0;34m=\u001b[0m \u001b[0msink\u001b[0m\u001b[0;34m.\u001b[0m\u001b[0mpoll\u001b[0m\u001b[0;34m(\u001b[0m\u001b[0mtimeout\u001b[0m\u001b[0;34m=\u001b[0m\u001b[0;36m500\u001b[0m\u001b[0;34m)\u001b[0m\u001b[0;34m\u001b[0m\u001b[0;34m\u001b[0m\u001b[0m\n\u001b[0m\u001b[1;32m     46\u001b[0m                 \u001b[0;32mif\u001b[0m \u001b[0mresult\u001b[0m \u001b[0;32mis\u001b[0m \u001b[0;32mNone\u001b[0m\u001b[0;34m:\u001b[0m\u001b[0;34m\u001b[0m\u001b[0;34m\u001b[0m\u001b[0m\n\u001b[1;32m     47\u001b[0m                     \u001b[0mcurrent_epoch\u001b[0m \u001b[0;34m=\u001b[0m \u001b[0;34m-\u001b[0m\u001b[0;36m1\u001b[0m  \u001b[0;31m# FIXME: is this too aggressive?\u001b[0m\u001b[0;34m\u001b[0m\u001b[0;34m\u001b[0m\u001b[0m\n",
      "\u001b[0;32m~/source/modules/LiberTEM-live/src/libertem_live/detectors/k2is/proto.py\u001b[0m in \u001b[0;36mpoll\u001b[0;34m(self, timeout)\u001b[0m\n\u001b[1;32m    576\u001b[0m         \u001b[0;32mif\u001b[0m \u001b[0mtimeout\u001b[0m \u001b[0;32mis\u001b[0m \u001b[0;32mNone\u001b[0m\u001b[0;34m:\u001b[0m\u001b[0;34m\u001b[0m\u001b[0;34m\u001b[0m\u001b[0m\n\u001b[1;32m    577\u001b[0m             \u001b[0mtimeout\u001b[0m \u001b[0;34m=\u001b[0m \u001b[0mself\u001b[0m\u001b[0;34m.\u001b[0m\u001b[0mtimeout\u001b[0m\u001b[0;34m\u001b[0m\u001b[0;34m\u001b[0m\u001b[0m\n\u001b[0;32m--> 578\u001b[0;31m         \u001b[0mpoll_events\u001b[0m \u001b[0;34m=\u001b[0m \u001b[0mdict\u001b[0m\u001b[0;34m(\u001b[0m\u001b[0mself\u001b[0m\u001b[0;34m.\u001b[0m\u001b[0mpoller\u001b[0m\u001b[0;34m.\u001b[0m\u001b[0mpoll\u001b[0m\u001b[0;34m(\u001b[0m\u001b[0mtimeout\u001b[0m\u001b[0;34m)\u001b[0m\u001b[0;34m)\u001b[0m\u001b[0;34m\u001b[0m\u001b[0;34m\u001b[0m\u001b[0m\n\u001b[0m\u001b[1;32m    579\u001b[0m         \u001b[0;32mif\u001b[0m \u001b[0mself\u001b[0m\u001b[0;34m.\u001b[0m\u001b[0msink_socket\u001b[0m \u001b[0;32min\u001b[0m \u001b[0mpoll_events\u001b[0m\u001b[0;34m:\u001b[0m\u001b[0;34m\u001b[0m\u001b[0;34m\u001b[0m\u001b[0m\n\u001b[1;32m    580\u001b[0m             \u001b[0mres\u001b[0m \u001b[0;34m=\u001b[0m \u001b[0mrecv_serialized\u001b[0m\u001b[0;34m(\u001b[0m\u001b[0mself\u001b[0m\u001b[0;34m.\u001b[0m\u001b[0msink_socket\u001b[0m\u001b[0;34m)\u001b[0m\u001b[0;34m\u001b[0m\u001b[0;34m\u001b[0m\u001b[0m\n",
      "\u001b[0;32m~/miniconda/envs/libertem/lib/python3.8/site-packages/zmq/sugar/poll.py\u001b[0m in \u001b[0;36mpoll\u001b[0;34m(self, timeout)\u001b[0m\n\u001b[1;32m    103\u001b[0m         \u001b[0;32melif\u001b[0m \u001b[0misinstance\u001b[0m\u001b[0;34m(\u001b[0m\u001b[0mtimeout\u001b[0m\u001b[0;34m,\u001b[0m \u001b[0mfloat\u001b[0m\u001b[0;34m)\u001b[0m\u001b[0;34m:\u001b[0m\u001b[0;34m\u001b[0m\u001b[0;34m\u001b[0m\u001b[0m\n\u001b[1;32m    104\u001b[0m             \u001b[0mtimeout\u001b[0m \u001b[0;34m=\u001b[0m \u001b[0mint\u001b[0m\u001b[0;34m(\u001b[0m\u001b[0mtimeout\u001b[0m\u001b[0;34m)\u001b[0m\u001b[0;34m\u001b[0m\u001b[0;34m\u001b[0m\u001b[0m\n\u001b[0;32m--> 105\u001b[0;31m         \u001b[0;32mreturn\u001b[0m \u001b[0mzmq_poll\u001b[0m\u001b[0;34m(\u001b[0m\u001b[0mself\u001b[0m\u001b[0;34m.\u001b[0m\u001b[0msockets\u001b[0m\u001b[0;34m,\u001b[0m \u001b[0mtimeout\u001b[0m\u001b[0;34m=\u001b[0m\u001b[0mtimeout\u001b[0m\u001b[0;34m)\u001b[0m\u001b[0;34m\u001b[0m\u001b[0;34m\u001b[0m\u001b[0m\n\u001b[0m\u001b[1;32m    106\u001b[0m \u001b[0;34m\u001b[0m\u001b[0m\n\u001b[1;32m    107\u001b[0m \u001b[0;34m\u001b[0m\u001b[0m\n",
      "\u001b[0;32mzmq/backend/cython/_poll.pyx\u001b[0m in \u001b[0;36mzmq.backend.cython._poll.zmq_poll\u001b[0;34m()\u001b[0m\n",
      "\u001b[0;32m~/miniconda/envs/libertem/lib/python3.8/site-packages/zmq/backend/cython/checkrc.pxd\u001b[0m in \u001b[0;36mzmq.backend.cython.checkrc._check_rc\u001b[0;34m()\u001b[0m\n",
      "\u001b[0;31mKeyboardInterrupt\u001b[0m: "
     ]
    }
   ],
   "source": [
    "com_udf = ApplyMasksUDF(mask_factories=com_masks_factory(\n",
    "    detector_y=1860,\n",
    "    detector_x=2048,\n",
    "    cx=2048/2,\n",
    "    cy=1860/2,\n",
    "    r=np.inf,\n",
    "))\n",
    "\n",
    "udfs = [com_udf]\n",
    "# udfs = [NoOpUDF()]\n",
    "\n",
    "plot = BQLive2DPlot(udf=udfs[0], dataset=ds, channel=visualize_idpc)\n",
    "plot.display()\n",
    "\n",
    "plot.color_scale.scheme = 'OrRd'\n",
    "\n",
    "old_damage = np.zeros(ds.shape.nav, dtype=bool)\n",
    "\n",
    "for res, all_res in run_for_dataset_sync(st, udfs=udfs, dataset=ds, executor=None,\n",
    "                                roi=None, progress=False, corrections=None):\n",
    "    if np.any(old_damage != res.damage.data):\n",
    "        plot.new_data(udf_results=res.buffers[0], damage=res.damage)\n",
    "\n",
    "        if old_damage.sum() > res.damage.data.sum():\n",
    "            print(\"new epoch?\")\n",
    "        old_damage[:] = res.damage.data"
   ]
  },
  {
   "cell_type": "code",
   "execution_count": null,
   "id": "taken-senegal",
   "metadata": {},
   "outputs": [],
   "source": [
    "all_slice_origins = set([s.origin[0] for s in res.buffers[1]['slices'].data[0]])\n",
    "for i in range(20*40):\n",
    "    assert i in all_slice_origins"
   ]
  },
  {
   "cell_type": "code",
   "execution_count": null,
   "id": "horizontal-riverside",
   "metadata": {
    "scrolled": false
   },
   "outputs": [],
   "source": [
    "all_res"
   ]
  },
  {
   "cell_type": "code",
   "execution_count": null,
   "id": "delayed-siemens",
   "metadata": {},
   "outputs": [],
   "source": [
    "2*32*100"
   ]
  },
  {
   "cell_type": "code",
   "execution_count": null,
   "id": "australian-syndicate",
   "metadata": {},
   "outputs": [],
   "source": [
    "print(all_res[0][0].get(nav_only=True))\n",
    "print(all_res[8][0].get(nav_only=True))"
   ]
  },
  {
   "cell_type": "code",
   "execution_count": null,
   "id": "basic-attribute",
   "metadata": {},
   "outputs": [],
   "source": [
    "all_res[8][1].buffers[0].intensity[..., 2]"
   ]
  },
  {
   "cell_type": "code",
   "execution_count": null,
   "id": "supported-disney",
   "metadata": {},
   "outputs": [],
   "source": [
    "[(r[0].origin[0], r[3]) for r in all_res]"
   ]
  },
  {
   "cell_type": "code",
   "execution_count": null,
   "id": "removed-consistency",
   "metadata": {},
   "outputs": [],
   "source": [
    "%matplotlib widget"
   ]
  },
  {
   "cell_type": "code",
   "execution_count": null,
   "id": "deadly-circuit",
   "metadata": {},
   "outputs": [],
   "source": [
    "from matplotlib import pyplot as plt"
   ]
  },
  {
   "cell_type": "code",
   "execution_count": null,
   "id": "quality-february",
   "metadata": {},
   "outputs": [],
   "source": [
    "hmm = np.zeros(ds.shape.nav)\n",
    "hmm_flat = hmm.reshape((-1,))\n",
    "for s_, _, _, _ in all_res:\n",
    "    hmm_flat[s_.get(nav_only=True)] += 1"
   ]
  },
  {
   "cell_type": "code",
   "execution_count": null,
   "id": "changing-scout",
   "metadata": {},
   "outputs": [],
   "source": [
    "assert np.allclose(hmm, 8)"
   ]
  },
  {
   "cell_type": "code",
   "execution_count": null,
   "id": "outer-disclaimer",
   "metadata": {},
   "outputs": [],
   "source": [
    "plt.figure()\n",
    "plt.imshow(res.buffers[0]['intensity'].data[..., 0])"
   ]
  },
  {
   "cell_type": "code",
   "execution_count": null,
   "id": "transparent-sudan",
   "metadata": {},
   "outputs": [],
   "source": [
    "plt.figure()\n",
    "plt.imshow(res.damage.data.astype(int))"
   ]
  },
  {
   "cell_type": "code",
   "execution_count": null,
   "id": "apparent-poker",
   "metadata": {},
   "outputs": [],
   "source": [
    "from libertem.common import Slice, Shape"
   ]
  },
  {
   "cell_type": "code",
   "execution_count": null,
   "id": "final-forestry",
   "metadata": {},
   "outputs": [],
   "source": [
    "res0 = res.buffers[0]['intensity'].data[..., 0].copy()\n",
    "res0_flat = res0.reshape((-1,))\n",
    "# res0_flat[Slice.from_shape((100,), sig_dims=0).get()] = 42"
   ]
  },
  {
   "cell_type": "code",
   "execution_count": null,
   "id": "purple-console",
   "metadata": {},
   "outputs": [],
   "source": [
    "plt.figure()\n",
    "plt.imshow(res0, vmin=res0[res0 > 0].min())"
   ]
  },
  {
   "cell_type": "markdown",
   "id": "analyzed-former",
   "metadata": {},
   "source": [
    "# TEARDOWN!"
   ]
  },
  {
   "cell_type": "code",
   "execution_count": null,
   "id": "raising-cocktail",
   "metadata": {},
   "outputs": [],
   "source": [
    "st.stop()\n",
    "st.join()"
   ]
  },
  {
   "cell_type": "code",
   "execution_count": null,
   "id": "straight-footwear",
   "metadata": {},
   "outputs": [],
   "source": []
  }
 ],
 "metadata": {
  "kernelspec": {
   "display_name": "Python 3",
   "language": "python",
   "name": "python3"
  },
  "language_info": {
   "codemirror_mode": {
    "name": "ipython",
    "version": 3
   },
   "file_extension": ".py",
   "mimetype": "text/x-python",
   "name": "python",
   "nbconvert_exporter": "python",
   "pygments_lexer": "ipython3",
   "version": "3.8.8"
  }
 },
 "nbformat": 4,
 "nbformat_minor": 5
}
