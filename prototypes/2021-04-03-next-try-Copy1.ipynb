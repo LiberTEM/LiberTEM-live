{
 "cells": [
  {
   "cell_type": "code",
   "execution_count": 1,
   "id": "stunning-lodge",
   "metadata": {},
   "outputs": [],
   "source": [
    "import numpy as np\n",
    "import zmq\n",
    "import threading\n",
    "import time\n",
    "import uuid\n",
    "from libertem_live.detectors.common import StoppableThreadMixin, send_serialized, recv_serialized\n",
    "from libertem_live.detectors.k2is.state import EventType, SetUDFsEvent, StopEvent, EventReplicaClientThread, SetNavShapeEvent, StartProcessingEvent, StopProcessingEvent\n",
    "from libertem.analysis.com import com_masks_factory\n",
    "from libertem.udf.masks import ApplyMasksUDF\n",
    "from libertem.udf.base import UDFMeta, UDFResults\n",
    "from libertem.common import Shape\n",
    "from libertem.common.buffers import BufferWrapper\n",
    "from libertem.viz.bqp import BQLive2DPlot"
   ]
  },
  {
   "cell_type": "code",
   "execution_count": 2,
   "id": "collected-height",
   "metadata": {},
   "outputs": [],
   "source": [
    "class FakeDataSet:\n",
    "    def __init__(self, nav_shape):\n",
    "        self.nav_shape = nav_shape\n",
    "        self.shape = Shape(nav_shape + (1860, 2048), sig_dims=2)\n",
    "        self.dtype = np.uint16\n",
    "\n",
    "\n",
    "def _get_dtype(udfs, dtype, corrections):\n",
    "    if corrections is not None and corrections.have_corrections():\n",
    "        tmp_dtype = np.result_type(np.float32, dtype)\n",
    "    else:\n",
    "        tmp_dtype = dtype\n",
    "    for udf in udfs:\n",
    "        tmp_dtype = np.result_type(\n",
    "            udf.get_preferred_input_dtype(),\n",
    "            tmp_dtype\n",
    "        )\n",
    "    return tmp_dtype\n",
    "\n",
    "\n",
    "def _prepare_run_for_dataset(\n",
    "    udfs, dataset, executor, roi, corrections, backends, dry\n",
    "):\n",
    "    meta = UDFMeta(\n",
    "        partition_shape=None,\n",
    "        dataset_shape=dataset.shape,\n",
    "        roi=roi,\n",
    "        dataset_dtype=dataset.dtype,\n",
    "        input_dtype=_get_dtype(udfs, dataset.dtype, corrections),\n",
    "        corrections=corrections,\n",
    "    )\n",
    "    for udf in udfs:\n",
    "        udf.set_meta(meta)\n",
    "        udf.init_result_buffers()\n",
    "        udf.allocate_for_full(dataset, roi)\n",
    "\n",
    "        if hasattr(udf, 'preprocess'):\n",
    "            udf.set_views_for_dataset(dataset)\n",
    "            udf.preprocess()"
   ]
  },
  {
   "cell_type": "code",
   "execution_count": 3,
   "id": "understanding-lighting",
   "metadata": {},
   "outputs": [],
   "source": [
    "from libertem.common.buffers import PreallocBufferWrapper"
   ]
  },
  {
   "cell_type": "code",
   "execution_count": 4,
   "id": "rubber-superior",
   "metadata": {},
   "outputs": [],
   "source": [
    "def run_for_dataset_sync(st, udfs, dataset, executor,\n",
    "                         roi=None, progress=False, corrections=None, backends=None, dry=False):\n",
    "\n",
    "    cancel_id = str(uuid.uuid4())\n",
    "\n",
    "    if progress:\n",
    "        assert False, \"progress not implemented yet\"\n",
    "        from tqdm import tqdm\n",
    "        t = tqdm(total=len(tasks))\n",
    "        \n",
    "    zctx = zmq.Context.instance()\n",
    "    sink = zctx.socket(zmq.PULL)\n",
    "    sink.bind(\"tcp://*:7205\")\n",
    "\n",
    "    try:\n",
    "        st.dispatch(SetUDFsEvent(udfs=udfs))\n",
    "        st.dispatch(SetNavShapeEvent(nav_shape=tuple(dataset.shape.nav)))\n",
    "        st.dispatch(StartProcessingEvent())\n",
    "\n",
    "        damage = BufferWrapper(kind='nav', dtype=int)\n",
    "        damage.set_shape_ds(dataset.shape, roi)\n",
    "        damage.allocate()\n",
    "\n",
    "        all_results = []\n",
    "\n",
    "        udf_copies = [\n",
    "            udf.copy()\n",
    "            for udf in udfs\n",
    "        ]\n",
    "\n",
    "        _prepare_run_for_dataset(\n",
    "            udf_copies, dataset, executor, roi, corrections, backends, dry\n",
    "        )\n",
    "    \n",
    "        current_epoch = 0\n",
    "    except Exception:\n",
    "        sink.close()\n",
    "        raise\n",
    "    \n",
    "    try:\n",
    "        while True:\n",
    "            # TODO: poll `sink` and check for cancellation\n",
    "            partition_slice, part_results, epoch, packet_counter = recv_serialized(sink)\n",
    "            \n",
    "            if epoch > current_epoch:\n",
    "                udf_copies = [\n",
    "                    udf.copy()\n",
    "                    for udf in udfs\n",
    "                ]\n",
    "                _prepare_run_for_dataset(\n",
    "                    udf_copies, dataset, executor, roi, corrections, backends, dry\n",
    "                )\n",
    "                current_epoch = epoch\n",
    "                damage.data[:] = 0\n",
    "                \n",
    "            all_results.append((partition_slice, part_results, epoch, packet_counter))\n",
    "            \n",
    "            for results, udf in zip(part_results.buffers, udf_copies):\n",
    "                udf.set_views_for_partition(partition_slice=partition_slice)\n",
    "                udf.merge(\n",
    "                    dest=udf.results.get_proxy(),\n",
    "                    src=results.get_proxy()\n",
    "                )\n",
    "                udf.clear_views()\n",
    "            v = damage.get_view_for_partition(partition_slice=partition_slice)\n",
    "            v[:] += 1\n",
    "            bool_damage = PreallocBufferWrapper(damage.data >= 8, kind='nav', dtype=bool)\n",
    "            bool_damage.set_shape_ds(dataset.shape, roi)\n",
    "            yield UDFResults(\n",
    "                buffers=tuple(\n",
    "                    udf._do_get_results()\n",
    "                    for udf in udf_copies\n",
    "                ),\n",
    "                damage=bool_damage,\n",
    "            ), all_results\n",
    "    finally:\n",
    "        sink.close()\n",
    "        st.dispatch(StopProcessingEvent())\n",
    "\n",
    "    if progress:\n",
    "        t.close()"
   ]
  },
  {
   "cell_type": "code",
   "execution_count": 5,
   "id": "amino-occurrence",
   "metadata": {},
   "outputs": [],
   "source": [
    "st = EventReplicaClientThread()\n",
    "st.start()"
   ]
  },
  {
   "cell_type": "code",
   "execution_count": 6,
   "id": "adjacent-monte",
   "metadata": {},
   "outputs": [],
   "source": [
    "def print_event(state, new_state, event, effects):\n",
    "    print(f\"reveived event: {event} {time.time()}\")\n",
    "st.sub.store.listen_all(print_event)"
   ]
  },
  {
   "cell_type": "code",
   "execution_count": 7,
   "id": "nutritional-latter",
   "metadata": {},
   "outputs": [],
   "source": [
    "ds = FakeDataSet(nav_shape=(40, 20))\n",
    "# ds = FakeDataSet(nav_shape=(128, 128))"
   ]
  },
  {
   "cell_type": "code",
   "execution_count": 8,
   "id": "european-bristol",
   "metadata": {},
   "outputs": [],
   "source": [
    "from libertem.udf import UDF"
   ]
  },
  {
   "cell_type": "code",
   "execution_count": 9,
   "id": "noble-nickname",
   "metadata": {},
   "outputs": [],
   "source": [
    "class NonZeroUDF(UDF):\n",
    "    def get_result_buffers(self):\n",
    "        return {\n",
    "            'intensity': self.buffer(kind='nav'),\n",
    "            'slices': self.buffer(kind='single', dtype=object),\n",
    "            # 'slices': self.buffer(kind='single', dtype=\"python\", initial=[]),\n",
    "        }\n",
    "    \n",
    "    def preprocess(self):\n",
    "        self.results.slices[0] = []\n",
    "    \n",
    "    def process_tile(self, tile):\n",
    "        s = np.sum(tile, axis=(1, 2))\n",
    "        self.results.intensity[:] += s\n",
    "        self.results.slices[0].append(self.meta.slice)\n",
    "        assert np.all(s > 0)\n",
    "        \n",
    "    def merge(self, dest, src):\n",
    "        dest.intensity[:] += src.intensity\n",
    "        dest.slices[0].extend(src.slices[0])"
   ]
  },
  {
   "cell_type": "code",
   "execution_count": 10,
   "id": "efficient-suggestion",
   "metadata": {},
   "outputs": [],
   "source": [
    "from libertem.udf.sumsigudf import SumSigUDF\n",
    "from libertem.udf.base import NoOpUDF"
   ]
  },
  {
   "cell_type": "code",
   "execution_count": null,
   "id": "accredited-necklace",
   "metadata": {
    "scrolled": false
   },
   "outputs": [
    {
     "data": {
      "application/vnd.jupyter.widget-view+json": {
       "model_id": "83090e5eb1bd474f9fc7543449065e36",
       "version_major": 2,
       "version_minor": 0
      },
      "text/plain": [
       "Figure(axes=[Axis(label='x', scale=LinearScale(max=1.0, min=0.0)), Axis(label='y', orientation='vertical', sca…"
      ]
     },
     "metadata": {},
     "output_type": "display_data"
    },
    {
     "name": "stdout",
     "output_type": "stream",
     "text": [
      "reveived event: typ=<EventType.SET_UDFS: 'SET_UDFS'> udfs=[<libertem.udf.masks.ApplyMasksUDF object at 0x7fbec1245400>] 1620239752.1927075\n",
      "reveived event: typ=<EventType.SET_NAV_SHAPE: 'SET_NAV_SHAPE'> nav_shape=(40, 20) 1620239752.3028078\n",
      "reveived event: typ=<EventType.START_PROCESSING: 'START_PROCESSING'> 1620239752.3940353\n",
      "reveived event: typ=<EventType.CAM_CONNECTED: 'CAM_CONNECTED'> 1620239752.5071661\n"
     ]
    }
   ],
   "source": [
    "com_udf = ApplyMasksUDF(mask_factories=com_masks_factory(\n",
    "    detector_y=1860,\n",
    "    detector_x=2048,\n",
    "    cx=2048/2,\n",
    "    cy=1860/2,\n",
    "    r=np.inf,\n",
    "))\n",
    "# udfs = [com_udf, NonZeroUDF()]\n",
    "udfs = [com_udf]\n",
    "# udfs = [NoOpUDF()]\n",
    "plot = BQLive2DPlot(udf=udfs[0], dataset=ds, channel=('intensity', lambda x: x[..., 0]))\n",
    "plot.display()\n",
    "\n",
    "old_damage = np.zeros(ds.shape.nav, dtype=bool)\n",
    "\n",
    "for res, all_res in run_for_dataset_sync(st, udfs=udfs, dataset=ds, executor=None,\n",
    "                                roi=None, progress=False, corrections=None):\n",
    "    if np.any(old_damage != res.damage.data):\n",
    "        plot.new_data(udf_results=res.buffers[0], damage=res.damage)\n",
    "        old_damage[:] = res.damage.data"
   ]
  },
  {
   "cell_type": "code",
   "execution_count": null,
   "id": "chronic-phone",
   "metadata": {},
   "outputs": [],
   "source": []
  },
  {
   "cell_type": "code",
   "execution_count": null,
   "id": "taken-senegal",
   "metadata": {},
   "outputs": [],
   "source": [
    "all_slice_origins = set([s.origin[0] for s in res.buffers[1]['slices'].data[0]])\n",
    "for i in range(20*40):\n",
    "    assert i in all_slice_origins"
   ]
  },
  {
   "cell_type": "code",
   "execution_count": null,
   "id": "horizontal-riverside",
   "metadata": {
    "scrolled": false
   },
   "outputs": [],
   "source": [
    "all_res"
   ]
  },
  {
   "cell_type": "code",
   "execution_count": null,
   "id": "delayed-siemens",
   "metadata": {},
   "outputs": [],
   "source": [
    "2*32*100"
   ]
  },
  {
   "cell_type": "code",
   "execution_count": null,
   "id": "australian-syndicate",
   "metadata": {},
   "outputs": [],
   "source": [
    "print(all_res[0][0].get(nav_only=True))\n",
    "print(all_res[8][0].get(nav_only=True))"
   ]
  },
  {
   "cell_type": "code",
   "execution_count": null,
   "id": "basic-attribute",
   "metadata": {},
   "outputs": [],
   "source": [
    "all_res[8][1].buffers[0].intensity[..., 2]"
   ]
  },
  {
   "cell_type": "code",
   "execution_count": null,
   "id": "supported-disney",
   "metadata": {},
   "outputs": [],
   "source": [
    "[(r[0].origin[0], r[3]) for r in all_res]"
   ]
  },
  {
   "cell_type": "code",
   "execution_count": null,
   "id": "removed-consistency",
   "metadata": {},
   "outputs": [],
   "source": [
    "%matplotlib widget"
   ]
  },
  {
   "cell_type": "code",
   "execution_count": null,
   "id": "deadly-circuit",
   "metadata": {},
   "outputs": [],
   "source": [
    "from matplotlib import pyplot as plt"
   ]
  },
  {
   "cell_type": "code",
   "execution_count": null,
   "id": "quality-february",
   "metadata": {},
   "outputs": [],
   "source": [
    "hmm = np.zeros(ds.shape.nav)\n",
    "hmm_flat = hmm.reshape((-1,))\n",
    "for s_, _, _, _ in all_res:\n",
    "    hmm_flat[s_.get(nav_only=True)] += 1"
   ]
  },
  {
   "cell_type": "code",
   "execution_count": null,
   "id": "changing-scout",
   "metadata": {},
   "outputs": [],
   "source": [
    "assert np.allclose(hmm, 8)"
   ]
  },
  {
   "cell_type": "code",
   "execution_count": null,
   "id": "outer-disclaimer",
   "metadata": {},
   "outputs": [],
   "source": [
    "plt.figure()\n",
    "plt.imshow(res.buffers[0]['intensity'].data[..., 0])"
   ]
  },
  {
   "cell_type": "code",
   "execution_count": null,
   "id": "transparent-sudan",
   "metadata": {},
   "outputs": [],
   "source": [
    "plt.figure()\n",
    "plt.imshow(res.damage.data.astype(int))"
   ]
  },
  {
   "cell_type": "code",
   "execution_count": null,
   "id": "apparent-poker",
   "metadata": {},
   "outputs": [],
   "source": [
    "from libertem.common import Slice, Shape"
   ]
  },
  {
   "cell_type": "code",
   "execution_count": null,
   "id": "final-forestry",
   "metadata": {},
   "outputs": [],
   "source": [
    "res0 = res.buffers[0]['intensity'].data[..., 0].copy()\n",
    "res0_flat = res0.reshape((-1,))\n",
    "# res0_flat[Slice.from_shape((100,), sig_dims=0).get()] = 42"
   ]
  },
  {
   "cell_type": "code",
   "execution_count": null,
   "id": "purple-console",
   "metadata": {},
   "outputs": [],
   "source": [
    "plt.figure()\n",
    "plt.imshow(res0, vmin=res0[res0 > 0].min())"
   ]
  },
  {
   "cell_type": "markdown",
   "id": "analyzed-former",
   "metadata": {},
   "source": [
    "# TEARDOWN!"
   ]
  },
  {
   "cell_type": "code",
   "execution_count": null,
   "id": "raising-cocktail",
   "metadata": {},
   "outputs": [],
   "source": [
    "st.stop()\n",
    "st.join()"
   ]
  },
  {
   "cell_type": "code",
   "execution_count": null,
   "id": "straight-footwear",
   "metadata": {},
   "outputs": [],
   "source": []
  }
 ],
 "metadata": {
  "kernelspec": {
   "display_name": "Python 3",
   "language": "python",
   "name": "python3"
  },
  "language_info": {
   "codemirror_mode": {
    "name": "ipython",
    "version": 3
   },
   "file_extension": ".py",
   "mimetype": "text/x-python",
   "name": "python",
   "nbconvert_exporter": "python",
   "pygments_lexer": "ipython3",
   "version": "3.8.8"
  }
 },
 "nbformat": 4,
 "nbformat_minor": 5
}
