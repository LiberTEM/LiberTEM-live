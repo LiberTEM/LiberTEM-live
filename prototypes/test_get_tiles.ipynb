{
 "cells": [
  {
   "cell_type": "code",
   "execution_count": 161,
   "id": "fabulous-avatar",
   "metadata": {},
   "outputs": [],
   "source": [
    "%matplotlib nbagg"
   ]
  },
  {
   "cell_type": "code",
   "execution_count": 162,
   "id": "large-elephant",
   "metadata": {},
   "outputs": [],
   "source": [
    "import numpy as np\n",
    "import matplotlib.pyplot as plt\n",
    "\n",
    "from libertem_live.detectors.k2is.proto import MsgReaderThread\n",
    "from libertem.io.dataset.k2is import DataBlock, SHUTTER_ACTIVE_MASK"
   ]
  },
  {
   "cell_type": "code",
   "execution_count": 6,
   "id": "generous-fundamental",
   "metadata": {},
   "outputs": [],
   "source": [
    "packet_size = 0x5758"
   ]
  },
  {
   "cell_type": "code",
   "execution_count": 112,
   "id": "thousand-martial",
   "metadata": {},
   "outputs": [],
   "source": [
    "class MockThread:\n",
    "    buffered_tile = None\n",
    "    first_frame_id = 0\n",
    "    timeout = 1\n",
    "    # first sector\n",
    "    x_offset = 0\n",
    "    \n",
    "    def __init__(self):\n",
    "        self.packet_counter = 1\n",
    "    \n",
    "    def is_stopped(self):\n",
    "        return False"
   ]
  },
  {
   "cell_type": "code",
   "execution_count": 184,
   "id": "joint-relaxation",
   "metadata": {},
   "outputs": [],
   "source": [
    "class MockSocket:\n",
    "    def __init__(self):\n",
    "        self.block_count = 0    \n",
    "        self.offsets = []\n",
    "        # [240, 224, 208, ..., 16, 0]\n",
    "        for x in range(240, -16, -16):\n",
    "            self.offsets.append((x, 0))\n",
    "        for x in range(240, -16, -16):\n",
    "            self.offsets.append((x, 930))\n",
    "    \n",
    "    def recvmsg_into(self, buffers):\n",
    "        frame, packet = divmod(self.block_count, 32)\n",
    "        # The calling code always receives into a single buffer for a single packet\n",
    "        assert len(buffers) == 1\n",
    "        buffer = buffers[0]\n",
    "        assert len(buffer) == packet_size\n",
    "        \n",
    "        x, y = self.offsets[packet]\n",
    "        \n",
    "        header = np.zeros(1, dtype=DataBlock.header_dtype)[0]\n",
    "        header['sync'] = 0xFFFF0055\n",
    "        header['version'] = 1\n",
    "        header['flags'] = SHUTTER_ACTIVE_MASK\n",
    "        header['block_count'] = self.block_count\n",
    "        header['width'] = 256\n",
    "        header['height'] = 1860\n",
    "        header['frame_id'] = frame\n",
    "        header['pixel_x_start'] = x\n",
    "        header['pixel_y_start'] = y\n",
    "        header['pixel_x_end'] = x + 15\n",
    "        header['pixel_y_end'] = y + 929\n",
    "        header['block_size'] = packet_size\n",
    "        payload = bytearray(packet_size - header.nbytes)\n",
    "        # Encode the block count as uint12 payload in the first 1 1/2 bytes\n",
    "        tag = np.int16(self.block_count)\n",
    "        b1 = tag & 0xFF\n",
    "        b2 = (tag & 0x0F00) >> 8\n",
    "        payload[0] = b1\n",
    "        payload[1] = b2\n",
    "        \n",
    "        nbytes = packet_size\n",
    "        ancdata = None\n",
    "        msg_flags = None\n",
    "        address = None\n",
    "        buffer[:] = header.tobytes() + payload\n",
    "        # Know where we are in the virtual dataset\n",
    "        self.block_count += 1\n",
    "        \n",
    "        return (nbytes, ancdata, msg_flags, address)\n",
    "    \n",
    "    def settimeout(self, timeout):\n",
    "        return\n",
    "    "
   ]
  },
  {
   "cell_type": "code",
   "execution_count": 188,
   "id": "imposed-theater",
   "metadata": {},
   "outputs": [],
   "source": [
    "thread = MockThread()\n",
    "socket = MockSocket()"
   ]
  },
  {
   "cell_type": "code",
   "execution_count": 189,
   "id": "northern-falls",
   "metadata": {},
   "outputs": [],
   "source": [
    "packets = MsgReaderThread.read_loop_bulk(thread, socket)\n",
    "tiles = MsgReaderThread.get_tiles(thread, packets, end_after_idx=8)"
   ]
  },
  {
   "cell_type": "code",
   "execution_count": 191,
   "id": "apparent-green",
   "metadata": {},
   "outputs": [],
   "source": [
    "FRAMES_PER_TILE = 4\n",
    "for tile_idx, t in enumerate(tiles):\n",
    "    for frame in range(FRAMES_PER_TILE):\n",
    "        for y in (0, 930):\n",
    "            for x in range(0, 256, 16):\n",
    "                tag = t[frame, y, x]\n",
    "                offset = 0 if y == 0 else 16\n",
    "                # unwind the sequence from MockSocket\n",
    "                target = 15 - x//16 + offset + 32*frame + 32*FRAMES_PER_TILE*tile_idx\n",
    "                assert tag == target\n",
    "                print(frame, y, x, tag)\n",
    "                \n",
    "        "
   ]
  },
  {
   "cell_type": "code",
   "execution_count": null,
   "id": "geographic-refrigerator",
   "metadata": {},
   "outputs": [],
   "source": []
  }
 ],
 "metadata": {
  "kernelspec": {
   "display_name": "Python 3",
   "language": "python",
   "name": "python3"
  },
  "language_info": {
   "codemirror_mode": {
    "name": "ipython",
    "version": 3
   },
   "file_extension": ".py",
   "mimetype": "text/x-python",
   "name": "python",
   "nbconvert_exporter": "python",
   "pygments_lexer": "ipython3",
   "version": "3.8.5"
  }
 },
 "nbformat": 4,
 "nbformat_minor": 5
}
