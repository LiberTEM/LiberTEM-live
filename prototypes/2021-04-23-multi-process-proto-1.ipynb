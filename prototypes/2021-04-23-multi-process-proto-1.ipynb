{
 "cells": [
  {
   "cell_type": "code",
   "execution_count": 23,
   "id": "falling-cinema",
   "metadata": {},
   "outputs": [],
   "source": [
    "%load_ext autoreload"
   ]
  },
  {
   "cell_type": "code",
   "execution_count": 24,
   "id": "proved-spectacular",
   "metadata": {},
   "outputs": [],
   "source": [
    "%autoreload"
   ]
  },
  {
   "cell_type": "code",
   "execution_count": 1,
   "id": "outstanding-particular",
   "metadata": {},
   "outputs": [],
   "source": [
    "import multiprocessing as mp\n",
    "mp.set_start_method('spawn')"
   ]
  },
  {
   "cell_type": "code",
   "execution_count": 2,
   "id": "premier-commonwealth",
   "metadata": {},
   "outputs": [],
   "source": [
    "import os\n",
    "import time\n",
    "import socket\n",
    "import struct\n",
    "import contextlib\n",
    "import threading"
   ]
  },
  {
   "cell_type": "code",
   "execution_count": 3,
   "id": "innovative-korean",
   "metadata": {},
   "outputs": [],
   "source": [
    "import numpy as np\n",
    "import numba\n",
    "import hexdump"
   ]
  },
  {
   "cell_type": "code",
   "execution_count": 4,
   "id": "apart-australia",
   "metadata": {},
   "outputs": [],
   "source": [
    "from libertem.io.dataset.k2is import DataBlock\n",
    "from libertem.common.buffers import bytes_aligned, zeros_aligned\n",
    "from libertem_live.utils.net import mcast_socket\n",
    "from libertem_live.detectors.k2is.decode import decode_uint12_le\n",
    "from libertem_live.detectors.common import StoppableThreadMixin"
   ]
  },
  {
   "cell_type": "code",
   "execution_count": 5,
   "id": "accepted-possession",
   "metadata": {},
   "outputs": [],
   "source": [
    "class SyncState:\n",
    "    \"\"\"\n",
    "    Shared state for synchronization between processes\n",
    "    \"\"\"\n",
    "    def __init__(self, num_processes):\n",
    "        self.num_processes = num_processes\n",
    "        self.first_frame_id = mp.Value('I', 0)\n",
    "        self.sync_msg_seen = mp.Value('i', 0)\n",
    "        self.sync_done = mp.Event()\n",
    "    \n",
    "    def set_first_frame_id(self, frame_id):\n",
    "        \"\"\"\n",
    "        Each process should set the `frame_id` of the first full frame they observe\n",
    "        \"\"\"\n",
    "        if self.sync_done.is_set():\n",
    "            raise ValueError(\"sync already done\")\n",
    "        with self.first_frame_id.get_lock(), self.sync_msg_seen.get_lock():\n",
    "            self.first_frame_id.value = max(self.first_frame_id.value, frame_id)\n",
    "            self.sync_msg_seen.value += 1\n",
    "            if self.sync_msg_seen.value == self.num_processes:\n",
    "                self.sync_done.set()\n",
    "                \n",
    "    def get_first_frame_id(self):\n",
    "        if not self.sync_done.is_set():\n",
    "            raise RuntimeError(\"get_first_frame_id called with incomplete sync procedure\")\n",
    "        return self.first_frame_id.value"
   ]
  },
  {
   "cell_type": "markdown",
   "id": "promotional-theme",
   "metadata": {},
   "source": [
    "# TODO: extract into testcase!"
   ]
  },
  {
   "cell_type": "code",
   "execution_count": 6,
   "id": "medium-peripheral",
   "metadata": {},
   "outputs": [],
   "source": [
    "def inc(ss, fi):\n",
    "    ss.set_first_frame_id(fi)"
   ]
  },
  {
   "cell_type": "code",
   "execution_count": 22,
   "id": "stopped-syndrome",
   "metadata": {},
   "outputs": [
    {
     "name": "stdout",
     "output_type": "stream",
     "text": [
      "False\n",
      "False\n",
      "False\n",
      "False\n",
      "False\n",
      "False\n",
      "False\n",
      "False\n",
      "0\n"
     ]
    }
   ],
   "source": [
    "ss = SyncState(num_processes=8)\n",
    "\n",
    "for i in range(8):\n",
    "    pi = mp.Process(target=inc, args=(ss, i,))\n",
    "    pi.start()\n",
    "    pi.join()\n",
    "    print(ss.sync_done.is_set())\n",
    "print(ss.first_frame_id.value)"
   ]
  },
  {
   "cell_type": "code",
   "execution_count": 8,
   "id": "impossible-legislation",
   "metadata": {},
   "outputs": [],
   "source": [
    "GROUP = '225.1.1.1'"
   ]
  },
  {
   "cell_type": "code",
   "execution_count": null,
   "id": "inappropriate-orbit",
   "metadata": {},
   "outputs": [],
   "source": []
  },
  {
   "cell_type": "code",
   "execution_count": null,
   "id": "apart-breathing",
   "metadata": {},
   "outputs": [],
   "source": [
    "\n",
    "\n",
    "\n",
    "\n"
   ]
  },
  {
   "cell_type": "code",
   "execution_count": 9,
   "id": "appointed-registrar",
   "metadata": {},
   "outputs": [],
   "source": [
    "from libertem.io.dataset.base.tiling import TilingScheme, DataTile\n",
    "from libertem.common import Shape, Slice"
   ]
  },
  {
   "cell_type": "markdown",
   "id": "personal-samuel",
   "metadata": {},
   "source": [
    "# FIXME: TilingScheme should be limited to the sector we are working on, right?"
   ]
  },
  {
   "cell_type": "code",
   "execution_count": 10,
   "id": "surprised-circle",
   "metadata": {},
   "outputs": [],
   "source": [
    "ts = TilingScheme.make_for_shape(\n",
    "    tileshape=Shape((1, 930, 16), sig_dims=2),\n",
    "    dataset_shape=Shape((1, 2*930, 16*8*16), sig_dims=2)\n",
    ")"
   ]
  },
  {
   "cell_type": "code",
   "execution_count": 11,
   "id": "quantitative-appraisal",
   "metadata": {},
   "outputs": [
    {
     "data": {
      "text/plain": [
       "<TilingScheme (depth=1) shapes=[(930, 16)] len=256>"
      ]
     },
     "execution_count": 11,
     "metadata": {},
     "output_type": "execute_result"
    }
   ],
   "source": [
    "ts"
   ]
  },
  {
   "cell_type": "code",
   "execution_count": 12,
   "id": "recovered-inside",
   "metadata": {},
   "outputs": [],
   "source": [
    "from libertem.io.dataset.base import Partition, DataSetMeta"
   ]
  },
  {
   "cell_type": "code",
   "execution_count": 13,
   "id": "electronic-malaysia",
   "metadata": {},
   "outputs": [],
   "source": [
    "class PlaceholderPartition(Partition):\n",
    "    def __init__(\n",
    "        self, meta: DataSetMeta, partition_slice: Slice, tiles, start_frame: int, num_frames: int,\n",
    "    ):\n",
    "        self._tiles = tiles\n",
    "        self._start_frame = start_frame\n",
    "        self._num_frames = num_frames\n",
    "        super().__init__(\n",
    "            meta=meta,\n",
    "            partition_slice=partition_slice,\n",
    "            io_backend=None,\n",
    "        )\n",
    "    \n",
    "    def get_tiles(self, tiling_scheme, dest_dtype=np.float32, roi=None):\n",
    "        assert roi is None\n",
    "        \n",
    "        # FIXME: stop after processing `num_frames`\n",
    "        for tile in self._tiles:\n",
    "            yield tile"
   ]
  },
  {
   "cell_type": "code",
   "execution_count": 14,
   "id": "hundred-potato",
   "metadata": {},
   "outputs": [
    {
     "data": {
      "text/plain": [
       "3971.3385416666665"
      ]
     },
     "execution_count": 14,
     "metadata": {},
     "output_type": "execute_result"
    }
   ],
   "source": [
    "762497/32/6"
   ]
  },
  {
   "cell_type": "code",
   "execution_count": 15,
   "id": "funky-sensitivity",
   "metadata": {},
   "outputs": [],
   "source": [
    "from libertem.udf.base import UDFRunner"
   ]
  },
  {
   "cell_type": "code",
   "execution_count": 16,
   "id": "thirty-submission",
   "metadata": {},
   "outputs": [],
   "source": [
    "from libertem.executor.base import Environment"
   ]
  },
  {
   "cell_type": "code",
   "execution_count": 17,
   "id": "funded-tragedy",
   "metadata": {},
   "outputs": [],
   "source": [
    "class MsgReaderThread(StoppableThreadMixin, threading.Thread):\n",
    "    def __init__(self, idx, port, affinity_set, sync_state, udfs, local_addr='0.0.0.0', iface='enp193s0f0', timeout=0.1, *args, **kwargs):\n",
    "        self.idx = idx\n",
    "        self.port = port\n",
    "        self.affinity_set = affinity_set\n",
    "        self.iface = iface\n",
    "        self.local_addr = local_addr\n",
    "        self.timeout = timeout\n",
    "        self.sync_state = sync_state\n",
    "        self.sync_timeout = 1  # TODO: make this a parameter?\n",
    "        self.e = threading.Event()\n",
    "        self.udfs = udfs\n",
    "        super().__init__(*args, **kwargs)\n",
    "\n",
    "    def read_loop(self, s):\n",
    "        # NOTE: non-IS data is truncated - we only read the first 0x5758 bytes of the message\n",
    "        buf = bytes_aligned(0x5758)\n",
    "        s.settimeout(self.timeout)\n",
    "        packets = 0\n",
    "        i = 0\n",
    "        while True:\n",
    "            if self.is_stopped():\n",
    "                return\n",
    "            try:\n",
    "                p = s.recvmsg_into([buf])\n",
    "                assert p[0] == 0x5758\n",
    "            except socket.timeout:\n",
    "                continue\n",
    "            \n",
    "            yield (buf, p[1])\n",
    "            packets += 1\n",
    "\n",
    "    def sync(self, read_iter):\n",
    "        \"\"\"\n",
    "        Syncronize all sectors\n",
    "        \"\"\"\n",
    "        frame_ids = set()\n",
    "        \n",
    "        # get the frame ids for the first 32 blocks:\n",
    "        for i in range(32):\n",
    "            p = next(read_iter)\n",
    "            h = np.frombuffer(p[0], dtype=DataBlock.header_dtype, count=1, offset=0)\n",
    "            frame_ids.add(int(h['frame_id']))\n",
    "            \n",
    "        # we send the highest frame_id we see in those 32 blocks:\n",
    "        self.sync_state.set_first_frame_id(max(frame_ids))\n",
    "        \n",
    "        # ... and wait, until all processes have sent their frame_id:\n",
    "        if not self.sync_state.sync_done.wait(timeout=self.sync_timeout):\n",
    "            raise RuntimeError(\"timed out waiting for sync\")\n",
    "        return self.sync_state.get_first_frame_id()\n",
    "    \n",
    "    @property\n",
    "    def x_offset(self):\n",
    "        return self.idx * 256\n",
    "    \n",
    "    def get_tiles(self, read_iter, first_frame_id):\n",
    "        tileshape = Shape((1, 930, 16), sig_dims=2)\n",
    "        buf = zeros_aligned((1, 930, 16), dtype=np.uint16)\n",
    "        buf_flat = buf.reshape((-1,))\n",
    "        \n",
    "        x_offset = self.x_offset\n",
    "        \n",
    "        origin_to_idx = {}\n",
    "        for idx, slice_ in ts.slices:\n",
    "            origin_to_idx[slice_.origin] = idx\n",
    "\n",
    "        for p in read_iter:\n",
    "            decode_uint12_le(inp=p[0][40:], out=buf_flat)\n",
    "            h = np.frombuffer(p[0], dtype=DataBlock.header_dtype, count=1, offset=0)\n",
    "            frame_idx = int(h['frame_id']) - first_frame_id\n",
    "\n",
    "            sig_origin = (\n",
    "                int(h['pixel_y_start']),\n",
    "                int(h['pixel_x_start']) + x_offset\n",
    "            )\n",
    "\n",
    "            tile_slice = Slice(\n",
    "                origin=(frame_idx,) + sig_origin,\n",
    "                shape=tileshape,\n",
    "            )\n",
    "            scheme_idx = origin_to_idx[sig_origin]\n",
    "            dt = DataTile(\n",
    "                buf,\n",
    "                tile_slice=tile_slice,\n",
    "                scheme_idx=scheme_idx,\n",
    "            )\n",
    "            yield dt\n",
    "\n",
    "    def run(self):\n",
    "        print(f\"thread {threading.get_native_id()}\")\n",
    "        os.sched_setaffinity(0, self.affinity_set)\n",
    "        self.e.wait()\n",
    "        print(f\"listening on {self.local_addr}:{self.port}/{GROUP} on {self.iface}\")\n",
    "        \n",
    "        with mcast_socket(self.port, GROUP, self.local_addr, self.iface) as s:\n",
    "            print(\"entry MsgReaderThread, waiting for first packet(s)\")\n",
    "            \n",
    "            first_frame_id = None\n",
    "            i = 0\n",
    "            read_iter = self.read_loop(s)\n",
    "            \n",
    "            first_frame_id = self.sync(read_iter)\n",
    "            \n",
    "            print(f\"synced to {first_frame_id}\")\n",
    "            \n",
    "            tiles = self.get_tiles(read_iter, first_frame_id)\n",
    "            \n",
    "            # FIXME: partitioning\n",
    "            # frames_per_partition = 400\n",
    "            \n",
    "            num_frames = 4000  # less than 10 seconds\n",
    "            \n",
    "            meta = DataSetMeta(\n",
    "                shape=Shape((num_frames, 1860, 2048), sig_dims=2),\n",
    "                image_count=num_frames,\n",
    "                raw_dtype=np.uint16,\n",
    "            )\n",
    "            \n",
    "            partition_slice = Slice(\n",
    "                origin=(0, 0, self.x_offset),\n",
    "                shape=Shape((num_frames, 1860, 256), sig_dims=2),\n",
    "            )\n",
    "            \n",
    "            # let's first create single partition per sector, with size >= what we expect during 10 seconds of runtime\n",
    "            partition = PlaceholderPartition(\n",
    "                meta=meta,\n",
    "                partition_slice=partition_slice,\n",
    "                tiles=tiles,\n",
    "                start_frame=0,\n",
    "                num_frames=num_frames,\n",
    "            )\n",
    "\n",
    "            env = Environment(threads_per_worker=2)  # FIXME?\n",
    "            runner = UDFRunner(udfs)\n",
    "            result = runner.run_for_partition(\n",
    "                partition=partition,\n",
    "                corrections=None,\n",
    "                roi=None,\n",
    "                env=env,\n",
    "            )"
   ]
  },
  {
   "cell_type": "code",
   "execution_count": 18,
   "id": "welcome-assessment",
   "metadata": {},
   "outputs": [],
   "source": [
    "def get_settings_for_sector(idx):\n",
    "    return {\n",
    "        'idx': idx,  # zero-based index of sector\n",
    "        'local_addr': '225.1.1.1',\n",
    "        'port': 2001 + idx,\n",
    "        'affinity_set': {8 + idx},\n",
    "        'iface': 'enp193s0f0' if idx < 4 else 'enp193s0f1',\n",
    "    }"
   ]
  },
  {
   "cell_type": "code",
   "execution_count": 19,
   "id": "welcome-terminal",
   "metadata": {},
   "outputs": [],
   "source": [
    "class MySubProcess(mp.Process):\n",
    "    def __init__(self, idx, sync_state, udfs, *args, **kwargs):\n",
    "        self.idx = idx\n",
    "        self.sync_state = sync_state\n",
    "        super().__init__(*args, **kwargs)\n",
    "        \n",
    "    def run(self):\n",
    "        warmup_buf_out = zeros_aligned((930, 16), dtype=np.uint16).reshape((-1,))\n",
    "        warmup_buf_inp = zeros_aligned(0x5758, dtype=np.uint8)\n",
    "\n",
    "        decode_uint12_le(inp=warmup_buf_inp[40:], out=warmup_buf_out)\n",
    "        \n",
    "        try:\n",
    "            settings = get_settings_for_sector(self.idx)\n",
    "            settings.update({\n",
    "                'sync_state': self.sync_state,\n",
    "                'udfs': udfs,\n",
    "            })\n",
    "            t = MsgReaderThread(**settings)\n",
    "            t.start()\n",
    "            # time.sleep(30) # → uncomment for tracing purposes\n",
    "            t.e.set()  # for debugging, we can delay the start of the actual work in the thread using this event\n",
    "            time.sleep(10)  # TTL: how long should we acquire data?\n",
    "        finally:\n",
    "            t.stop()\n",
    "            t.join()"
   ]
  },
  {
   "cell_type": "code",
   "execution_count": null,
   "id": "operating-patient",
   "metadata": {},
   "outputs": [],
   "source": []
  },
  {
   "cell_type": "markdown",
   "id": "permanent-water",
   "metadata": {},
   "source": [
    "# Run our processes:"
   ]
  },
  {
   "cell_type": "code",
   "execution_count": 20,
   "id": "banner-requirement",
   "metadata": {},
   "outputs": [],
   "source": [
    "from libertem.udf.sum import SumUDF"
   ]
  },
  {
   "cell_type": "code",
   "execution_count": 21,
   "id": "described-billion",
   "metadata": {},
   "outputs": [],
   "source": [
    "ss = SyncState(num_processes=8)\n",
    "processes = []\n",
    "udfs = [SumUDF()]\n",
    "try:\n",
    "    for i in range(8):\n",
    "        p = MySubProcess(idx=i, sync_state=ss, udfs=udfs, )\n",
    "        p.start()\n",
    "        processes.append(p)\n",
    "finally:\n",
    "    for p in processes:\n",
    "        p.join()"
   ]
  },
  {
   "cell_type": "code",
   "execution_count": null,
   "id": "fancy-intersection",
   "metadata": {},
   "outputs": [],
   "source": []
  }
 ],
 "metadata": {
  "kernelspec": {
   "display_name": "Python 3",
   "language": "python",
   "name": "python3"
  },
  "language_info": {
   "codemirror_mode": {
    "name": "ipython",
    "version": 3
   },
   "file_extension": ".py",
   "mimetype": "text/x-python",
   "name": "python",
   "nbconvert_exporter": "python",
   "pygments_lexer": "ipython3",
   "version": "3.8.8"
  }
 },
 "nbformat": 4,
 "nbformat_minor": 5
}
