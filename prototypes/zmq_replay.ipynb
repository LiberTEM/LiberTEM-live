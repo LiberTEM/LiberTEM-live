{
 "cells": [
  {
   "cell_type": "code",
   "execution_count": 1,
   "id": "812e68b2",
   "metadata": {},
   "outputs": [],
   "source": [
    "import zmq\n",
    "import json\n",
    "import mmap\n",
    "import numpy as np"
   ]
  },
  {
   "cell_type": "code",
   "execution_count": 6,
   "id": "8e5e6a6a",
   "metadata": {},
   "outputs": [],
   "source": [
    "filename = \"zmqdump.dat\""
   ]
  },
  {
   "cell_type": "code",
   "execution_count": 4,
   "id": "87486bd7",
   "metadata": {},
   "outputs": [],
   "source": [
    "def read_headers(filename):\n",
    "    with open(filename, mode='rb') as f:\n",
    "        mm = mmap.mmap(f.fileno(), 0, access=mmap.ACCESS_READ)\n",
    "        result = []\n",
    "        try:\n",
    "            index = 0\n",
    "            for i in range(2):\n",
    "                len_field_bytes = mm[index:index+8]\n",
    "                len_field = np.frombuffer(len_field_bytes, dtype=np.int64, count=1)\n",
    "                index += 8\n",
    "                data = mm[index:index+len_field[0]]\n",
    "                result.append(json.loads(data))\n",
    "                index += len(data)\n",
    "        finally:\n",
    "            mm.close()\n",
    "        return result"
   ]
  },
  {
   "cell_type": "code",
   "execution_count": 8,
   "id": "c473afc1",
   "metadata": {},
   "outputs": [
    {
     "data": {
      "text/plain": [
       "[{'header_detail': 'basic', 'htype': 'dheader-1.0', 'series': 1},\n",
       " {'auto_summation': True,\n",
       "  'beam_center_x': 0.0,\n",
       "  'beam_center_y': 0.0,\n",
       "  'bit_depth_image': 32,\n",
       "  'bit_depth_readout': 16,\n",
       "  'chi_increment': 0.0,\n",
       "  'chi_start': 0.0,\n",
       "  'compression': 'bslz4',\n",
       "  'count_time': 0.0999999,\n",
       "  'countrate_correction_applied': True,\n",
       "  'countrate_correction_count_cutoff': 170200,\n",
       "  'data_collection_date': '2022-05-10T15:36:20.175+02:00',\n",
       "  'description': 'Dectris EIGER2 Si 500K',\n",
       "  'detector_distance': 0.0,\n",
       "  'detector_number': 'E-01-0315',\n",
       "  'detector_readout_time': 1e-07,\n",
       "  'detector_translation': [0.0, 0.0, 0.0],\n",
       "  'eiger_fw_version': 'release-2020.2.5rc2',\n",
       "  'element': '',\n",
       "  'flatfield_correction_applied': True,\n",
       "  'frame_count_time': 0.020019979979999998,\n",
       "  'frame_period': 0.020019979979999998,\n",
       "  'frame_time': 0.1,\n",
       "  'kappa_increment': 0.0,\n",
       "  'kappa_start': 0.0,\n",
       "  'nimages': 32,\n",
       "  'ntrigger': 1,\n",
       "  'number_of_excluded_pixels': 5,\n",
       "  'omega_increment': 0.0,\n",
       "  'omega_start': 0.0,\n",
       "  'phi_increment': 0.0,\n",
       "  'phi_start': 0.0,\n",
       "  'photon_energy': 8041.0,\n",
       "  'pixel_mask_applied': True,\n",
       "  'roi_mode': '',\n",
       "  'sensor_material': 'Si',\n",
       "  'sensor_thickness': 0.00045,\n",
       "  'software_version': '1.8.0',\n",
       "  'threshold_energy': 4020.5,\n",
       "  'trigger_mode': 'ints',\n",
       "  'two_theta_increment': 0.0,\n",
       "  'two_theta_start': 0.0,\n",
       "  'virtual_pixel_correction_applied': True,\n",
       "  'wavelength': 1.5419002416764116,\n",
       "  'x_pixel_size': 7.5e-05,\n",
       "  'x_pixels_in_detector': 1028,\n",
       "  'y_pixel_size': 7.5e-05,\n",
       "  'y_pixels_in_detector': 512}]"
      ]
     },
     "execution_count": 8,
     "metadata": {},
     "output_type": "execute_result"
    }
   ],
   "source": [
    "read_headers(filename)"
   ]
  },
  {
   "cell_type": "code",
   "execution_count": 3,
   "id": "da242203",
   "metadata": {},
   "outputs": [
    {
     "data": {
      "text/plain": [
       "<SocketContext(bind='tcp://127.0.0.1:5014')>"
      ]
     },
     "execution_count": 3,
     "metadata": {},
     "output_type": "execute_result"
    }
   ],
   "source": [
    "context = zmq.Context()\n",
    "zmq_socket = context.socket(zmq.PUSH)\n",
    "HOST = '127.0.0.1'\n",
    "zmq_socket.bind(f\"tcp://{HOST}:5014\")"
   ]
  },
  {
   "cell_type": "code",
   "execution_count": 10,
   "id": "767c1b89",
   "metadata": {},
   "outputs": [],
   "source": [
    "with open(filename, mode='rb') as f:\n",
    "    mm = mmap.mmap(f.fileno(), 0, access=mmap.ACCESS_READ)\n",
    "    try:\n",
    "        index = 0\n",
    "        while index < len(mm):\n",
    "            len_field_bytes = mm[index:index+8]\n",
    "            len_field = np.frombuffer(len_field_bytes, dtype=np.int64, count=1)\n",
    "            index += 8\n",
    "            data = mm[index:index+len_field[0]]\n",
    "            zmq_socket.send(data)\n",
    "            index += len(data)\n",
    "    finally:\n",
    "        mm.close()"
   ]
  },
  {
   "cell_type": "code",
   "execution_count": null,
   "id": "faf33027",
   "metadata": {},
   "outputs": [],
   "source": []
  }
 ],
 "metadata": {
  "kernelspec": {
   "display_name": "Python 3 (ipykernel)",
   "language": "python",
   "name": "python3"
  },
  "language_info": {
   "codemirror_mode": {
    "name": "ipython",
    "version": 3
   },
   "file_extension": ".py",
   "mimetype": "text/x-python",
   "name": "python",
   "nbconvert_exporter": "python",
   "pygments_lexer": "ipython3",
   "version": "3.9.12"
  }
 },
 "nbformat": 4,
 "nbformat_minor": 5
}
