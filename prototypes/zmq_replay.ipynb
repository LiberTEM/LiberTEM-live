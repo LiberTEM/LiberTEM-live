{
 "cells": [
  {
   "cell_type": "code",
   "execution_count": 1,
   "id": "812e68b2",
   "metadata": {},
   "outputs": [],
   "source": [
    "import zmq\n",
    "import mmap\n",
    "import numpy as np"
   ]
  },
  {
   "cell_type": "code",
   "execution_count": 2,
   "id": "8e5e6a6a",
   "metadata": {},
   "outputs": [],
   "source": [
    "filename = \"zmqdump.dat\""
   ]
  },
  {
   "cell_type": "code",
   "execution_count": 3,
   "id": "da242203",
   "metadata": {},
   "outputs": [
    {
     "data": {
      "text/plain": [
       "<SocketContext(bind='tcp://127.0.0.1:5014')>"
      ]
     },
     "execution_count": 3,
     "metadata": {},
     "output_type": "execute_result"
    }
   ],
   "source": [
    "context = zmq.Context()\n",
    "zmq_socket = context.socket(zmq.PUSH)\n",
    "HOST = '127.0.0.1'\n",
    "zmq_socket.bind(f\"tcp://{HOST}:5014\")"
   ]
  },
  {
   "cell_type": "code",
   "execution_count": 10,
   "id": "767c1b89",
   "metadata": {},
   "outputs": [],
   "source": [
    "with open(filename, mode='rb') as f:\n",
    "    mm = mmap.mmap(f.fileno(), 0, access=mmap.ACCESS_READ)\n",
    "    try:\n",
    "        index = 0\n",
    "        while index < len(mm):\n",
    "            len_field_bytes = mm[index:index+8]\n",
    "            len_field = np.frombuffer(len_field_bytes, dtype=np.int64, count=1)\n",
    "            index += 8\n",
    "            data = mm[index:index+len_field[0]]\n",
    "            zmq_socket.send(data)\n",
    "            index += len(data)\n",
    "    finally:\n",
    "        mm.close()"
   ]
  },
  {
   "cell_type": "code",
   "execution_count": null,
   "id": "faf33027",
   "metadata": {},
   "outputs": [],
   "source": []
  }
 ],
 "metadata": {
  "kernelspec": {
   "display_name": "Python 3 (ipykernel)",
   "language": "python",
   "name": "python3"
  },
  "language_info": {
   "codemirror_mode": {
    "name": "ipython",
    "version": 3
   },
   "file_extension": ".py",
   "mimetype": "text/x-python",
   "name": "python",
   "nbconvert_exporter": "python",
   "pygments_lexer": "ipython3",
   "version": "3.9.12"
  }
 },
 "nbformat": 4,
 "nbformat_minor": 5
}
