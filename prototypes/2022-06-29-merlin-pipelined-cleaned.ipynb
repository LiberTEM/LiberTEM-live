{
 "cells": [
  {
   "cell_type": "code",
   "execution_count": 1,
   "id": "bb4a3083",
   "metadata": {},
   "outputs": [
    {
     "name": "stdout",
     "output_type": "stream",
     "text": [
      "env: OTEL_ENABLE=1\n",
      "env: OTEL_EXPORTER_OTLP_ENDPOINT=http://localhost:4317\n"
     ]
    }
   ],
   "source": [
    "%env OTEL_ENABLE=1\n",
    "%env OTEL_EXPORTER_OTLP_ENDPOINT=http://localhost:4317\n",
    "%matplotlib nbagg"
   ]
  },
  {
   "cell_type": "code",
   "execution_count": 2,
   "id": "1a8e3769",
   "metadata": {},
   "outputs": [],
   "source": [
    "# set this to the host/port where the merlin data server is listening:\n",
    "MERLIN_DATA_SOCKET = ('127.0.0.1', 6342)\n",
    "MERLIN_CONTROL_SOCKET = ('127.0.0.1', 6341)\n",
    "NAV_SHAPE = (128, 128)\n",
    "SIG_SHAPE = (256, 256)"
   ]
  },
  {
   "cell_type": "code",
   "execution_count": 3,
   "id": "ef5d8758",
   "metadata": {},
   "outputs": [],
   "source": [
    "from matplotlib import pyplot as plt"
   ]
  },
  {
   "cell_type": "code",
   "execution_count": 4,
   "id": "69c82638",
   "metadata": {},
   "outputs": [],
   "source": [
    "import time\n",
    "import os\n",
    "import numpy as np\n",
    "\n",
    "from libertem_live.detectors.merlin.acquisition import MerlinAcquisition\n",
    "from libertem_live.detectors.merlin import MerlinControl\n",
    "from libertem.executor.pipelined import PipelinedExecutor\n",
    "from libertem.executor.inline import InlineJobExecutor\n",
    "from libertem_live.api import LiveContext\n",
    "from libertem.viz.bqp import BQLive2DPlot\n",
    "from libertem.udf.sumsigudf import SumSigUDF"
   ]
  },
  {
   "cell_type": "code",
   "execution_count": 5,
   "id": "02d230f3",
   "metadata": {},
   "outputs": [],
   "source": [
    "from libertem.common.tracing import maybe_setup_tracing"
   ]
  },
  {
   "cell_type": "code",
   "execution_count": 6,
   "id": "a0501690",
   "metadata": {},
   "outputs": [],
   "source": [
    "maybe_setup_tracing(service_name=\"notebook-main\")"
   ]
  },
  {
   "cell_type": "code",
   "execution_count": 7,
   "id": "1458047b",
   "metadata": {},
   "outputs": [],
   "source": [
    "from libertem.udf import UDF"
   ]
  },
  {
   "cell_type": "code",
   "execution_count": 8,
   "id": "88ba7052",
   "metadata": {},
   "outputs": [],
   "source": [
    "c = MerlinControl(*MERLIN_CONTROL_SOCKET)"
   ]
  },
  {
   "cell_type": "code",
   "execution_count": 9,
   "id": "44e76580",
   "metadata": {},
   "outputs": [],
   "source": [
    "def trigger(aq):\n",
    "    with c:\n",
    "        c.cmd('STARTACQUISITION')\n",
    "    \n",
    "    with c:\n",
    "        c.cmd('SOFTTRIGGER')"
   ]
  },
  {
   "cell_type": "code",
   "execution_count": 10,
   "id": "744915cd",
   "metadata": {},
   "outputs": [],
   "source": [
    "ctx = LiveContext()"
   ]
  },
  {
   "cell_type": "code",
   "execution_count": 11,
   "id": "8acdd2c0",
   "metadata": {},
   "outputs": [],
   "source": [
    "aq = ctx.prepare_acquisition(\n",
    "    'merlin',\n",
    "    trigger=trigger,\n",
    "    nav_shape=NAV_SHAPE,\n",
    "    sig_shape=SIG_SHAPE,\n",
    "    host=MERLIN_DATA_SOCKET[0],\n",
    "    port=MERLIN_DATA_SOCKET[1],\n",
    "    frames_per_partition=128,\n",
    "    pool_size=2,\n",
    "    timeout=5,\n",
    ")"
   ]
  },
  {
   "cell_type": "code",
   "execution_count": 12,
   "id": "dcf7d991",
   "metadata": {
    "scrolled": false
   },
   "outputs": [
    {
     "name": "stdout",
     "output_type": "stream",
     "text": [
      "(128, 128, 256, 256) uint8\n"
     ]
    },
    {
     "data": {
      "application/vnd.jupyter.widget-view+json": {
       "model_id": "8fad36e77c5b49e78f117560a7cf3bde",
       "version_major": 2,
       "version_minor": 0
      },
      "text/plain": [
       "Figure(axes=[Axis(label='x', scale=LinearScale(max=1.0, min=0.0)), Axis(label='y', orientation='vertical', sca…"
      ]
     },
     "metadata": {},
     "output_type": "display_data"
    },
    {
     "name": "stdout",
     "output_type": "stream",
     "text": [
      "1.315303087234497\n"
     ]
    }
   ],
   "source": [
    "executor = PipelinedExecutor(n_workers=12)\n",
    "# executor = InlineJobExecutor()\n",
    "try:\n",
    "    print(aq.shape, aq.dtype)\n",
    "    ctx = LiveContext(executor=executor, plot_class=BQLive2DPlot)\n",
    "    t0 = time.time()\n",
    "    ress = [ctx.run_udf(dataset=aq, udf=SumSigUDF(), plots=True)]    \n",
    "    t1 = time.time()\n",
    "    print(t1-t0)\n",
    "finally:\n",
    "    executor.close()"
   ]
  }
 ],
 "metadata": {
  "kernelspec": {
   "display_name": "Python 3 (ipykernel)",
   "language": "python",
   "name": "python3"
  },
  "language_info": {
   "codemirror_mode": {
    "name": "ipython",
    "version": 3
   },
   "file_extension": ".py",
   "mimetype": "text/x-python",
   "name": "python",
   "nbconvert_exporter": "python",
   "pygments_lexer": "ipython3",
   "version": "3.9.7"
  }
 },
 "nbformat": 4,
 "nbformat_minor": 5
}
