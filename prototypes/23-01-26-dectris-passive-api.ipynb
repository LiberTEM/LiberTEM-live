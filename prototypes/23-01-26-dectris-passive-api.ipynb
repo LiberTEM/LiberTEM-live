{
 "cells": [
  {
   "cell_type": "markdown",
   "id": "512f7a43",
   "metadata": {},
   "source": [
    "# Passive API prototyping"
   ]
  },
  {
   "cell_type": "code",
   "execution_count": 1,
   "id": "a1210a7d",
   "metadata": {},
   "outputs": [],
   "source": [
    "%matplotlib nbagg"
   ]
  },
  {
   "cell_type": "code",
   "execution_count": 2,
   "id": "47cddebb",
   "metadata": {},
   "outputs": [],
   "source": [
    "import ipywidgets"
   ]
  },
  {
   "cell_type": "code",
   "execution_count": 3,
   "id": "b1862413",
   "metadata": {},
   "outputs": [],
   "source": [
    "import os"
   ]
  },
  {
   "cell_type": "code",
   "execution_count": 4,
   "id": "eb38982a",
   "metadata": {},
   "outputs": [
    {
     "data": {
      "text/plain": [
       "658969"
      ]
     },
     "execution_count": 4,
     "metadata": {},
     "output_type": "execute_result"
    }
   ],
   "source": [
    "os.getpid()"
   ]
  },
  {
   "cell_type": "code",
   "execution_count": 5,
   "id": "df32982c",
   "metadata": {},
   "outputs": [
    {
     "data": {
      "text/html": [
       "\n",
       "    <style>\n",
       "        div#notebook-container    { width: 95%; }\n",
       "        div#menubar-container     { width: 65%; }\n",
       "        div#maintoolbar-container { width: 99%; }\n",
       "    </style>\n",
       "    "
      ],
      "text/plain": [
       "<IPython.core.display.HTML object>"
      ]
     },
     "metadata": {},
     "output_type": "display_data"
    }
   ],
   "source": [
    "# Thx Mat!\n",
    "def notebook_fullwidth():\n",
    "    from IPython.display import display, HTML\n",
    "    \"\"\"Set notebook display to 95% fullwidth for more available space\"\"\"\n",
    "    display(HTML(data=\"\"\"\n",
    "    <style>\n",
    "        div#notebook-container    { width: 95%; }\n",
    "        div#menubar-container     { width: 65%; }\n",
    "        div#maintoolbar-container { width: 99%; }\n",
    "    </style>\n",
    "    \"\"\"))\n",
    "notebook_fullwidth()"
   ]
  },
  {
   "cell_type": "code",
   "execution_count": 6,
   "id": "25164641",
   "metadata": {},
   "outputs": [
    {
     "name": "stdout",
     "output_type": "stream",
     "text": [
      "env: OTEL_ENABLE=1\n",
      "env: OTEL_EXPORTER_OTLP_ENDPOINT=http://localhost:4317\n",
      "env: LIBERTEM_DECTRIS_LOG_LEVEL=debug\n",
      "env: OMP_NUM_THREADS=1\n"
     ]
    }
   ],
   "source": [
    "%env OTEL_ENABLE=1\n",
    "%env OTEL_EXPORTER_OTLP_ENDPOINT=http://localhost:4317\n",
    "%env LIBERTEM_DECTRIS_LOG_LEVEL=debug\n",
    "%env OMP_NUM_THREADS=1"
   ]
  },
  {
   "cell_type": "code",
   "execution_count": 7,
   "id": "0bca7e47",
   "metadata": {},
   "outputs": [],
   "source": [
    "from matplotlib import pyplot as plt"
   ]
  },
  {
   "cell_type": "code",
   "execution_count": 8,
   "id": "c0dca116",
   "metadata": {},
   "outputs": [],
   "source": [
    "import time\n",
    "\n",
    "import numpy as np\n",
    "\n",
    "from libertem_live.detectors.dectris.acquisition import DectrisAcquisition, DectrisDetectorConnection\n",
    "from libertem_live.detectors.dectris.DEigerClient import DEigerClient\n",
    "from libertem_dectris import DectrisConnection\n",
    "from libertem.executor.pipelined import PipelinedExecutor\n",
    "from libertem.executor.inline import InlineJobExecutor\n",
    "from libertem_live.api import LiveContext\n",
    "from libertem.api import Context\n",
    "from libertem.udf.sum import SumUDF\n",
    "from libertem.viz.bqp import BQLive2DPlot\n",
    "from libertem.udf.sumsigudf import SumSigUDF\n",
    "from libertem.udf.sum import SumUDF\n",
    "from libertem.udf.masks import ApplyMasksUDF"
   ]
  },
  {
   "cell_type": "code",
   "execution_count": 9,
   "id": "a8916e2d",
   "metadata": {},
   "outputs": [],
   "source": [
    "from libertem.udf import UDF\n",
    "from libertem.udf.base import NoOpUDF"
   ]
  },
  {
   "cell_type": "code",
   "execution_count": 10,
   "id": "4d840236",
   "metadata": {},
   "outputs": [],
   "source": [
    "from libertem.common.tracing import maybe_setup_tracing"
   ]
  },
  {
   "cell_type": "code",
   "execution_count": 11,
   "id": "c1debd02",
   "metadata": {},
   "outputs": [],
   "source": [
    "maybe_setup_tracing(service_name=\"notebook-main\")"
   ]
  },
  {
   "cell_type": "code",
   "execution_count": 12,
   "id": "eead4fd4",
   "metadata": {},
   "outputs": [],
   "source": [
    "executor = PipelinedExecutor(\n",
    "    spec=PipelinedExecutor.make_spec(\n",
    "        cpus=range(14), cudas=[0]\n",
    "    ),\n",
    "    pin_workers=True,\n",
    "    delayed_gc=False,\n",
    ")"
   ]
  },
  {
   "cell_type": "code",
   "execution_count": 13,
   "id": "4cca9290",
   "metadata": {},
   "outputs": [],
   "source": [
    "ctx = LiveContext(executor=executor, plot_class=BQLive2DPlot)"
   ]
  },
  {
   "cell_type": "code",
   "execution_count": 14,
   "id": "8eed16a1",
   "metadata": {},
   "outputs": [],
   "source": [
    "def trigger(aq):\n",
    "    pass"
   ]
  },
  {
   "cell_type": "code",
   "execution_count": 15,
   "id": "c902f01f",
   "metadata": {},
   "outputs": [
    {
     "data": {
      "application/vnd.jupyter.widget-view+json": {
       "model_id": "54a8ff6cf76c4da68ea8247301d97804",
       "version_major": 2,
       "version_minor": 0
      },
      "text/plain": [
       "Output()"
      ]
     },
     "metadata": {},
     "output_type": "display_data"
    }
   ],
   "source": [
    "placeholder = ipywidgets.Output()\n",
    "placeholder"
   ]
  },
  {
   "cell_type": "code",
   "execution_count": 16,
   "id": "87688143",
   "metadata": {
    "scrolled": true
   },
   "outputs": [
    {
     "name": "stderr",
     "output_type": "stream",
     "text": [
      "\u001b[0m\u001b[38;5;8m[\u001b[0m2023-01-27T14:40:29Z \u001b[0m\u001b[32mINFO \u001b[0m libertem_dectris::common\u001b[0m\u001b[38;5;8m]\u001b[0m monitoring DectrisReceiver: CONNECT_DELAYED @ tcp://127.0.0.1:9999\n",
      "\u001b[0m\u001b[38;5;8m[\u001b[0m2023-01-27T14:40:29Z \u001b[0m\u001b[32mINFO \u001b[0m libertem_dectris::common\u001b[0m\u001b[38;5;8m]\u001b[0m monitoring DectrisReceiver: CONNECTED @ tcp://127.0.0.1:9999\n",
      "\u001b[0m\u001b[38;5;8m[\u001b[0m2023-01-27T14:40:29Z \u001b[0m\u001b[32mINFO \u001b[0m libertem_dectris::common\u001b[0m\u001b[38;5;8m]\u001b[0m monitoring DectrisReceiver: HANDSHAKE_SUCCEEDED @ tcp://127.0.0.1:9999\n"
     ]
    },
    {
     "name": "stdout",
     "output_type": "stream",
     "text": [
      "got pending acquisition: <DectrisPendingAcquisition series=1134 config=DetectorConfig { ntrigger: 1048576, nimages: 1, trigger_mode: EXTS, x_pixels_in_detector: 96, y_pixels_in_detector: 96, bit_depth_image: 16 }>\n"
     ]
    },
    {
     "name": "stderr",
     "output_type": "stream",
     "text": [
      "\u001b[0m\u001b[38;5;8m[\u001b[0m2023-01-27T14:40:32Z \u001b[0m\u001b[34mDEBUG\u001b[0m libertem_dectris::dectris_py\u001b[0m\u001b[38;5;8m]\u001b[0m dheader: DHeader { htype: \"dheader-1.0\", header_detail: \"basic\", series: 1134 }\n",
      "\u001b[0m\u001b[38;5;8m[\u001b[0m2023-01-27T14:40:37Z \u001b[0m\u001b[32mINFO \u001b[0m libertem_dectris::dectris_py\u001b[0m\u001b[38;5;8m]\u001b[0m done in 5.403885793s, reading acquisition footer...\n",
      "\u001b[0m\u001b[38;5;8m[\u001b[0m2023-01-27T14:40:37Z \u001b[0m\u001b[32mINFO \u001b[0m libertem_dectris::common\u001b[0m\u001b[38;5;8m]\u001b[0m monitoring DectrisReceiver: DISCONNECTED @ tcp://127.0.0.1:9999\n",
      "\u001b[0m\u001b[38;5;8m[\u001b[0m2023-01-27T14:40:37Z \u001b[0m\u001b[32mINFO \u001b[0m libertem_dectris::common\u001b[0m\u001b[38;5;8m]\u001b[0m monitoring DectrisReceiver: CONNECT_RETRIED @ tcp://127.0.0.1:9999\n",
      "\u001b[0m\u001b[38;5;8m[\u001b[0m2023-01-27T14:40:37Z \u001b[0m\u001b[32mINFO \u001b[0m libertem_dectris::common\u001b[0m\u001b[38;5;8m]\u001b[0m monitoring DectrisReceiver: CONNECT_DELAYED @ tcp://127.0.0.1:9999\n",
      "\u001b[0m\u001b[38;5;8m[\u001b[0m2023-01-27T14:40:37Z \u001b[0m\u001b[32mINFO \u001b[0m libertem_dectris::common\u001b[0m\u001b[38;5;8m]\u001b[0m monitoring DectrisReceiver: CLOSED @ tcp://127.0.0.1:9999\n",
      "\u001b[0m\u001b[38;5;8m[\u001b[0m2023-01-27T14:40:37Z \u001b[0m\u001b[32mINFO \u001b[0m libertem_dectris::common\u001b[0m\u001b[38;5;8m]\u001b[0m monitoring DectrisReceiver: CONNECT_RETRIED @ tcp://127.0.0.1:9999\n",
      "\u001b[0m\u001b[38;5;8m[\u001b[0m2023-01-27T14:40:37Z \u001b[0m\u001b[32mINFO \u001b[0m libertem_dectris::common\u001b[0m\u001b[38;5;8m]\u001b[0m monitoring DectrisReceiver: CONNECT_DELAYED @ tcp://127.0.0.1:9999\n",
      "\u001b[0m\u001b[38;5;8m[\u001b[0m2023-01-27T14:40:37Z \u001b[0m\u001b[32mINFO \u001b[0m libertem_dectris::common\u001b[0m\u001b[38;5;8m]\u001b[0m monitoring DectrisReceiver: CLOSED @ tcp://127.0.0.1:9999\n",
      "\u001b[0m\u001b[38;5;8m[\u001b[0m2023-01-27T14:40:37Z \u001b[0m\u001b[32mINFO \u001b[0m libertem_dectris::common\u001b[0m\u001b[38;5;8m]\u001b[0m monitoring DectrisReceiver: CONNECT_RETRIED @ tcp://127.0.0.1:9999\n",
      "\u001b[0m\u001b[38;5;8m[\u001b[0m2023-01-27T14:40:38Z \u001b[0m\u001b[32mINFO \u001b[0m libertem_dectris::common\u001b[0m\u001b[38;5;8m]\u001b[0m monitoring DectrisReceiver: CONNECT_DELAYED @ tcp://127.0.0.1:9999\n",
      "\u001b[0m\u001b[38;5;8m[\u001b[0m2023-01-27T14:40:38Z \u001b[0m\u001b[32mINFO \u001b[0m libertem_dectris::common\u001b[0m\u001b[38;5;8m]\u001b[0m monitoring DectrisReceiver: CLOSED @ tcp://127.0.0.1:9999\n",
      "\u001b[0m\u001b[38;5;8m[\u001b[0m2023-01-27T14:40:38Z \u001b[0m\u001b[32mINFO \u001b[0m libertem_dectris::common\u001b[0m\u001b[38;5;8m]\u001b[0m monitoring DectrisReceiver: CONNECT_RETRIED @ tcp://127.0.0.1:9999\n",
      "\u001b[0m\u001b[38;5;8m[\u001b[0m2023-01-27T14:40:38Z \u001b[0m\u001b[32mINFO \u001b[0m libertem_dectris::common\u001b[0m\u001b[38;5;8m]\u001b[0m monitoring DectrisReceiver: CONNECT_DELAYED @ tcp://127.0.0.1:9999\n",
      "\u001b[0m\u001b[38;5;8m[\u001b[0m2023-01-27T14:40:38Z \u001b[0m\u001b[32mINFO \u001b[0m libertem_dectris::common\u001b[0m\u001b[38;5;8m]\u001b[0m monitoring DectrisReceiver: CLOSED @ tcp://127.0.0.1:9999\n",
      "\u001b[0m\u001b[38;5;8m[\u001b[0m2023-01-27T14:40:38Z \u001b[0m\u001b[32mINFO \u001b[0m libertem_dectris::common\u001b[0m\u001b[38;5;8m]\u001b[0m monitoring DectrisReceiver: CONNECT_RETRIED @ tcp://127.0.0.1:9999\n",
      "\u001b[0m\u001b[38;5;8m[\u001b[0m2023-01-27T14:40:38Z \u001b[0m\u001b[32mINFO \u001b[0m libertem_dectris::common\u001b[0m\u001b[38;5;8m]\u001b[0m monitoring DectrisReceiver: CONNECT_DELAYED @ tcp://127.0.0.1:9999\n",
      "\u001b[0m\u001b[38;5;8m[\u001b[0m2023-01-27T14:40:38Z \u001b[0m\u001b[32mINFO \u001b[0m libertem_dectris::common\u001b[0m\u001b[38;5;8m]\u001b[0m monitoring DectrisReceiver: CLOSED @ tcp://127.0.0.1:9999\n",
      "\u001b[0m\u001b[38;5;8m[\u001b[0m2023-01-27T14:40:38Z \u001b[0m\u001b[32mINFO \u001b[0m libertem_dectris::common\u001b[0m\u001b[38;5;8m]\u001b[0m monitoring DectrisReceiver: CONNECT_RETRIED @ tcp://127.0.0.1:9999\n",
      "\u001b[0m\u001b[38;5;8m[\u001b[0m2023-01-27T14:40:38Z \u001b[0m\u001b[32mINFO \u001b[0m libertem_dectris::common\u001b[0m\u001b[38;5;8m]\u001b[0m monitoring DectrisReceiver: CONNECT_DELAYED @ tcp://127.0.0.1:9999\n",
      "\u001b[0m\u001b[38;5;8m[\u001b[0m2023-01-27T14:40:38Z \u001b[0m\u001b[32mINFO \u001b[0m libertem_dectris::common\u001b[0m\u001b[38;5;8m]\u001b[0m monitoring DectrisReceiver: CLOSED @ tcp://127.0.0.1:9999\n",
      "\u001b[0m\u001b[38;5;8m[\u001b[0m2023-01-27T14:40:38Z \u001b[0m\u001b[32mINFO \u001b[0m libertem_dectris::common\u001b[0m\u001b[38;5;8m]\u001b[0m monitoring DectrisReceiver: CONNECT_RETRIED @ tcp://127.0.0.1:9999\n",
      "thread 'bg_thread' panicked at 'called `Result::unwrap()` on an `Err` value: Resource temporarily unavailable', src/dectris_py.rs:514:38\n",
      "note: run with `RUST_BACKTRACE=1` environment variable to display a backtrace\n",
      "\u001b[0m\u001b[38;5;8m[\u001b[0m2023-01-27T14:40:38Z \u001b[0m\u001b[34mDEBUG\u001b[0m zmq\u001b[0m\u001b[38;5;8m]\u001b[0m socket dropped\n",
      "thread '<unnamed>' panicked at 'background thread should be running', src/dectris_py.rs:775:21\n",
      "\u001b[0m\u001b[38;5;8m[\u001b[0m2023-01-27T14:40:38Z \u001b[0m\u001b[32mINFO \u001b[0m libertem_dectris::common\u001b[0m\u001b[38;5;8m]\u001b[0m monitoring DectrisReceiver: MONITOR_STOPPED @ \n",
      "\u001b[0m\u001b[38;5;8m[\u001b[0m2023-01-27T14:40:38Z \u001b[0m\u001b[34mDEBUG\u001b[0m zmq\u001b[0m\u001b[38;5;8m]\u001b[0m socket dropped\n",
      "\u001b[0m\u001b[38;5;8m[\u001b[0m2023-01-27T14:40:38Z \u001b[0m\u001b[34mDEBUG\u001b[0m zmq\u001b[0m\u001b[38;5;8m]\u001b[0m context dropped\n",
      "\u001b[0m\u001b[38;5;8m[\u001b[0m2023-01-27T14:40:38Z \u001b[0m\u001b[34mDEBUG\u001b[0m libertem_dectris::dectris_py\u001b[0m\u001b[38;5;8m]\u001b[0m Stats: frames seen: 1048459, total payload size: 1679767393, total slot size used: 5114159104, min frame size: 1449, max frame size: 1774, splits: 7903, shm efficiency: 0.3284543\n",
      "\u001b[0m\u001b[38;5;8m[\u001b[0m2023-01-27T14:40:38Z \u001b[0m\u001b[33mWARN \u001b[0m libertem_dectris::dectris_py\u001b[0m\u001b[38;5;8m]\u001b[0m could not stop background thread, probably already dead\n",
      "thread '<unnamed>' panicked at 'could not join background thread!: Any { .. }', src/dectris_py.rs:815:18\n"
     ]
    },
    {
     "ename": "PanicException",
     "evalue": "could not join background thread!: Any { .. }",
     "output_type": "error",
     "traceback": [
      "\u001b[0;31m---------------------------------------------------------------------------\u001b[0m",
      "\u001b[0;31mPanicException\u001b[0m                            Traceback (most recent call last)",
      "\u001b[0;32m/tmp/ipykernel_658969/2739576944.py\u001b[0m in \u001b[0;36m<module>\u001b[0;34m\u001b[0m\n\u001b[1;32m     50\u001b[0m         \u001b[0mconn\u001b[0m\u001b[0;34m.\u001b[0m\u001b[0mlog_stats\u001b[0m\u001b[0;34m(\u001b[0m\u001b[0;34m)\u001b[0m\u001b[0;34m\u001b[0m\u001b[0;34m\u001b[0m\u001b[0m\n\u001b[1;32m     51\u001b[0m \u001b[0;32mfinally\u001b[0m\u001b[0;34m:\u001b[0m\u001b[0;34m\u001b[0m\u001b[0;34m\u001b[0m\u001b[0m\n\u001b[0;32m---> 52\u001b[0;31m     \u001b[0mconn\u001b[0m\u001b[0;34m.\u001b[0m\u001b[0mclose\u001b[0m\u001b[0;34m(\u001b[0m\u001b[0;34m)\u001b[0m\u001b[0;34m\u001b[0m\u001b[0;34m\u001b[0m\u001b[0m\n\u001b[0m",
      "\u001b[0;32m~/source/modules/LiberTEM-live/src/libertem_live/detectors/dectris/acquisition.py\u001b[0m in \u001b[0;36mclose\u001b[0;34m(self)\u001b[0m\n\u001b[1;32m    405\u001b[0m \u001b[0;34m\u001b[0m\u001b[0m\n\u001b[1;32m    406\u001b[0m     \u001b[0;32mdef\u001b[0m \u001b[0mclose\u001b[0m\u001b[0;34m(\u001b[0m\u001b[0mself\u001b[0m\u001b[0;34m)\u001b[0m\u001b[0;34m:\u001b[0m\u001b[0;34m\u001b[0m\u001b[0;34m\u001b[0m\u001b[0m\n\u001b[0;32m--> 407\u001b[0;31m         \u001b[0mself\u001b[0m\u001b[0;34m.\u001b[0m\u001b[0m_conn\u001b[0m\u001b[0;34m.\u001b[0m\u001b[0mclose\u001b[0m\u001b[0;34m(\u001b[0m\u001b[0;34m)\u001b[0m\u001b[0;34m\u001b[0m\u001b[0;34m\u001b[0m\u001b[0m\n\u001b[0m\u001b[1;32m    408\u001b[0m         \u001b[0mself\u001b[0m\u001b[0;34m.\u001b[0m\u001b[0m_conn\u001b[0m \u001b[0;34m=\u001b[0m \u001b[0;32mNone\u001b[0m\u001b[0;34m\u001b[0m\u001b[0;34m\u001b[0m\u001b[0m\n\u001b[1;32m    409\u001b[0m \u001b[0;34m\u001b[0m\u001b[0m\n",
      "\u001b[0;31mPanicException\u001b[0m: could not join background thread!: Any { .. }"
     ]
    }
   ],
   "source": [
    "conn = DectrisDetectorConnection(\n",
    "    data_host=\"127.0.0.1\",\n",
    "    data_port=9999,\n",
    "    api_host=\"127.0.0.1\",\n",
    "    api_port=8910,\n",
    "    frame_stack_size=24,\n",
    "    num_slots=4000,\n",
    "    bytes_per_frame=18000, # int(134*512/4),  # approx.\n",
    "    huge_pages=True,\n",
    ")\n",
    "\n",
    "try:\n",
    "    while True:\n",
    "        pending_aq = conn.wait_for_acquisition(3600)\n",
    "        if pending_aq is None:  # timeout\n",
    "            continue\n",
    "\n",
    "        print(f\"got pending acquisition: {pending_aq}\")\n",
    "        import math\n",
    "        side_length = int(math.sqrt(pending_aq.detector_config.get_num_frames()))\n",
    "\n",
    "        # create an acquisition from a pending acquisition:\n",
    "        aq = ctx.prepare_acquisition(\n",
    "            'dectris',\n",
    "            conn=conn,\n",
    "            pending_aq=pending_aq,\n",
    "\n",
    "            nav_shape=(side_length, side_length),\n",
    "\n",
    "            trigger=trigger,\n",
    "            #name_pattern=\"$id-from-libertem\",\n",
    "\n",
    "            # this can't be too large, as that will overflow the shared memory\n",
    "            # (too much data is sent to a single process, which can't keep up in decompression and computation)\n",
    "            # this can't be too small, as you'll get per-partition overheads\n",
    "            frames_per_partition=1024,\n",
    "        )\n",
    "\n",
    "        udf = SumSigUDF()\n",
    "\n",
    "        placeholder.clear_output()\n",
    "        with placeholder:\n",
    "            plot = BQLive2DPlot(channel='intensity', min_delta=0.2, dataset=aq, udf=udf)\n",
    "            plot.display()\n",
    "\n",
    "        t0 = time.perf_counter()\n",
    "        ress = [ctx.run_udf(dataset=aq, udf=udf, plots=[plot])]\n",
    "        t1 = time.perf_counter()\n",
    "        print(f\"elapsed: {t1-t0}\")\n",
    "        conn.log_stats()\n",
    "finally:\n",
    "    conn.close()"
   ]
  },
  {
   "cell_type": "code",
   "execution_count": null,
   "id": "260a3a2b",
   "metadata": {},
   "outputs": [],
   "source": []
  }
 ],
 "metadata": {
  "kernelspec": {
   "display_name": "Python 3 (ipykernel)",
   "language": "python",
   "name": "python3"
  },
  "language_info": {
   "codemirror_mode": {
    "name": "ipython",
    "version": 3
   },
   "file_extension": ".py",
   "mimetype": "text/x-python",
   "name": "python",
   "nbconvert_exporter": "python",
   "pygments_lexer": "ipython3",
   "version": "3.9.7"
  }
 },
 "nbformat": 4,
 "nbformat_minor": 5
}
