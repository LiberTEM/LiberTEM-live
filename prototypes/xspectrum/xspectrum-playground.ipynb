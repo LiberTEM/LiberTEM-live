{
 "cells": [
  {
   "cell_type": "code",
   "execution_count": 1,
   "id": "a829870a",
   "metadata": {},
   "outputs": [],
   "source": [
    "%load_ext autoreload"
   ]
  },
  {
   "cell_type": "code",
   "execution_count": 2,
   "id": "c5b747fa",
   "metadata": {},
   "outputs": [],
   "source": [
    "%matplotlib nbagg"
   ]
  },
  {
   "cell_type": "code",
   "execution_count": 3,
   "id": "e1877a08",
   "metadata": {},
   "outputs": [],
   "source": [
    "%load_ext line_profiler"
   ]
  },
  {
   "cell_type": "code",
   "execution_count": null,
   "id": "701a440c",
   "metadata": {},
   "outputs": [],
   "source": [
    "import time\n",
    "\n",
    "import numpy as np\n",
    "\n",
    "import xspcontrol as xc\n",
    "import pyxsp as px"
   ]
  },
  {
   "cell_type": "code",
   "execution_count": null,
   "id": "2bb63bbd",
   "metadata": {},
   "outputs": [],
   "source": [
    "s = px.System('/opt/xsp/config/system.yml')\n",
    "if s is None:\n",
    "    raise RuntimeError('X-Spectrum system creation failed, aborting.')\n",
    "s.connect()\n",
    "s.initialize()\n",
    "d = s.open_detector('lambda')\n",
    "r = s.open_receiver('lambda/1')"
   ]
  },
  {
   "cell_type": "code",
   "execution_count": null,
   "id": "c9a841ff",
   "metadata": {},
   "outputs": [],
   "source": [
    "s.list_receivers()"
   ]
  },
  {
   "cell_type": "code",
   "execution_count": null,
   "id": "41d48613",
   "metadata": {},
   "outputs": [],
   "source": [
    "d.number_of_frames"
   ]
  },
  {
   "cell_type": "code",
   "execution_count": null,
   "id": "80e66a2d",
   "metadata": {},
   "outputs": [],
   "source": [
    "while not r.ram_allocated:\n",
    "    time.sleep(0.1)\n",
    "while not d.voltage_settled(1):\n",
    "    time.sleep(0.1)"
   ]
  },
  {
   "cell_type": "code",
   "execution_count": null,
   "id": "87ad9c32",
   "metadata": {},
   "outputs": [],
   "source": [
    "d.number_of_frames = 2\n",
    "d.start_acquisition()\n",
    "print(\"frame_depth\", r.frame_depth)\n",
    "try:\n",
    "    for i in range(11):\n",
    "        f = r.get_frame()\n",
    "        try:\n",
    "            print(\"nr\", f.nr)\n",
    "            print(\"subframe\", f.subframe)\n",
    "            print(\"connector\", f.connector)\n",
    "            print(\"status_code\", f.status_code)\n",
    "            print(\"data\", type(f.data), f.data)\n",
    "            print(\"seq\", f.seq)\n",
    "            print(\"trigger\", f.trigger)\n",
    "        finally:\n",
    "            r.release_frame(f)\n",
    "finally:\n",
    "    d.stop_acquisition()"
   ]
  },
  {
   "cell_type": "code",
   "execution_count": null,
   "id": "dc158a94",
   "metadata": {},
   "outputs": [],
   "source": [
    "d.number_of_frames = 1\n",
    "d.start_acquisition()\n",
    "# print(r.frame_depth)\n",
    "\n",
    "f = r.get_frame()\n",
    "print(\"nr\", f.nr)\n",
    "print(\"subframe\", f.subframe)\n",
    "print(\"connector\", f.connector)\n",
    "print(\"status_code\", f.status_code)\n",
    "print(\"data\", type(f.data), f.data)\n",
    "print(\"seq\", f.seq)\n",
    "print(\"trigger\", f.trigger)\n"
   ]
  },
  {
   "cell_type": "code",
   "execution_count": null,
   "id": "a34977a3",
   "metadata": {},
   "outputs": [],
   "source": [
    "r.release_frame(f)\n",
    "d.stop_acquisition()"
   ]
  },
  {
   "cell_type": "code",
   "execution_count": null,
   "id": "d39120d7",
   "metadata": {},
   "outputs": [],
   "source": [
    "r.frame_depth"
   ]
  },
  {
   "cell_type": "code",
   "execution_count": 7,
   "id": "2924f103",
   "metadata": {},
   "outputs": [],
   "source": [
    "%autoreload\n",
    "from libertem_live.api import LiveContext\n",
    "from libertem_live.detectors.xspectrum import XSpectrumAcquisition\n",
    "from libertem_live.detectors.xspectrum.acquisition import XSpectrumCommHandler\n",
    "from libertem_live.udf.monitor import SignalMonitorUDF\n",
    "from libertem.viz.bqp import BQLive2DPlot\n"
   ]
  },
  {
   "cell_type": "code",
   "execution_count": 8,
   "id": "b0ad6253",
   "metadata": {},
   "outputs": [
    {
     "name": "stderr",
     "output_type": "stream",
     "text": [
      "fatal: not a git repository: /code/LiberTEM/../../../../../.git/modules/LiberTEM\n",
      "fatal: not a git repository: /code/LiberTEM/../../../../../.git/modules/LiberTEM\n",
      "fatal: not a git repository: /code/LiberTEM/../../../../../.git/modules/LiberTEM\n",
      "fatal: not a git repository: /code/LiberTEM/../../../../../.git/modules/LiberTEM\n"
     ]
    }
   ],
   "source": [
    "%autoreload\n",
    "ctx = LiveContext(plot_class=BQLive2DPlot)"
   ]
  },
  {
   "cell_type": "code",
   "execution_count": null,
   "id": "5b0432e5",
   "metadata": {},
   "outputs": [],
   "source": [
    "%autoreload\n",
    "aq = XSpectrumAcquisition(nav_shape=(128, 4), trigger=lambda aq: None)"
   ]
  },
  {
   "cell_type": "code",
   "execution_count": null,
   "id": "23e0e4eb",
   "metadata": {},
   "outputs": [],
   "source": [
    "%autoreload\n",
    "aq = aq.initialize(ctx.executor)"
   ]
  },
  {
   "cell_type": "code",
   "execution_count": null,
   "id": "016af85f",
   "metadata": {
    "scrolled": false
   },
   "outputs": [],
   "source": [
    "ctx.run_udf(dataset=aq, udf=SignalMonitorUDF(), plots=True, progress=True)"
   ]
  },
  {
   "cell_type": "code",
   "execution_count": null,
   "id": "e50e56da",
   "metadata": {},
   "outputs": [],
   "source": [
    "# lprun -f XSpectrumCommHandler.handle_task ctx.run_udf(dataset=aq, udf=SignalMonitorUDF(), plots=True, progress=True)"
   ]
  },
  {
   "cell_type": "code",
   "execution_count": 20,
   "id": "fdde218f",
   "metadata": {},
   "outputs": [],
   "source": [
    "from unittest import mock\n",
    "from contextlib import contextmanager\n",
    "import numpy as np"
   ]
  },
  {
   "cell_type": "code",
   "execution_count": null,
   "id": "37d6c1ef",
   "metadata": {},
   "outputs": [],
   "source": [
    "@contextmanager\n",
    "def connect():\n",
    "    import pyxsp as px\n",
    "\n",
    "    s = px.System('/opt/xsp/config/system.yml')\n",
    "    if s is None:\n",
    "        raise RuntimeError('X-Spectrum system creation failed, aborting.')\n",
    "    try:\n",
    "        s.connect()\n",
    "        s.initialize()\n",
    "\n",
    "        d = tuple(s.open_detector(id) for id in s.list_detectors())\n",
    "        r = tuple(s.open_receiver(id) for id in s.list_receivers())\n",
    "        yield DetectorConnection(\n",
    "            system=s,\n",
    "            detectors=d,\n",
    "            receivers=r,\n",
    "        )\n",
    "    finally:\n",
    "        pass"
   ]
  },
  {
   "cell_type": "code",
   "execution_count": null,
   "id": "bcde1765",
   "metadata": {},
   "outputs": [],
   "source": [
    "import sys\n",
    "from typing import NamedTuple \n",
    "\n",
    "def test():\n",
    "    import pyxsp as px\n",
    "    print('test', px)\n",
    "\n",
    "with mock.patch.dict(sys.modules, {'pyxsp': mock.MagicMock()}):\n",
    "    data = np.random.randint(0, 23, (23, 42, 74))\n",
    "    \n",
    "\n",
    "        \n",
    "    test()\n",
    "    \n",
    "    class MockDetectorReceiver(mock.MagicMixin):\n",
    "        '''\n",
    "        An instance of this mocks the detector and\n",
    "        the receiver simultaneously since that makes\n",
    "        management of settings, counters etc easier.\n",
    "        '''\n",
    "        def __init__(self, data):\n",
    "            assert len(data.shape) == 3\n",
    "            self._data = data\n",
    "            self._counter = 0\n",
    "            self._seq = 0\n",
    "            self.number_of_frames = 1\n",
    "            self.frame_depth = data.itemsize * 8\n",
    "        \n",
    "        def get_frame(self, timeout=None):\n",
    "            if self._counter >= self.number_of_frames:\n",
    "                return None\n",
    "            index = self._counter % len(self._data)\n",
    "            result_data = self._data[index].flatten()\n",
    "            \n",
    "            result = mock.MagicMock()\n",
    "            result.seq = self._seq\n",
    "            result.nr = self._counter\n",
    "            result.data = memoryview(result_data)\n",
    "            \n",
    "            self._seq += 1\n",
    "            self._counter += 1\n",
    "            return result\n",
    "        \n",
    "        \n",
    "        @property\n",
    "        def frame_height(self):\n",
    "            return self._data.shape[1]\n",
    "        \n",
    "        @property\n",
    "        def frame_height(self):\n",
    "            return self._data.shape[1]\n",
    "        \n",
    "        def start_acquisition(self):\n",
    "            self.counter = 0\n",
    "    \n",
    "    class DetectorConnection(NamedTuple):\n",
    "        system: object\n",
    "        detectors: object\n",
    "        receivers: object\n",
    "    \n",
    "    \n",
    "    mock_detectorreceiver = MockDetectorReceiver(data)\n",
    "    \n",
    "    import pyxsp as px\n",
    "    \n",
    "    print(px)\n",
    "    mock_system = mock.MagicMock()\n",
    "    mock_system.list_detectors = mock.MagicMock(return_value=('lambda',))\n",
    "    mock_system.list_receivers = mock.MagicMock(return_value=('lambda/1',))\n",
    "    \n",
    "    mock_system.open_detector = mock.MagicMock(return_value=mock_detectorreceiver)\n",
    "    mock_system.open_receiver = mock.MagicMock(return_value=mock_detectorreceiver)\n",
    "    \n",
    "    px.System = mock.MagicMock(return_value=mock_system)\n",
    "    \n",
    "    with connect() as connection:\n",
    "\n",
    "        s = px.System()\n",
    "        print(s, s.list_detectors())\n",
    "        print(connection)\n",
    "        "
   ]
  },
  {
   "cell_type": "code",
   "execution_count": 10,
   "id": "a4013ed7",
   "metadata": {},
   "outputs": [],
   "source": [
    "from libertem_live.detectors.xspectrum.mock import mock_xspectrum\n",
    "import numpy as np"
   ]
  },
  {
   "cell_type": "code",
   "execution_count": 21,
   "id": "798050bb",
   "metadata": {
    "scrolled": false
   },
   "outputs": [
    {
     "data": {
      "application/vnd.jupyter.widget-view+json": {
       "model_id": "78aa68316ed842eba13be21aa9715cff",
       "version_major": 2,
       "version_minor": 0
      },
      "text/plain": [
       "Figure(axes=[Axis(label='x', scale=LinearScale(max=1.0, min=0.0)), Axis(label='y', orientation='vertical', sca…"
      ]
     },
     "metadata": {},
     "output_type": "display_data"
    },
    {
     "name": "stderr",
     "output_type": "stream",
     "text": [
      "100%|█████████████████████████████████████████████████████████████████████████████████████████████████████████████████████| 4/4 [00:01<00:00,  2.12it/s]\n"
     ]
    }
   ],
   "source": [
    "%autoreload\n",
    "data = np.random.randint(0, 23, (23, 42, 51))\n",
    "with mock_xspectrum(data):\n",
    "    trigger = mock.MagicMock(return_value=None)\n",
    "    aq = XSpectrumAcquisition(nav_shape=(128, 4), trigger=trigger)\n",
    "    aq = aq.initialize(ctx.executor)\n",
    "    ctx.run_udf(dataset=aq, udf=SignalMonitorUDF(), plots=True, progress=True)\n",
    "    \n",
    "    trigger.assert_called_with(aq)"
   ]
  },
  {
   "cell_type": "code",
   "execution_count": null,
   "id": "3a3ff796",
   "metadata": {},
   "outputs": [],
   "source": []
  }
 ],
 "metadata": {
  "kernelspec": {
   "display_name": "Python 3 (ipykernel)",
   "language": "python",
   "name": "python3"
  },
  "language_info": {
   "codemirror_mode": {
    "name": "ipython",
    "version": 3
   },
   "file_extension": ".py",
   "mimetype": "text/x-python",
   "name": "python",
   "nbconvert_exporter": "python",
   "pygments_lexer": "ipython3",
   "version": "3.7.3"
  }
 },
 "nbformat": 4,
 "nbformat_minor": 5
}
